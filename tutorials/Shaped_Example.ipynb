{
 "cells": [
  {
   "cell_type": "markdown",
   "id": "64912faf",
   "metadata": {},
   "source": [
    "This notebook will walk you through an example of setting up a model for a movies dataset stored in a parquet file and then fetching ranked movies for a specific user.\n",
    "\n",
    "Let's get started! 🚀"
   ]
  },
  {
   "cell_type": "markdown",
   "id": "b3f8240f",
   "metadata": {},
   "source": [
    "### Setup"
   ]
  },
  {
   "cell_type": "markdown",
   "id": "40680972",
   "metadata": {},
   "source": [
    "Replace `<YOUR_API_KEY>` with your API key below.\n",
    "\n",
    "*If you don't have an API Key, feel free to [signup on our website](https://www.shaped.ai/#contact-us) :)*"
   ]
  },
  {
   "cell_type": "code",
   "execution_count": 1,
   "id": "e86cab99",
   "metadata": {},
   "outputs": [],
   "source": [
    "import os\n",
    "\n",
    "SHAPED_API_KEY = os.getenv(\"SHAPED_KEY\")"
   ]
  },
  {
   "cell_type": "markdown",
   "id": "21421238",
   "metadata": {},
   "source": [
    "Install the packages needed:\n",
    "- `requests` is needed for making HTTP requests\n",
    "- `pandas` is needed for handling the data\n",
    "- `boto3` is needed for making calls to AWS, specifically s3\n",
    "- `pyarrow` is needed for creating the parquet file from the downloaded dataset"
   ]
  },
  {
   "cell_type": "code",
   "execution_count": 2,
   "id": "7ef4cefc",
   "metadata": {
    "scrolled": true
   },
   "outputs": [
    {
     "name": "stdout",
     "output_type": "stream",
     "text": [
      "Requirement already satisfied: requests in /opt/homebrew/Caskroom/miniforge/base/lib/python3.9/site-packages (2.27.1)\n",
      "Requirement already satisfied: urllib3<1.27,>=1.21.1 in /opt/homebrew/Caskroom/miniforge/base/lib/python3.9/site-packages (from requests) (1.26.9)\n",
      "Requirement already satisfied: certifi>=2017.4.17 in /opt/homebrew/Caskroom/miniforge/base/lib/python3.9/site-packages (from requests) (2022.5.18.1)\n",
      "Requirement already satisfied: idna<4,>=2.5 in /opt/homebrew/Caskroom/miniforge/base/lib/python3.9/site-packages (from requests) (3.3)\n",
      "Requirement already satisfied: charset-normalizer~=2.0.0 in /opt/homebrew/Caskroom/miniforge/base/lib/python3.9/site-packages (from requests) (2.0.12)\n",
      "Requirement already satisfied: pandas in /opt/homebrew/Caskroom/miniforge/base/lib/python3.9/site-packages (1.4.4)\n",
      "Requirement already satisfied: pytz>=2020.1 in /opt/homebrew/Caskroom/miniforge/base/lib/python3.9/site-packages (from pandas) (2022.2.1)\n",
      "Requirement already satisfied: python-dateutil>=2.8.1 in /opt/homebrew/Caskroom/miniforge/base/lib/python3.9/site-packages (from pandas) (2.8.2)\n",
      "Requirement already satisfied: numpy>=1.20.0 in /opt/homebrew/Caskroom/miniforge/base/lib/python3.9/site-packages (from pandas) (1.23.3)\n",
      "Requirement already satisfied: six>=1.5 in /opt/homebrew/Caskroom/miniforge/base/lib/python3.9/site-packages (from python-dateutil>=2.8.1->pandas) (1.16.0)\n",
      "Requirement already satisfied: boto3 in /opt/homebrew/Caskroom/miniforge/base/lib/python3.9/site-packages (1.24.70)\n",
      "Requirement already satisfied: jmespath<2.0.0,>=0.7.1 in /opt/homebrew/Caskroom/miniforge/base/lib/python3.9/site-packages (from boto3) (1.0.1)\n",
      "Requirement already satisfied: botocore<1.28.0,>=1.27.70 in /opt/homebrew/Caskroom/miniforge/base/lib/python3.9/site-packages (from boto3) (1.27.70)\n",
      "Requirement already satisfied: s3transfer<0.7.0,>=0.6.0 in /opt/homebrew/Caskroom/miniforge/base/lib/python3.9/site-packages (from boto3) (0.6.0)\n",
      "Requirement already satisfied: python-dateutil<3.0.0,>=2.1 in /opt/homebrew/Caskroom/miniforge/base/lib/python3.9/site-packages (from botocore<1.28.0,>=1.27.70->boto3) (2.8.2)\n",
      "Requirement already satisfied: urllib3<1.27,>=1.25.4 in /opt/homebrew/Caskroom/miniforge/base/lib/python3.9/site-packages (from botocore<1.28.0,>=1.27.70->boto3) (1.26.9)\n",
      "Requirement already satisfied: six>=1.5 in /opt/homebrew/Caskroom/miniforge/base/lib/python3.9/site-packages (from python-dateutil<3.0.0,>=2.1->botocore<1.28.0,>=1.27.70->boto3) (1.16.0)\n",
      "Requirement already satisfied: pyarrow in /opt/homebrew/Caskroom/miniforge/base/lib/python3.9/site-packages (9.0.0)\n",
      "Requirement already satisfied: numpy>=1.16.6 in /opt/homebrew/Caskroom/miniforge/base/lib/python3.9/site-packages (from pyarrow) (1.23.3)\n"
     ]
    }
   ],
   "source": [
    "!pip install requests\n",
    "!pip install pandas\n",
    "!pip install boto3\n",
    "!pip install pyarrow"
   ]
  },
  {
   "cell_type": "markdown",
   "id": "a29093ac",
   "metadata": {},
   "source": [
    "Import the modules needed."
   ]
  },
  {
   "cell_type": "code",
   "execution_count": 3,
   "id": "3a05fb9b",
   "metadata": {},
   "outputs": [],
   "source": [
    "from urllib.request import urlretrieve\n",
    "import requests\n",
    "import zipfile\n",
    "import pandas as pd\n",
    "from IPython.display import display\n",
    "import json\n",
    "from datetime import datetime\n",
    "import pyarrow as pa\n",
    "import pyarrow.parquet as pq"
   ]
  },
  {
   "cell_type": "markdown",
   "id": "ef322ca0",
   "metadata": {},
   "source": [
    "### Download Public Dataset"
   ]
  },
  {
   "cell_type": "markdown",
   "id": "6f3f3a19",
   "metadata": {},
   "source": [
    "Fetch the publicly hosted movie dataset."
   ]
  },
  {
   "cell_type": "code",
   "execution_count": 4,
   "id": "e0f89d23",
   "metadata": {},
   "outputs": [
    {
     "name": "stdout",
     "output_type": "stream",
     "text": [
      "Downloading movielens data...\n",
      "\n",
      "Dataset contains:\n",
      "943 users\n",
      "1682 items\n",
      "100000 ratings\n",
      "\n"
     ]
    }
   ],
   "source": [
    "print(\"Downloading movielens data...\")\n",
    "print()\n",
    "\n",
    "urlretrieve(\"http://files.grouplens.org/datasets/movielens/ml-100k.zip\", \"movielens.zip\")\n",
    "zip_ref = zipfile.ZipFile('movielens.zip', \"r\")\n",
    "zip_ref.extractall()\n",
    "\n",
    "print(\"Dataset contains:\")\n",
    "print(zip_ref.read('ml-100k/u.info').decode('UTF-8'))"
   ]
  },
  {
   "cell_type": "markdown",
   "id": "47e694ae",
   "metadata": {},
   "source": [
    "Let's take a look at the downloaded dataset. There are three tables of interest:\n",
    "- `ratings` which are stored in `ml-100k/u.data`\n",
    "- `users` which are stored in `ml-100k/u.user`\n",
    "- `movies` which are stored in `ml-100k/u.item`\n",
    "\n",
    "*Note that the `users` and `movies` table have additional columns (also known as \"features\"). Currently Shaped accepts a single table so to input these features to the model, we'd need to join all 3 tables and save a parquet file for that. Then we can define the features in the call to setup the model (shown a few cells below).*\n",
    "\n",
    "*Adding support for easier integration to your data is on our immediate roadmap :)*"
   ]
  },
  {
   "cell_type": "code",
   "execution_count": 5,
   "id": "7d4e5d55",
   "metadata": {},
   "outputs": [
    {
     "data": {
      "text/html": [
       "<div>\n",
       "<style scoped>\n",
       "    .dataframe tbody tr th:only-of-type {\n",
       "        vertical-align: middle;\n",
       "    }\n",
       "\n",
       "    .dataframe tbody tr th {\n",
       "        vertical-align: top;\n",
       "    }\n",
       "\n",
       "    .dataframe thead th {\n",
       "        text-align: right;\n",
       "    }\n",
       "</style>\n",
       "<table border=\"1\" class=\"dataframe\">\n",
       "  <thead>\n",
       "    <tr style=\"text-align: right;\">\n",
       "      <th></th>\n",
       "      <th>user_id</th>\n",
       "      <th>movie_id</th>\n",
       "      <th>rating</th>\n",
       "      <th>unix_timestamp</th>\n",
       "    </tr>\n",
       "  </thead>\n",
       "  <tbody>\n",
       "    <tr>\n",
       "      <th>0</th>\n",
       "      <td>196</td>\n",
       "      <td>242</td>\n",
       "      <td>3</td>\n",
       "      <td>881250949</td>\n",
       "    </tr>\n",
       "    <tr>\n",
       "      <th>1</th>\n",
       "      <td>186</td>\n",
       "      <td>302</td>\n",
       "      <td>3</td>\n",
       "      <td>891717742</td>\n",
       "    </tr>\n",
       "    <tr>\n",
       "      <th>2</th>\n",
       "      <td>22</td>\n",
       "      <td>377</td>\n",
       "      <td>1</td>\n",
       "      <td>878887116</td>\n",
       "    </tr>\n",
       "    <tr>\n",
       "      <th>3</th>\n",
       "      <td>244</td>\n",
       "      <td>51</td>\n",
       "      <td>2</td>\n",
       "      <td>880606923</td>\n",
       "    </tr>\n",
       "    <tr>\n",
       "      <th>4</th>\n",
       "      <td>166</td>\n",
       "      <td>346</td>\n",
       "      <td>1</td>\n",
       "      <td>886397596</td>\n",
       "    </tr>\n",
       "  </tbody>\n",
       "</table>\n",
       "</div>"
      ],
      "text/plain": [
       "   user_id  movie_id  rating  unix_timestamp\n",
       "0      196       242       3       881250949\n",
       "1      186       302       3       891717742\n",
       "2       22       377       1       878887116\n",
       "3      244        51       2       880606923\n",
       "4      166       346       1       886397596"
      ]
     },
     "metadata": {},
     "output_type": "display_data"
    },
    {
     "data": {
      "text/html": [
       "<div>\n",
       "<style scoped>\n",
       "    .dataframe tbody tr th:only-of-type {\n",
       "        vertical-align: middle;\n",
       "    }\n",
       "\n",
       "    .dataframe tbody tr th {\n",
       "        vertical-align: top;\n",
       "    }\n",
       "\n",
       "    .dataframe thead th {\n",
       "        text-align: right;\n",
       "    }\n",
       "</style>\n",
       "<table border=\"1\" class=\"dataframe\">\n",
       "  <thead>\n",
       "    <tr style=\"text-align: right;\">\n",
       "      <th></th>\n",
       "      <th>user_id</th>\n",
       "      <th>age</th>\n",
       "      <th>sex</th>\n",
       "      <th>occupation</th>\n",
       "      <th>zip_code</th>\n",
       "    </tr>\n",
       "  </thead>\n",
       "  <tbody>\n",
       "    <tr>\n",
       "      <th>0</th>\n",
       "      <td>1</td>\n",
       "      <td>24</td>\n",
       "      <td>M</td>\n",
       "      <td>technician</td>\n",
       "      <td>85711</td>\n",
       "    </tr>\n",
       "    <tr>\n",
       "      <th>1</th>\n",
       "      <td>2</td>\n",
       "      <td>53</td>\n",
       "      <td>F</td>\n",
       "      <td>other</td>\n",
       "      <td>94043</td>\n",
       "    </tr>\n",
       "    <tr>\n",
       "      <th>2</th>\n",
       "      <td>3</td>\n",
       "      <td>23</td>\n",
       "      <td>M</td>\n",
       "      <td>writer</td>\n",
       "      <td>32067</td>\n",
       "    </tr>\n",
       "    <tr>\n",
       "      <th>3</th>\n",
       "      <td>4</td>\n",
       "      <td>24</td>\n",
       "      <td>M</td>\n",
       "      <td>technician</td>\n",
       "      <td>43537</td>\n",
       "    </tr>\n",
       "    <tr>\n",
       "      <th>4</th>\n",
       "      <td>5</td>\n",
       "      <td>33</td>\n",
       "      <td>F</td>\n",
       "      <td>other</td>\n",
       "      <td>15213</td>\n",
       "    </tr>\n",
       "  </tbody>\n",
       "</table>\n",
       "</div>"
      ],
      "text/plain": [
       "   user_id  age sex  occupation zip_code\n",
       "0        1   24   M  technician    85711\n",
       "1        2   53   F       other    94043\n",
       "2        3   23   M      writer    32067\n",
       "3        4   24   M  technician    43537\n",
       "4        5   33   F       other    15213"
      ]
     },
     "metadata": {},
     "output_type": "display_data"
    },
    {
     "data": {
      "text/html": [
       "<div>\n",
       "<style scoped>\n",
       "    .dataframe tbody tr th:only-of-type {\n",
       "        vertical-align: middle;\n",
       "    }\n",
       "\n",
       "    .dataframe tbody tr th {\n",
       "        vertical-align: top;\n",
       "    }\n",
       "\n",
       "    .dataframe thead th {\n",
       "        text-align: right;\n",
       "    }\n",
       "</style>\n",
       "<table border=\"1\" class=\"dataframe\">\n",
       "  <thead>\n",
       "    <tr style=\"text-align: right;\">\n",
       "      <th></th>\n",
       "      <th>movie_id</th>\n",
       "      <th>title</th>\n",
       "      <th>release_date</th>\n",
       "      <th>video_release_date</th>\n",
       "      <th>imdb_url</th>\n",
       "      <th>genre_unknown</th>\n",
       "      <th>Action</th>\n",
       "      <th>Adventure</th>\n",
       "      <th>Animation</th>\n",
       "      <th>Children</th>\n",
       "      <th>...</th>\n",
       "      <th>Fantasy</th>\n",
       "      <th>Film-Noir</th>\n",
       "      <th>Horror</th>\n",
       "      <th>Musical</th>\n",
       "      <th>Mystery</th>\n",
       "      <th>Romance</th>\n",
       "      <th>Sci-Fi</th>\n",
       "      <th>Thriller</th>\n",
       "      <th>War</th>\n",
       "      <th>Western</th>\n",
       "    </tr>\n",
       "  </thead>\n",
       "  <tbody>\n",
       "    <tr>\n",
       "      <th>0</th>\n",
       "      <td>1</td>\n",
       "      <td>Toy Story (1995)</td>\n",
       "      <td>01-Jan-1995</td>\n",
       "      <td>NaN</td>\n",
       "      <td>http://us.imdb.com/M/title-exact?Toy%20Story%2...</td>\n",
       "      <td>0</td>\n",
       "      <td>0</td>\n",
       "      <td>0</td>\n",
       "      <td>1</td>\n",
       "      <td>1</td>\n",
       "      <td>...</td>\n",
       "      <td>0</td>\n",
       "      <td>0</td>\n",
       "      <td>0</td>\n",
       "      <td>0</td>\n",
       "      <td>0</td>\n",
       "      <td>0</td>\n",
       "      <td>0</td>\n",
       "      <td>0</td>\n",
       "      <td>0</td>\n",
       "      <td>0</td>\n",
       "    </tr>\n",
       "    <tr>\n",
       "      <th>1</th>\n",
       "      <td>2</td>\n",
       "      <td>GoldenEye (1995)</td>\n",
       "      <td>01-Jan-1995</td>\n",
       "      <td>NaN</td>\n",
       "      <td>http://us.imdb.com/M/title-exact?GoldenEye%20(...</td>\n",
       "      <td>0</td>\n",
       "      <td>1</td>\n",
       "      <td>1</td>\n",
       "      <td>0</td>\n",
       "      <td>0</td>\n",
       "      <td>...</td>\n",
       "      <td>0</td>\n",
       "      <td>0</td>\n",
       "      <td>0</td>\n",
       "      <td>0</td>\n",
       "      <td>0</td>\n",
       "      <td>0</td>\n",
       "      <td>0</td>\n",
       "      <td>1</td>\n",
       "      <td>0</td>\n",
       "      <td>0</td>\n",
       "    </tr>\n",
       "    <tr>\n",
       "      <th>2</th>\n",
       "      <td>3</td>\n",
       "      <td>Four Rooms (1995)</td>\n",
       "      <td>01-Jan-1995</td>\n",
       "      <td>NaN</td>\n",
       "      <td>http://us.imdb.com/M/title-exact?Four%20Rooms%...</td>\n",
       "      <td>0</td>\n",
       "      <td>0</td>\n",
       "      <td>0</td>\n",
       "      <td>0</td>\n",
       "      <td>0</td>\n",
       "      <td>...</td>\n",
       "      <td>0</td>\n",
       "      <td>0</td>\n",
       "      <td>0</td>\n",
       "      <td>0</td>\n",
       "      <td>0</td>\n",
       "      <td>0</td>\n",
       "      <td>0</td>\n",
       "      <td>1</td>\n",
       "      <td>0</td>\n",
       "      <td>0</td>\n",
       "    </tr>\n",
       "    <tr>\n",
       "      <th>3</th>\n",
       "      <td>4</td>\n",
       "      <td>Get Shorty (1995)</td>\n",
       "      <td>01-Jan-1995</td>\n",
       "      <td>NaN</td>\n",
       "      <td>http://us.imdb.com/M/title-exact?Get%20Shorty%...</td>\n",
       "      <td>0</td>\n",
       "      <td>1</td>\n",
       "      <td>0</td>\n",
       "      <td>0</td>\n",
       "      <td>0</td>\n",
       "      <td>...</td>\n",
       "      <td>0</td>\n",
       "      <td>0</td>\n",
       "      <td>0</td>\n",
       "      <td>0</td>\n",
       "      <td>0</td>\n",
       "      <td>0</td>\n",
       "      <td>0</td>\n",
       "      <td>0</td>\n",
       "      <td>0</td>\n",
       "      <td>0</td>\n",
       "    </tr>\n",
       "    <tr>\n",
       "      <th>4</th>\n",
       "      <td>5</td>\n",
       "      <td>Copycat (1995)</td>\n",
       "      <td>01-Jan-1995</td>\n",
       "      <td>NaN</td>\n",
       "      <td>http://us.imdb.com/M/title-exact?Copycat%20(1995)</td>\n",
       "      <td>0</td>\n",
       "      <td>0</td>\n",
       "      <td>0</td>\n",
       "      <td>0</td>\n",
       "      <td>0</td>\n",
       "      <td>...</td>\n",
       "      <td>0</td>\n",
       "      <td>0</td>\n",
       "      <td>0</td>\n",
       "      <td>0</td>\n",
       "      <td>0</td>\n",
       "      <td>0</td>\n",
       "      <td>0</td>\n",
       "      <td>1</td>\n",
       "      <td>0</td>\n",
       "      <td>0</td>\n",
       "    </tr>\n",
       "  </tbody>\n",
       "</table>\n",
       "<p>5 rows × 24 columns</p>\n",
       "</div>"
      ],
      "text/plain": [
       "   movie_id              title release_date  video_release_date  \\\n",
       "0         1   Toy Story (1995)  01-Jan-1995                 NaN   \n",
       "1         2   GoldenEye (1995)  01-Jan-1995                 NaN   \n",
       "2         3  Four Rooms (1995)  01-Jan-1995                 NaN   \n",
       "3         4  Get Shorty (1995)  01-Jan-1995                 NaN   \n",
       "4         5     Copycat (1995)  01-Jan-1995                 NaN   \n",
       "\n",
       "                                            imdb_url  genre_unknown  Action  \\\n",
       "0  http://us.imdb.com/M/title-exact?Toy%20Story%2...              0       0   \n",
       "1  http://us.imdb.com/M/title-exact?GoldenEye%20(...              0       1   \n",
       "2  http://us.imdb.com/M/title-exact?Four%20Rooms%...              0       0   \n",
       "3  http://us.imdb.com/M/title-exact?Get%20Shorty%...              0       1   \n",
       "4  http://us.imdb.com/M/title-exact?Copycat%20(1995)              0       0   \n",
       "\n",
       "   Adventure  Animation  Children  ...  Fantasy  Film-Noir  Horror  Musical  \\\n",
       "0          0          1         1  ...        0          0       0        0   \n",
       "1          1          0         0  ...        0          0       0        0   \n",
       "2          0          0         0  ...        0          0       0        0   \n",
       "3          0          0         0  ...        0          0       0        0   \n",
       "4          0          0         0  ...        0          0       0        0   \n",
       "\n",
       "   Mystery  Romance  Sci-Fi  Thriller  War  Western  \n",
       "0        0        0       0         0    0        0  \n",
       "1        0        0       0         1    0        0  \n",
       "2        0        0       0         1    0        0  \n",
       "3        0        0       0         0    0        0  \n",
       "4        0        0       0         1    0        0  \n",
       "\n",
       "[5 rows x 24 columns]"
      ]
     },
     "metadata": {},
     "output_type": "display_data"
    }
   ],
   "source": [
    "ratings_cols = ['user_id', 'movie_id', 'rating', 'unix_timestamp']\n",
    "ratings = pd.read_csv('ml-100k/u.data', sep='\\t', names=ratings_cols, encoding='latin-1')\n",
    "display(ratings.head())\n",
    "\n",
    "users_cols = ['user_id', 'age', 'sex', 'occupation', 'zip_code']\n",
    "users = pd.read_csv('ml-100k/u.user', sep='|', names=users_cols, encoding='latin-1')\n",
    "display(users.head())\n",
    "\n",
    "genre_cols = [\n",
    "    \"genre_unknown\", \"Action\", \"Adventure\", \"Animation\", \"Children\", \"Comedy\",\n",
    "    \"Crime\", \"Documentary\", \"Drama\", \"Fantasy\", \"Film-Noir\", \"Horror\",\n",
    "    \"Musical\", \"Mystery\", \"Romance\", \"Sci-Fi\", \"Thriller\", \"War\", \"Western\"\n",
    "]\n",
    "movies_cols = ['movie_id', 'title', 'release_date', \"video_release_date\", \"imdb_url\"] + genre_cols\n",
    "movies = pd.read_csv('ml-100k/u.item', sep='|', names=movies_cols, encoding='latin-1')\n",
    "display(movies.head())"
   ]
  },
  {
   "cell_type": "markdown",
   "id": "db51f80f",
   "metadata": {},
   "source": [
    "### Upload Data to Shaped"
   ]
  },
  {
   "cell_type": "markdown",
   "id": "44152f4a",
   "metadata": {},
   "source": [
    "We need to do a couple of things to the downloaded dataset in order to upload it to Shaped:\n",
    "1) We need to convert the `unix_timestamp` to be a `datetime` with timezone set.\n",
    "2) We need to save the `ratings` file as a parquet file."
   ]
  },
  {
   "cell_type": "code",
   "execution_count": 6,
   "id": "0f6aaf01",
   "metadata": {},
   "outputs": [
    {
     "name": "stdout",
     "output_type": "stream",
     "text": [
      "       user_id  movie_id  rating            unix_timestamp\n",
      "0          196       242       3 1997-12-04 15:55:49+00:00\n",
      "1          186       302       3 1998-04-04 19:22:22+00:00\n",
      "2           22       377       1 1997-11-07 07:18:36+00:00\n",
      "3          244        51       2 1997-11-27 05:02:03+00:00\n",
      "4          166       346       1 1998-02-02 05:33:16+00:00\n",
      "...        ...       ...     ...                       ...\n",
      "99995      880       476       3 1997-11-22 05:10:44+00:00\n",
      "99996      716       204       5 1997-11-17 19:39:03+00:00\n",
      "99997      276      1090       1 1997-09-20 22:49:55+00:00\n",
      "99998       13       225       2 1997-12-17 22:52:36+00:00\n",
      "99999       12       203       3 1997-11-19 17:13:03+00:00\n",
      "\n",
      "[100000 rows x 4 columns]\n"
     ]
    }
   ],
   "source": [
    "ratings['unix_timestamp'] = pd.to_datetime(ratings['unix_timestamp'], unit='s', utc=True)\n",
    "print(ratings)\n",
    "ratings_parquet_filename = 'ratings.parquet'\n",
    "ratings_table = pa.Table.from_pandas(ratings)\n",
    "pq.write_table(ratings_table, where=ratings_parquet_filename)"
   ]
  },
  {
   "cell_type": "markdown",
   "id": "2fb59a55",
   "metadata": {},
   "source": [
    "Once we have all our data prepared, we can upload it using a [`POST` call to the `/models` endpoint](https://shaped.stoplight.io/docs/shaped-api/b3A6NDA5ODEzNjc-create-model). The body of the request contains all the info needed to setup the model. [Please reference the docs for details on each field and their types](https://shaped.stoplight.io/docs/shaped-api/b3A6NDA5ODEzNjc-create-model#request-body).\n",
    "\n",
    "*If you try `POST`ing to the `/models` endpoint multiple times with the same `model_name`, you will encounter an error saying `\"Model with name: '{model_name}' already exists with status: '{status}'\"`. If you would like to update or create a new model with the same `model_name` you must first delete the existing model with `model_name`. You can do that by making a [`DELETE` request to the `/models/{model_name}` endpoint](https://shaped.stoplight.io/docs/shaped-api/b3A6NDA5ODEzNjg-delete-model). The `DELETE` call can be made from the cell in the Clean Up section at the bottom of this notebook.*"
   ]
  },
  {
   "cell_type": "code",
   "execution_count": 7,
   "id": "779eecba",
   "metadata": {
    "scrolled": true
   },
   "outputs": [
    {
     "name": "stdout",
     "output_type": "stream",
     "text": [
      "{\n",
      "  \"error\": \"Required field missing: 'connector_configs'.\"\n",
      "}\n"
     ]
    }
   ],
   "source": [
    "model_name = \"rating_events\"\n",
    "response = requests.post(\n",
    "  \"https://api.prod.shaped.ai/v0/models\",\n",
    "  headers={\n",
    "      \"x-api-key\": SHAPED_API_KEY,\n",
    "      \"Content-Type\":\"application/json\"\n",
    "  },\n",
    "  json={\n",
    "    \"model_name\": model_name,\n",
    "    \"train_schedule\": \"@once\",\n",
    "    \"connector_configs\": [{\n",
    "      \"type\": \"File\"\n",
    "    }],\n",
    "    'schema': {\n",
    "      \"user\": {\n",
    "        \"id\": \"user_id\",\n",
    "        \"source\": \"None\"\n",
    "      },\n",
    "      \"item\": {\n",
    "        \"id\": \"item_id\",\n",
    "        \"source\": \"None\"\n",
    "      },\n",
    "      \"interaction\": {\n",
    "        \"created_at\": \"unix_timestamp\",\n",
    "        \"source\": f\"./{ratings_parquet_filename}\",\n",
    "        \"label\": {\n",
    "            \"name\": \"rating\",\n",
    "            \"type\": \"Rating\"    \n",
    "        }\n",
    "      },\n",
    "    }\n",
    "  }\n",
    ")\n",
    "upload_request = json.loads(response.content)\n",
    "print(json.dumps(upload_request, indent=2))"
   ]
  },
  {
   "cell_type": "markdown",
   "id": "afb8e6ae",
   "metadata": {},
   "source": [
    "The `response` from the `POST` call to the `/models` endpoint returns a json object containing info, namely `'url'` and `'fields'`, about the s3 bucket to upload your data to. So let's go ahead and use those to upload our movie data!\n",
    "\n",
    "*In this example we are using the `File` type in the `connector_config` which requires explicitly uploading the data to an s3 bucket. If we use a different supported type, like `Redshift` for example, the data will be pulled directly from your datasource and won't require you to manually upload it.*"
   ]
  },
  {
   "cell_type": "code",
   "execution_count": 8,
   "id": "66a08345",
   "metadata": {},
   "outputs": [
    {
     "ename": "KeyError",
     "evalue": "'url'",
     "output_type": "error",
     "traceback": [
      "\u001b[0;31m---------------------------------------------------------------------------\u001b[0m",
      "\u001b[0;31mKeyError\u001b[0m                                  Traceback (most recent call last)",
      "Input \u001b[0;32mIn [8]\u001b[0m, in \u001b[0;36m<cell line: 1>\u001b[0;34m()\u001b[0m\n\u001b[1;32m      1\u001b[0m \u001b[38;5;28;01mwith\u001b[39;00m \u001b[38;5;28mopen\u001b[39m(ratings_parquet_filename, \u001b[38;5;124m'\u001b[39m\u001b[38;5;124mrb\u001b[39m\u001b[38;5;124m'\u001b[39m) \u001b[38;5;28;01mas\u001b[39;00m file:\n\u001b[1;32m      2\u001b[0m     files \u001b[38;5;241m=\u001b[39m {\u001b[38;5;124m'\u001b[39m\u001b[38;5;124mfile\u001b[39m\u001b[38;5;124m'\u001b[39m: (ratings_parquet_filename, file)}\n\u001b[0;32m----> 3\u001b[0m     upload_response \u001b[38;5;241m=\u001b[39m requests\u001b[38;5;241m.\u001b[39mpost(\u001b[43mupload_request\u001b[49m\u001b[43m[\u001b[49m\u001b[38;5;124;43m'\u001b[39;49m\u001b[38;5;124;43murl\u001b[39;49m\u001b[38;5;124;43m'\u001b[39;49m\u001b[43m]\u001b[49m, data\u001b[38;5;241m=\u001b[39mupload_request[\u001b[38;5;124m'\u001b[39m\u001b[38;5;124mfields\u001b[39m\u001b[38;5;124m'\u001b[39m], files\u001b[38;5;241m=\u001b[39mfiles)\n\u001b[1;32m      5\u001b[0m \u001b[38;5;28mprint\u001b[39m(\u001b[38;5;124mf\u001b[39m\u001b[38;5;124m\"\u001b[39m\u001b[38;5;124mUpload response: \u001b[39m\u001b[38;5;132;01m{\u001b[39;00mupload_response\u001b[38;5;132;01m}\u001b[39;00m\u001b[38;5;124m\"\u001b[39m)\n",
      "\u001b[0;31mKeyError\u001b[0m: 'url'"
     ]
    }
   ],
   "source": [
    "with open(ratings_parquet_filename, 'rb') as file:\n",
    "    files = {'file': (ratings_parquet_filename, file)}\n",
    "    upload_response = requests.post(upload_request['url'], data=upload_request['fields'], files=files)\n",
    "\n",
    "print(f\"Upload response: {upload_response}\")"
   ]
  },
  {
   "cell_type": "markdown",
   "id": "da878c37",
   "metadata": {},
   "source": [
    "### Rank!"
   ]
  },
  {
   "cell_type": "markdown",
   "id": "a3344515",
   "metadata": {},
   "source": [
    "After we make the `POST` call to `/models`, we can make a [`GET` call to `/models`](https://shaped.stoplight.io/docs/shaped-api/b3A6NDA5ODEzNjY-list-models) to see our newly created model. "
   ]
  },
  {
   "cell_type": "code",
   "execution_count": null,
   "id": "f083f3e3",
   "metadata": {},
   "outputs": [],
   "source": [
    "response = requests.get(\n",
    "    f\"https://api.prod.shaped.ai/v0/models\",\n",
    "    headers={\n",
    "        \"x-api-key\": SHAPED_API_KEY,\n",
    "        \"Content-Type\":\"application/json\"\n",
    "    }\n",
    ")\n",
    "print(json.dumps(json.loads(response.content), indent=2))"
   ]
  },
  {
   "cell_type": "markdown",
   "id": "d27e0445",
   "metadata": {},
   "source": [
    "You'll notice the `\"status\"` of the model you just created is most likely `\"PREPARING\"`. This means that the initial training job hasn't completed yet. Depending on the size of your data this could take up to 30 min. Feel free to keep querying the `/models` endpoint to check the status of your model. When it is ready, the `\"status\"` will read `\"ACTIVE\"`."
   ]
  },
  {
   "cell_type": "markdown",
   "id": "02f3cf22",
   "metadata": {},
   "source": [
    "Once your model is ready (`\"status\": \"ACTIVE\"`), you can hit the [`/models/{model_name}/rank?context_id={context_id}` endpoint](https://shaped.stoplight.io/docs/shaped-api/b3A6NDA5ODEzNjk-get-ranked-results)!\n",
    "\n",
    "Remember, `{context_id}` is the id of the entity (in this example, User) you want to fetch rankings for. You can also add an optional query param, `limit`, which will inform how many results to return (with the default being 5)."
   ]
  },
  {
   "cell_type": "code",
   "execution_count": null,
   "id": "f7275532",
   "metadata": {},
   "outputs": [],
   "source": [
    "response = requests.get(\n",
    "    f\"https://api.prod.shaped.ai/v0/models/{model_name}/rank?context_id=1\",\n",
    "    headers={\n",
    "        \"x-api-key\": SHAPED_API_KEY,\n",
    "        \"Content-Type\":\"application/json\"\n",
    "    }\n",
    ")\n",
    "print(json.dumps(json.loads(response.content), indent=2))"
   ]
  },
  {
   "cell_type": "markdown",
   "id": "99b60aab",
   "metadata": {},
   "source": [
    "Wow! It was that easy to see top 5 rated movies for the passed in `context_id` 🍾. Now let's add ranking to your product :)"
   ]
  },
  {
   "cell_type": "markdown",
   "id": "f0e498cd",
   "metadata": {},
   "source": [
    "### Clean Up"
   ]
  },
  {
   "cell_type": "markdown",
   "id": "c38af39f",
   "metadata": {},
   "source": [
    "__The below code should ONLY be run if you want to delete the model with `model_name`.__"
   ]
  },
  {
   "cell_type": "code",
   "execution_count": null,
   "id": "4ca47e20",
   "metadata": {},
   "outputs": [],
   "source": [
    "response = requests.delete(\n",
    "    f\"https://api.prod.shaped.ai/v0/models/{model_name}\",\n",
    "    headers={\n",
    "        \"x-api-key\": SHAPED_API_KEY,\n",
    "        \"Content-Type\":\"application/json\"\n",
    "    }\n",
    ")\n",
    "print(json.dumps(json.loads(response.content), indent=2))"
   ]
  },
  {
   "cell_type": "code",
   "execution_count": null,
   "id": "deebd25b",
   "metadata": {},
   "outputs": [],
   "source": []
  }
 ],
 "metadata": {
  "kernelspec": {
   "display_name": "Python 3 (ipykernel)",
   "language": "python",
   "name": "python3"
  },
  "language_info": {
   "codemirror_mode": {
    "name": "ipython",
    "version": 3
   },
   "file_extension": ".py",
   "mimetype": "text/x-python",
   "name": "python",
   "nbconvert_exporter": "python",
   "pygments_lexer": "ipython3",
   "version": "3.9.13"
  },
  "vscode": {
   "interpreter": {
    "hash": "431ef8a0f8311dbfcde43370e8ff7cda8e30d7366f613755fd93c0b8fea0a767"
   }
  }
 },
 "nbformat": 4,
 "nbformat_minor": 5
}
