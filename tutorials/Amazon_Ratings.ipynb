{
 "cells": [
  {
   "cell_type": "markdown",
   "id": "28a587ea",
   "metadata": {},
   "source": [
    "This notebook will walk you through: \n",
    "1. importing an Amazon review dataset into a PostgreSQL database\n",
    "2. setting up a model that has the objective of returning a personalized list of the recommended products on a home or discovery page\n",
    "3. fetching ranked products for a specific user\n",
    "\n",
    "*For a more in depth walkthrough of this notebook, checkout the [accompanying blog post](blog_post_link)\n",
    "\n",
    "Let's get started! 🚀"
   ]
  },
  {
   "cell_type": "markdown",
   "id": "29855bc0",
   "metadata": {},
   "source": [
    "### Setup"
   ]
  },
  {
   "cell_type": "markdown",
   "id": "be2a0c57",
   "metadata": {},
   "source": [
    "Replace `SHAPED_API_KEY` with your API key below.\n",
    "\n",
    "*If you don't have an API Key, feel free to [signup on our website](https://www.shaped.ai/#contact-us) :)*"
   ]
  },
  {
   "cell_type": "code",
   "execution_count": 1,
   "id": "c1dd4379",
   "metadata": {},
   "outputs": [],
   "source": [
    "import os\n",
    "\n",
    "SHAPED_API_KEY = os.getenv(\"SHAPED_KEY\")"
   ]
  },
  {
   "cell_type": "markdown",
   "id": "52bcc7ad",
   "metadata": {},
   "source": [
    "Install the packages needed:\n",
    "- `requests` is needed for making HTTP requests\n",
    "- `pandas` is needed for handling the data\n",
    "- `ipython-sql` is needed for connecting with the database\n",
    "- `sqlalchemy` is needed for executing db queries via DBApi's\n",
    "- `psycopg2` is needed for postgresql connection"
   ]
  },
  {
   "cell_type": "code",
   "execution_count": null,
   "id": "9c789c21",
   "metadata": {},
   "outputs": [
    {
     "name": "stdout",
     "output_type": "stream",
     "text": [
      "Requirement already satisfied: requests in /opt/homebrew/Caskroom/miniforge/base/lib/python3.9/site-packages (2.27.1)\n",
      "Requirement already satisfied: idna<4,>=2.5 in /opt/homebrew/Caskroom/miniforge/base/lib/python3.9/site-packages (from requests) (3.3)\n",
      "Requirement already satisfied: urllib3<1.27,>=1.21.1 in /opt/homebrew/Caskroom/miniforge/base/lib/python3.9/site-packages (from requests) (1.26.9)\n",
      "Requirement already satisfied: certifi>=2017.4.17 in /opt/homebrew/Caskroom/miniforge/base/lib/python3.9/site-packages (from requests) (2022.5.18.1)\n",
      "Requirement already satisfied: charset-normalizer~=2.0.0 in /opt/homebrew/Caskroom/miniforge/base/lib/python3.9/site-packages (from requests) (2.0.12)\n",
      "Requirement already satisfied: pandas in /opt/homebrew/Caskroom/miniforge/base/lib/python3.9/site-packages (1.4.4)\n",
      "Requirement already satisfied: python-dateutil>=2.8.1 in /opt/homebrew/Caskroom/miniforge/base/lib/python3.9/site-packages (from pandas) (2.8.2)\n",
      "Requirement already satisfied: numpy>=1.20.0 in /opt/homebrew/Caskroom/miniforge/base/lib/python3.9/site-packages (from pandas) (1.23.3)\n",
      "Requirement already satisfied: pytz>=2020.1 in /opt/homebrew/Caskroom/miniforge/base/lib/python3.9/site-packages (from pandas) (2022.2.1)\n",
      "Requirement already satisfied: six>=1.5 in /opt/homebrew/Caskroom/miniforge/base/lib/python3.9/site-packages (from python-dateutil>=2.8.1->pandas) (1.16.0)\n",
      "Requirement already satisfied: ipython-sql in /opt/homebrew/Caskroom/miniforge/base/lib/python3.9/site-packages (0.4.1)\n",
      "Requirement already satisfied: prettytable<1 in /opt/homebrew/Caskroom/miniforge/base/lib/python3.9/site-packages (from ipython-sql) (0.7.2)\n",
      "Requirement already satisfied: ipython>=1.0 in /opt/homebrew/Caskroom/miniforge/base/lib/python3.9/site-packages (from ipython-sql) (8.5.0)\n",
      "Requirement already satisfied: sqlalchemy>=0.6.7 in /opt/homebrew/Caskroom/miniforge/base/lib/python3.9/site-packages (from ipython-sql) (1.4.41)\n",
      "Requirement already satisfied: sqlparse in /opt/homebrew/Caskroom/miniforge/base/lib/python3.9/site-packages (from ipython-sql) (0.4.2)\n",
      "Requirement already satisfied: ipython-genutils>=0.1.0 in /opt/homebrew/Caskroom/miniforge/base/lib/python3.9/site-packages (from ipython-sql) (0.2.0)\n",
      "Requirement already satisfied: six in /opt/homebrew/Caskroom/miniforge/base/lib/python3.9/site-packages (from ipython-sql) (1.16.0)\n",
      "Requirement already satisfied: prompt-toolkit<3.1.0,>3.0.1 in /opt/homebrew/Caskroom/miniforge/base/lib/python3.9/site-packages (from ipython>=1.0->ipython-sql) (3.0.31)\n",
      "Requirement already satisfied: appnope in /opt/homebrew/Caskroom/miniforge/base/lib/python3.9/site-packages (from ipython>=1.0->ipython-sql) (0.1.3)\n",
      "Requirement already satisfied: backcall in /opt/homebrew/Caskroom/miniforge/base/lib/python3.9/site-packages (from ipython>=1.0->ipython-sql) (0.2.0)\n",
      "Requirement already satisfied: stack-data in /opt/homebrew/Caskroom/miniforge/base/lib/python3.9/site-packages (from ipython>=1.0->ipython-sql) (0.5.0)\n",
      "Requirement already satisfied: matplotlib-inline in /opt/homebrew/Caskroom/miniforge/base/lib/python3.9/site-packages (from ipython>=1.0->ipython-sql) (0.1.6)\n",
      "Requirement already satisfied: jedi>=0.16 in /opt/homebrew/Caskroom/miniforge/base/lib/python3.9/site-packages (from ipython>=1.0->ipython-sql) (0.18.1)\n",
      "Requirement already satisfied: pygments>=2.4.0 in /opt/homebrew/Caskroom/miniforge/base/lib/python3.9/site-packages (from ipython>=1.0->ipython-sql) (2.13.0)\n",
      "Requirement already satisfied: pexpect>4.3 in /opt/homebrew/Caskroom/miniforge/base/lib/python3.9/site-packages (from ipython>=1.0->ipython-sql) (4.8.0)\n",
      "Requirement already satisfied: traitlets>=5 in /opt/homebrew/Caskroom/miniforge/base/lib/python3.9/site-packages (from ipython>=1.0->ipython-sql) (5.4.0)\n",
      "Requirement already satisfied: pickleshare in /opt/homebrew/Caskroom/miniforge/base/lib/python3.9/site-packages (from ipython>=1.0->ipython-sql) (0.7.5)\n",
      "Requirement already satisfied: decorator in /opt/homebrew/Caskroom/miniforge/base/lib/python3.9/site-packages (from ipython>=1.0->ipython-sql) (5.1.1)\n",
      "Requirement already satisfied: parso<0.9.0,>=0.8.0 in /opt/homebrew/Caskroom/miniforge/base/lib/python3.9/site-packages (from jedi>=0.16->ipython>=1.0->ipython-sql) (0.8.3)\n",
      "Requirement already satisfied: ptyprocess>=0.5 in /opt/homebrew/Caskroom/miniforge/base/lib/python3.9/site-packages (from pexpect>4.3->ipython>=1.0->ipython-sql) (0.7.0)\n",
      "Requirement already satisfied: wcwidth in /opt/homebrew/Caskroom/miniforge/base/lib/python3.9/site-packages (from prompt-toolkit<3.1.0,>3.0.1->ipython>=1.0->ipython-sql) (0.2.5)\n",
      "Requirement already satisfied: executing in /opt/homebrew/Caskroom/miniforge/base/lib/python3.9/site-packages (from stack-data->ipython>=1.0->ipython-sql) (1.0.0)\n",
      "Requirement already satisfied: asttokens in /opt/homebrew/Caskroom/miniforge/base/lib/python3.9/site-packages (from stack-data->ipython>=1.0->ipython-sql) (2.0.8)\n",
      "Requirement already satisfied: pure-eval in /opt/homebrew/Caskroom/miniforge/base/lib/python3.9/site-packages (from stack-data->ipython>=1.0->ipython-sql) (0.2.2)\n",
      "Requirement already satisfied: sqlalchemy in /opt/homebrew/Caskroom/miniforge/base/lib/python3.9/site-packages (1.4.41)\n",
      "Requirement already satisfied: psycopg2 in /opt/homebrew/Caskroom/miniforge/base/lib/python3.9/site-packages (2.9.3)\n"
     ]
    }
   ],
   "source": [
    "!pip install requests\n",
    "!pip install pandas\n",
    "!pip install ipython-sql\n",
    "!pip install sqlalchemy\n",
    "!pip install psycopg2"
   ]
  },
  {
   "cell_type": "code",
   "execution_count": 3,
   "id": "0d67bcef",
   "metadata": {},
   "outputs": [],
   "source": [
    "from urllib.request import urlretrieve\n",
    "import requests\n",
    "import pandas as pd\n",
    "from IPython.display import display\n",
    "import json\n",
    "from datetime import datetime\n",
    "import gzip"
   ]
  },
  {
   "cell_type": "markdown",
   "id": "d8575155",
   "metadata": {},
   "source": [
    "### Preview Dataset"
   ]
  },
  {
   "cell_type": "markdown",
   "id": "3b852c8d",
   "metadata": {},
   "source": [
    "[The Amazon dataset](http://jmcauley.ucsd.edu/data/amazon/links.html) has a lot of data! Looking through it, we want the interaction and item data so we'll be using the [ratings only](http://snap.stanford.edu/data/amazon/productGraph/item_dedup.csv) and [metadata](http://snap.stanford.edu/data/amazon/productGraph/metadata.json.gz) datasets respectively.\n",
    "Let's use the script provided by the website and take a look at the relevent columns:"
   ]
  },
  {
   "cell_type": "code",
   "execution_count": null,
   "id": "c1580604",
   "metadata": {},
   "outputs": [],
   "source": [
    "def parse(path):\n",
    "  g = gzip.open(path, 'rb')\n",
    "  for l in g:\n",
    "    yield eval(l)\n",
    "\n",
    "def getDF(path):\n",
    "  i = 0\n",
    "  df = {}\n",
    "  for d in parse(path):\n",
    "    df[i] = d\n",
    "    i += 1\n",
    "  return pd.DataFrame.from_dict(df, orient='index')\n",
    "\n",
    "ratings_only = \"ratings_only.json.gz\"\n",
    "metadata = \"metadata.json.gz\"\n",
    "\n",
    "df = getDF(ratings_only)"
   ]
  },
  {
   "cell_type": "markdown",
   "id": "4cbef37d",
   "metadata": {},
   "source": [
    "- `reviewer_id` which stores the user who is reviewing the item.\n",
    "- `asin` is a unique identification for a product. It will be used as an item to train our models.\n",
    "- `overall` which stores the reviews given by a user."
   ]
  },
  {
   "cell_type": "code",
   "execution_count": 6,
   "id": "9861ad09",
   "metadata": {},
   "outputs": [
    {
     "data": {
      "text/html": [
       "<div>\n",
       "<style scoped>\n",
       "    .dataframe tbody tr th:only-of-type {\n",
       "        vertical-align: middle;\n",
       "    }\n",
       "\n",
       "    .dataframe tbody tr th {\n",
       "        vertical-align: top;\n",
       "    }\n",
       "\n",
       "    .dataframe thead th {\n",
       "        text-align: right;\n",
       "    }\n",
       "</style>\n",
       "<table border=\"1\" class=\"dataframe\">\n",
       "  <thead>\n",
       "    <tr style=\"text-align: right;\">\n",
       "      <th></th>\n",
       "      <th>reviewer_id</th>\n",
       "      <th>asin</th>\n",
       "      <th>reviewer_name</th>\n",
       "      <th>helpful</th>\n",
       "      <th>review_text</th>\n",
       "      <th>overall</th>\n",
       "      <th>summary</th>\n",
       "      <th>unit_review_time</th>\n",
       "      <th>review_time</th>\n",
       "    </tr>\n",
       "  </thead>\n",
       "  <tbody>\n",
       "    <tr>\n",
       "      <th>0</th>\n",
       "      <td>AYPYL1DQOK9TM</td>\n",
       "      <td>B002RUG7K8</td>\n",
       "      <td>Randall Benoit \"rjb\"</td>\n",
       "      <td>[0, 0]</td>\n",
       "      <td>i need a cheep amp to power some pioniers as i...</td>\n",
       "      <td>5.0</td>\n",
       "      <td>hey this 1 contradicts itself but in ACTUAL PO...</td>\n",
       "      <td>1373328000</td>\n",
       "      <td>2013-07-09</td>\n",
       "    </tr>\n",
       "    <tr>\n",
       "      <th>1</th>\n",
       "      <td>AYPYL1DQOK9TM</td>\n",
       "      <td>B002WC7RBO</td>\n",
       "      <td>Randall Benoit \"rjb\"</td>\n",
       "      <td>[0, 2]</td>\n",
       "      <td>ive got 4 12's in two different bandpass boxs ...</td>\n",
       "      <td>5.0</td>\n",
       "      <td>4 12's</td>\n",
       "      <td>1375920000</td>\n",
       "      <td>2013-08-08</td>\n",
       "    </tr>\n",
       "    <tr>\n",
       "      <th>2</th>\n",
       "      <td>AYPYL1DQOK9TM</td>\n",
       "      <td>B004AHQP6W</td>\n",
       "      <td>Randall Benoit \"rjb\"</td>\n",
       "      <td>[0, 0]</td>\n",
       "      <td>in a small box comes many packages of true cop...</td>\n",
       "      <td>5.0</td>\n",
       "      <td>i will most defenatly buy again awsome deal</td>\n",
       "      <td>1394668800</td>\n",
       "      <td>2014-03-13</td>\n",
       "    </tr>\n",
       "    <tr>\n",
       "      <th>3</th>\n",
       "      <td>AYPYL1DQOK9TM</td>\n",
       "      <td>B004AJ4Z62</td>\n",
       "      <td>Randall Benoit \"rjb\"</td>\n",
       "      <td>[0, 0]</td>\n",
       "      <td>twintake I love it looks sexy sound awesome a ...</td>\n",
       "      <td>5.0</td>\n",
       "      <td>tight</td>\n",
       "      <td>1394150400</td>\n",
       "      <td>2014-03-07</td>\n",
       "    </tr>\n",
       "    <tr>\n",
       "      <th>4</th>\n",
       "      <td>AYPYM7ITWJ3SF</td>\n",
       "      <td>B001KFUR9I</td>\n",
       "      <td>blackcamel</td>\n",
       "      <td>[0, 0]</td>\n",
       "      <td>Quality is fine as far as the workmanship and ...</td>\n",
       "      <td>3.0</td>\n",
       "      <td>ah so so</td>\n",
       "      <td>1384819200</td>\n",
       "      <td>2013-11-19</td>\n",
       "    </tr>\n",
       "  </tbody>\n",
       "</table>\n",
       "</div>"
      ],
      "text/plain": [
       "     reviewer_id        asin         reviewer_name helpful  \\\n",
       "0  AYPYL1DQOK9TM  B002RUG7K8  Randall Benoit \"rjb\"  [0, 0]   \n",
       "1  AYPYL1DQOK9TM  B002WC7RBO  Randall Benoit \"rjb\"  [0, 2]   \n",
       "2  AYPYL1DQOK9TM  B004AHQP6W  Randall Benoit \"rjb\"  [0, 0]   \n",
       "3  AYPYL1DQOK9TM  B004AJ4Z62  Randall Benoit \"rjb\"  [0, 0]   \n",
       "4  AYPYM7ITWJ3SF  B001KFUR9I            blackcamel  [0, 0]   \n",
       "\n",
       "                                         review_text overall  \\\n",
       "0  i need a cheep amp to power some pioniers as i...     5.0   \n",
       "1  ive got 4 12's in two different bandpass boxs ...     5.0   \n",
       "2  in a small box comes many packages of true cop...     5.0   \n",
       "3  twintake I love it looks sexy sound awesome a ...     5.0   \n",
       "4  Quality is fine as far as the workmanship and ...     3.0   \n",
       "\n",
       "                                             summary unit_review_time  \\\n",
       "0  hey this 1 contradicts itself but in ACTUAL PO...       1373328000   \n",
       "1                                             4 12's       1375920000   \n",
       "2        i will most defenatly buy again awsome deal       1394668800   \n",
       "3                                              tight       1394150400   \n",
       "4                                           ah so so       1384819200   \n",
       "\n",
       "  review_time  \n",
       "0  2013-07-09  \n",
       "1  2013-08-08  \n",
       "2  2014-03-13  \n",
       "3  2014-03-07  \n",
       "4  2013-11-19  "
      ]
     },
     "execution_count": 6,
     "metadata": {},
     "output_type": "execute_result"
    }
   ],
   "source": [
    "review_df = pd.read_sql('select * from amazon_ratings limit 5', engine)\n",
    "review_df"
   ]
  },
  {
   "cell_type": "markdown",
   "id": "06afc20a",
   "metadata": {},
   "source": [
    "### Setup Endpoint"
   ]
  },
  {
   "cell_type": "markdown",
   "id": "88dbfca9",
   "metadata": {},
   "source": [
    "Once we have all our data prepared, we can upload it using a [`POST` call to the `/models` endpoint](https://docs.shaped.ai/reference/create-model). The body of the request contains all the info needed to setup the model.\n",
    "\n",
    "*If you try `POST`ing to the `/models` endpoint multiple times with the same `model_name`, you will encounter an error saying `\"Model with name: '{model_name}' already exists with status: '{status}'\"`. If you would like to update or create a new model with the same `model_name` you must first delete the existing model with `model_name`. You can do that by making a [`DELETE` request to the `/models/{model_name}` endpoint](https://docs.shaped.ai/reference/delete-model). The `DELETE` call can be made from the cell in the Clean Up section at the bottom of this notebook.*"
   ]
  },
  {
   "cell_type": "code",
   "execution_count": 7,
   "id": "e5a9bc38",
   "metadata": {},
   "outputs": [
    {
     "name": "stdout",
     "output_type": "stream",
     "text": [
      "{}\n",
      "200\n"
     ]
    }
   ],
   "source": [
    "model_name = \"amazon_dataset_postgres\"\n",
    "\n",
    "url = \"https://api.prod.shaped.ai/v0/models/\"\n",
    "\n",
    "payload = json.dumps({\n",
    "  \"connector_configs\": [{\n",
    "    \"id\": \"postgres\",\n",
    "    \"type\": \"Postgres\",\n",
    "    \"user\": \"postgres\",\n",
    "    \"password\": \"FSUIH6x14hqRM5lDQE0v\",\n",
    "    \"host\": \"amazon-ratings.clb5z5lddhvn.us-east-2.rds.amazonaws.com\",\n",
    "    \"port\": 5432,\n",
    "    \"database\": \"amazon\"\n",
    "  }],\n",
    "  \"model_name\": model_name,\n",
    "  \"schema\": {\n",
    "    \"user\": {\n",
    "      \"created_at\": \"event_timestamp\",\n",
    "      \"id\": \"reviewer_id\",\n",
    "      \"source\": {\n",
    "        \"connector_id\": \"postgres\",\n",
    "        \"query\": \"select reviewer_id, reviewer_name, review_time::timestamp as event_timestamp from amazon_ratings limit 1000000\"\n",
    "      }\n",
    "    },\n",
    "    \"item\": {\n",
    "      \"created_at\": \"event_timestamp\",\n",
    "      \"id\": \"asin\",\n",
    "      \"source\": {\n",
    "        \"connector_id\": \"postgres\",\n",
    "        \"query\": \"select asin, helpful, review_text, overall::float, summary, review_time::timestamp as event_timestamp from amazon_ratings limit 1000000\"\n",
    "      }\n",
    "    },\n",
    "    \"interaction\": {\n",
    "      \"created_at\": \"event_timestamp\",\n",
    "      \"label\": {\n",
    "        \"name\": \"overall\",\n",
    "        \"type\": \"Rating\"\n",
    "      },\n",
    "      \"source\": {\n",
    "        \"connector_id\": \"postgres\",\n",
    "        \"query\": \"select reviewer_id, asin, overall::float, review_time::timestamp as event_timestamp from amazon_ratings limit 1000000\"\n",
    "      }\n",
    "    }\n",
    "  }\n",
    "})\n",
    "\n",
    "headers = {\n",
    "  'x-api-key': SHAPED_API_KEY,\n",
    "  'Content-Type': 'application/json'\n",
    "}\n",
    "\n",
    "response = requests.request(\"POST\", url, headers=headers, data=payload)\n",
    "\n",
    "print(json.dumps(json.loads(response.content), indent=2))\n",
    "print(response.status_code)\n",
    "assert response.status_code==200"
   ]
  },
  {
   "cell_type": "markdown",
   "id": "6ba369f3",
   "metadata": {},
   "source": [
    "The `response` from the `POST` call to the `/models` endpoint return a json object on successful execution with a status code of 200. In case of error, status code could be 404 or 409 with a proper error message."
   ]
  },
  {
   "cell_type": "markdown",
   "id": "dadbd93c",
   "metadata": {},
   "source": [
    "### Rank!"
   ]
  },
  {
   "cell_type": "markdown",
   "id": "e49527b3",
   "metadata": {},
   "source": [
    "After we make the `POST` call to `/models`, we can make a [`GET` call to `/models`](https://docs.shaped.ai/reference/list-models) to see our newly created model. "
   ]
  },
  {
   "cell_type": "code",
   "execution_count": 8,
   "id": "056ccb28",
   "metadata": {},
   "outputs": [
    {
     "name": "stdout",
     "output_type": "stream",
     "text": [
      "{\n",
      "  \"models\": [\n",
      "    {\n",
      "      \"created_at\": \"2022-09-12T16:57:06 UTC\",\n",
      "      \"input_schema\": {\n",
      "        \"interaction\": {\n",
      "          \"created_at\": \"event_timestamp\",\n",
      "          \"label\": {\n",
      "            \"name\": \"overall\",\n",
      "            \"type\": \"Rating\"\n",
      "          },\n",
      "          \"source\": {\n",
      "            \"connector_id\": \"postgres\",\n",
      "            \"query\": \"select reviewer_id, asin, overall::float, review_time::timestamp as event_timestamp from amazon_ratings limit 1000000\"\n",
      "          }\n",
      "        },\n",
      "        \"item\": {\n",
      "          \"created_at\": \"event_timestamp\",\n",
      "          \"id\": \"asin\",\n",
      "          \"source\": {\n",
      "            \"connector_id\": \"postgres\",\n",
      "            \"query\": \"select asin, helpful, review_text, overall::float, summary, review_time::timestamp as event_timestamp from amazon_ratings limit 1000000\"\n",
      "          }\n",
      "        },\n",
      "        \"user\": {\n",
      "          \"created_at\": \"event_timestamp\",\n",
      "          \"id\": \"reviewer_id\",\n",
      "          \"source\": {\n",
      "            \"connector_id\": \"postgres\",\n",
      "            \"query\": \"select reviewer_id, reviewer_name, review_time::timestamp as event_timestamp from amazon_ratings limit 1000000\"\n",
      "          }\n",
      "        }\n",
      "      },\n",
      "      \"label\": \"Rating\",\n",
      "      \"model_name\": \"amazon_dataset_postgres\",\n",
      "      \"status\": \"PREPARING\"\n",
      "    }\n",
      "  ]\n",
      "}\n"
     ]
    }
   ],
   "source": [
    "response = requests.get(\n",
    "    f\"https://api.prod.shaped.ai/v0/models\",\n",
    "    headers={\n",
    "        \"x-api-key\": SHAPED_API_KEY,\n",
    "        \"Content-Type\":\"application/json\"\n",
    "    }\n",
    ")\n",
    "print(json.dumps(json.loads(response.content), indent=2))"
   ]
  },
  {
   "cell_type": "markdown",
   "id": "aba28ff9",
   "metadata": {},
   "source": [
    "You'll notice the `\"status\"` of the model you just created is most likely `\"PREPARING\"`. This means that the initial training job hasn't completed yet. The amount of time it takes will be dependent on the amount of data. Feel free to keep querying the `/models` endpoint to check the status of your model. When it is ready, the `\"status\"` will read `\"ACTIVE\"`."
   ]
  },
  {
   "cell_type": "markdown",
   "id": "c13c059c",
   "metadata": {},
   "source": [
    "Once your model is ready (`\"status\": \"ACTIVE\"`), you can hit the [rank endpoint](https://docs.shaped.ai/reference/rank)!\n",
    "\n",
    "Remember, `user_id` is the id of the User you want to fetch rankings for. You can also add an optional query param, `limit`, which will inform how many results to return (with the default being 5)."
   ]
  },
  {
   "cell_type": "code",
   "execution_count": 9,
   "id": "4b0b8a55",
   "metadata": {},
   "outputs": [
    {
     "name": "stdout",
     "output_type": "stream",
     "text": [
      "{\n",
      "  \"error\": \"Model with name 'amazon_dataset_postgres' is not in 'ACTIVE' state, but it has the 'PREPARING' status\"\n",
      "}\n"
     ]
    }
   ],
   "source": [
    "response = requests.get(\n",
    "    f\"https://api.prod.shaped.ai/v0/models/{model_name}/rank?user_id=1\",\n",
    "    headers={\n",
    "        \"x-api-key\": SHAPED_API_KEY,\n",
    "        \"Content-Type\":\"application/json\"\n",
    "    }\n",
    ")\n",
    "print(json.dumps(json.loads(response.content), indent=2))"
   ]
  },
  {
   "cell_type": "markdown",
   "id": "fe85ba97",
   "metadata": {},
   "source": [
    "Wow! It was that easy to see top 5 rated items for the passed in `user_id` 🍾. Now let's add ranking to your product :)"
   ]
  },
  {
   "cell_type": "markdown",
   "id": "b4076a9d",
   "metadata": {},
   "source": [
    "### Clean Up"
   ]
  },
  {
   "cell_type": "markdown",
   "id": "1d7a7749",
   "metadata": {},
   "source": [
    "__The below code should ONLY be run if you want to delete the model with `model_name`.__"
   ]
  },
  {
   "cell_type": "code",
   "execution_count": 10,
   "id": "1a6e7171",
   "metadata": {},
   "outputs": [
    {
     "name": "stdout",
     "output_type": "stream",
     "text": [
      "{\n",
      "  \"message\": \"Model with name 'amazon_dataset_postgres' was successfully deleted\"\n",
      "}\n"
     ]
    }
   ],
   "source": [
    "response = requests.delete(\n",
    "    f\"https://api.prod.shaped.ai/v0/models/{model_name}\",\n",
    "    headers={\n",
    "        \"x-api-key\": SHAPED_API_KEY,\n",
    "        \"Content-Type\":\"application/json\"\n",
    "    }\n",
    ")\n",
    "print(json.dumps(json.loads(response.content), indent=2))"
   ]
  }
 ],
 "metadata": {
  "kernelspec": {
   "display_name": "magnus",
   "language": "python",
   "name": "magnus"
  },
  "language_info": {
   "codemirror_mode": {
    "name": "ipython",
    "version": 3
   },
   "file_extension": ".py",
   "mimetype": "text/x-python",
   "name": "python",
   "nbconvert_exporter": "python",
   "pygments_lexer": "ipython3",
   "version": "3.9.13"
  },
  "vscode": {
   "interpreter": {
    "hash": "431ef8a0f8311dbfcde43370e8ff7cda8e30d7366f613755fd93c0b8fea0a767"
   }
  }
 },
 "nbformat": 4,
 "nbformat_minor": 5
}
