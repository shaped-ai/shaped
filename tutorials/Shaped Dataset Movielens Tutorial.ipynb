{
 "cells": [
  {
   "attachments": {},
   "cell_type": "markdown",
   "id": "64912faf",
   "metadata": {},
   "source": [
    "This notebook will walk you through an example of setting up a model for the Movielens dataset stored in a csv file and then fetching ranked movies for a specific user.\n",
    "\n",
    "Let's get started! 🚀"
   ]
  },
  {
   "cell_type": "markdown",
   "id": "b3f8240f",
   "metadata": {},
   "source": [
    "### Setup"
   ]
  },
  {
   "cell_type": "markdown",
   "id": "40680972",
   "metadata": {},
   "source": [
    "Replace `<YOUR_API_KEY>` with your API key below.\n",
    "\n",
    "*If you don't have an API Key, feel free to [signup on our website](https://www.shaped.ai/#contact-us) :)*"
   ]
  },
  {
   "cell_type": "code",
   "execution_count": null,
   "id": "e86cab99",
   "metadata": {},
   "outputs": [],
   "source": [
    "import os\n",
    "\n",
    "SHAPED_API_KEY = os.getenv('TEST_SHAPED_API_KEY', '<YOUR_API_KEY>')"
   ]
  },
  {
   "attachments": {},
   "cell_type": "markdown",
   "id": "21421238",
   "metadata": {},
   "source": [
    "1. Install `shaped` to leverage the Shaped CLI to create, view, and use your model.\n",
    "2. Install `pandas` to view and edit the sample dataset.\n",
    "3. Install `pyyaml` to create Shaped Dataset and Model schema files."
   ]
  },
  {
   "cell_type": "code",
   "execution_count": 39,
   "id": "7ef4cefc",
   "metadata": {
    "scrolled": true,
    "vscode": {
     "languageId": "shellscript"
    }
   },
   "outputs": [
    {
     "name": "stdout",
     "output_type": "stream",
     "text": [
      "Requirement already satisfied: shaped in /home/ubuntu/.conda/envs/tutorials/lib/python3.9/site-packages (0.6.0)\n",
      "Requirement already satisfied: tqdm==4.65.0 in /home/ubuntu/.conda/envs/tutorials/lib/python3.9/site-packages (from shaped) (4.65.0)\n",
      "Requirement already satisfied: requests>=2.28.1 in /home/ubuntu/.conda/envs/tutorials/lib/python3.9/site-packages (from shaped) (2.28.2)\n",
      "Requirement already satisfied: pyyaml>=6.0 in /home/ubuntu/.conda/envs/tutorials/lib/python3.9/site-packages (from shaped) (6.0)\n",
      "Requirement already satisfied: pyarrow==11.0.0 in /home/ubuntu/.conda/envs/tutorials/lib/python3.9/site-packages (from shaped) (11.0.0)\n",
      "Requirement already satisfied: pydantic>=1.10.2 in /home/ubuntu/.conda/envs/tutorials/lib/python3.9/site-packages (from shaped) (1.10.7)\n",
      "Requirement already satisfied: typer[all]>=0.7.0 in /home/ubuntu/.conda/envs/tutorials/lib/python3.9/site-packages (from shaped) (0.7.0)\n",
      "Requirement already satisfied: pandas==1.5.3 in /home/ubuntu/.conda/envs/tutorials/lib/python3.9/site-packages (from shaped) (1.5.3)\n",
      "Requirement already satisfied: pytz>=2020.1 in /home/ubuntu/.conda/envs/tutorials/lib/python3.9/site-packages (from pandas==1.5.3->shaped) (2023.3)\n",
      "Requirement already satisfied: numpy>=1.20.3 in /home/ubuntu/.conda/envs/tutorials/lib/python3.9/site-packages (from pandas==1.5.3->shaped) (1.24.2)\n",
      "Requirement already satisfied: python-dateutil>=2.8.1 in /home/ubuntu/.conda/envs/tutorials/lib/python3.9/site-packages (from pandas==1.5.3->shaped) (2.8.2)\n",
      "Requirement already satisfied: typing-extensions>=4.2.0 in /home/ubuntu/.conda/envs/tutorials/lib/python3.9/site-packages (from pydantic>=1.10.2->shaped) (4.5.0)\n",
      "Requirement already satisfied: charset-normalizer<4,>=2 in /home/ubuntu/.conda/envs/tutorials/lib/python3.9/site-packages (from requests>=2.28.1->shaped) (3.1.0)\n",
      "Requirement already satisfied: certifi>=2017.4.17 in /home/ubuntu/.conda/envs/tutorials/lib/python3.9/site-packages (from requests>=2.28.1->shaped) (2022.12.7)\n",
      "Requirement already satisfied: idna<4,>=2.5 in /home/ubuntu/.conda/envs/tutorials/lib/python3.9/site-packages (from requests>=2.28.1->shaped) (3.4)\n",
      "Requirement already satisfied: urllib3<1.27,>=1.21.1 in /home/ubuntu/.conda/envs/tutorials/lib/python3.9/site-packages (from requests>=2.28.1->shaped) (1.26.15)\n",
      "Requirement already satisfied: click<9.0.0,>=7.1.1 in /home/ubuntu/.conda/envs/tutorials/lib/python3.9/site-packages (from typer[all]>=0.7.0->shaped) (8.1.3)\n",
      "Requirement already satisfied: colorama<0.5.0,>=0.4.3 in /home/ubuntu/.conda/envs/tutorials/lib/python3.9/site-packages (from typer[all]>=0.7.0->shaped) (0.4.6)\n",
      "Requirement already satisfied: shellingham<2.0.0,>=1.3.0 in /home/ubuntu/.conda/envs/tutorials/lib/python3.9/site-packages (from typer[all]>=0.7.0->shaped) (1.5.0.post1)\n",
      "Requirement already satisfied: rich<13.0.0,>=10.11.0 in /home/ubuntu/.conda/envs/tutorials/lib/python3.9/site-packages (from typer[all]>=0.7.0->shaped) (12.6.0)\n",
      "Requirement already satisfied: six>=1.5 in /home/ubuntu/.conda/envs/tutorials/lib/python3.9/site-packages (from python-dateutil>=2.8.1->pandas==1.5.3->shaped) (1.16.0)\n",
      "Requirement already satisfied: pygments<3.0.0,>=2.6.0 in /home/ubuntu/.conda/envs/tutorials/lib/python3.9/site-packages (from rich<13.0.0,>=10.11.0->typer[all]>=0.7.0->shaped) (2.14.0)\n",
      "Requirement already satisfied: commonmark<0.10.0,>=0.9.0 in /home/ubuntu/.conda/envs/tutorials/lib/python3.9/site-packages (from rich<13.0.0,>=10.11.0->typer[all]>=0.7.0->shaped) (0.9.1)\n",
      "Requirement already satisfied: pandas in /home/ubuntu/.conda/envs/tutorials/lib/python3.9/site-packages (1.5.3)\n",
      "Requirement already satisfied: python-dateutil>=2.8.1 in /home/ubuntu/.conda/envs/tutorials/lib/python3.9/site-packages (from pandas) (2.8.2)\n",
      "Requirement already satisfied: pytz>=2020.1 in /home/ubuntu/.conda/envs/tutorials/lib/python3.9/site-packages (from pandas) (2023.3)\n",
      "Requirement already satisfied: numpy>=1.20.3 in /home/ubuntu/.conda/envs/tutorials/lib/python3.9/site-packages (from pandas) (1.24.2)\n",
      "Requirement already satisfied: six>=1.5 in /home/ubuntu/.conda/envs/tutorials/lib/python3.9/site-packages (from python-dateutil>=2.8.1->pandas) (1.16.0)\n",
      "Requirement already satisfied: pyyaml in /home/ubuntu/.conda/envs/tutorials/lib/python3.9/site-packages (6.0)\n"
     ]
    }
   ],
   "source": [
    "! pip install shaped\n",
    "! pip install pandas\n",
    "! pip install pyyaml"
   ]
  },
  {
   "attachments": {},
   "cell_type": "markdown",
   "id": "9d463e58",
   "metadata": {},
   "source": [
    "Initialize the CLI with your API key."
   ]
  },
  {
   "cell_type": "code",
   "execution_count": null,
   "id": "51056057",
   "metadata": {
    "vscode": {
     "languageId": "shellscript"
    }
   },
   "outputs": [],
   "source": [
    "! shaped init --api-key $SHAPED_API_KEY"
   ]
  },
  {
   "cell_type": "markdown",
   "id": "ef322ca0",
   "metadata": {},
   "source": [
    "### Download Public Dataset"
   ]
  },
  {
   "attachments": {},
   "cell_type": "markdown",
   "id": "6f3f3a19",
   "metadata": {},
   "source": [
    "Fetch the publicly hosted movielens dataset."
   ]
  },
  {
   "cell_type": "code",
   "execution_count": 41,
   "id": "e0f89d23",
   "metadata": {
    "vscode": {
     "languageId": "shellscript"
    }
   },
   "outputs": [
    {
     "name": "stdout",
     "output_type": "stream",
     "text": [
      "Downloading movielens data...\n",
      "--2023-04-19 18:45:24--  http://files.grouplens.org/datasets/movielens/ml-100k.zip\n",
      "Resolving files.grouplens.org (files.grouplens.org)... 128.101.65.152\n",
      "Connecting to files.grouplens.org (files.grouplens.org)|128.101.65.152|:80... connected.\n",
      "HTTP request sent, awaiting response... 200 OK\n",
      "Length: 4924029 (4.7M) [application/zip]\n",
      "Saving to: ‘notebook_assets/ml-100k.zip’\n",
      "\n",
      "ml-100k.zip         100%[===================>]   4.70M  17.6MB/s    in 0.3s    \n",
      "\n",
      "2023-04-19 18:45:25 (17.6 MB/s) - ‘notebook_assets/ml-100k.zip’ saved [4924029/4924029]\n",
      "\n",
      "Archive:  notebook_assets/ml-100k.zip\n",
      "   creating: notebook_assets/ml-100k/\n",
      "  inflating: notebook_assets/ml-100k/allbut.pl  \n",
      "  inflating: notebook_assets/ml-100k/mku.sh  \n",
      "  inflating: notebook_assets/ml-100k/README  \n",
      "  inflating: notebook_assets/ml-100k/u.data  \n",
      "  inflating: notebook_assets/ml-100k/u.genre  \n",
      "  inflating: notebook_assets/ml-100k/u.info  \n",
      "  inflating: notebook_assets/ml-100k/u.item  \n",
      "  inflating: notebook_assets/ml-100k/u.occupation  \n",
      "  inflating: notebook_assets/ml-100k/u.user  \n",
      "  inflating: notebook_assets/ml-100k/u1.base  \n",
      "  inflating: notebook_assets/ml-100k/u1.test  \n",
      "  inflating: notebook_assets/ml-100k/u2.base  \n",
      "  inflating: notebook_assets/ml-100k/u2.test  \n",
      "  inflating: notebook_assets/ml-100k/u3.base  \n",
      "  inflating: notebook_assets/ml-100k/u3.test  \n",
      "  inflating: notebook_assets/ml-100k/u4.base  \n",
      "  inflating: notebook_assets/ml-100k/u4.test  \n",
      "  inflating: notebook_assets/ml-100k/u5.base  \n",
      "  inflating: notebook_assets/ml-100k/u5.test  \n",
      "  inflating: notebook_assets/ml-100k/ua.base  \n",
      "  inflating: notebook_assets/ml-100k/ua.test  \n",
      "  inflating: notebook_assets/ml-100k/ub.base  \n",
      "  inflating: notebook_assets/ml-100k/ub.test  \n"
     ]
    }
   ],
   "source": [
    "! echo \"Downloading movielens data...\"\n",
    "\n",
    "DIR_NAME = \"notebook_assets\"\n",
    "! mkdir $DIR_NAME\n",
    "! wget http://files.grouplens.org/datasets/movielens/ml-100k.zip --no-check-certificate -P $DIR_NAME\n",
    "! unzip $DIR_NAME/ml-100k.zip -d $DIR_NAME"
   ]
  },
  {
   "attachments": {},
   "cell_type": "markdown",
   "id": "47e694ae",
   "metadata": {},
   "source": [
    "Let's take a look at the downloaded dataset. There are three tables of interest:\n",
    "- `ratings` which are stored in `ml-100k/u.data`\n",
    "- `users` which are stored in `ml-100k/u.user`\n",
    "- `movies` which are stored in `ml-100k/u.item`\n",
    "\n",
    "Unfortunately each of these tab separated files don't have a header (which is required by Shaped). To address this, we can prepend the header as shown below:"
   ]
  },
  {
   "cell_type": "code",
   "execution_count": 42,
   "id": "7d4e5d55",
   "metadata": {},
   "outputs": [
    {
     "data": {
      "text/html": [
       "<div>\n",
       "<style scoped>\n",
       "    .dataframe tbody tr th:only-of-type {\n",
       "        vertical-align: middle;\n",
       "    }\n",
       "\n",
       "    .dataframe tbody tr th {\n",
       "        vertical-align: top;\n",
       "    }\n",
       "\n",
       "    .dataframe thead th {\n",
       "        text-align: right;\n",
       "    }\n",
       "</style>\n",
       "<table border=\"1\" class=\"dataframe\">\n",
       "  <thead>\n",
       "    <tr style=\"text-align: right;\">\n",
       "      <th></th>\n",
       "      <th>user_id</th>\n",
       "      <th>movie_id</th>\n",
       "      <th>rating</th>\n",
       "      <th>unix_timestamp</th>\n",
       "    </tr>\n",
       "  </thead>\n",
       "  <tbody>\n",
       "    <tr>\n",
       "      <th>0</th>\n",
       "      <td>196</td>\n",
       "      <td>242</td>\n",
       "      <td>3</td>\n",
       "      <td>881250949</td>\n",
       "    </tr>\n",
       "    <tr>\n",
       "      <th>1</th>\n",
       "      <td>186</td>\n",
       "      <td>302</td>\n",
       "      <td>3</td>\n",
       "      <td>891717742</td>\n",
       "    </tr>\n",
       "    <tr>\n",
       "      <th>2</th>\n",
       "      <td>22</td>\n",
       "      <td>377</td>\n",
       "      <td>1</td>\n",
       "      <td>878887116</td>\n",
       "    </tr>\n",
       "    <tr>\n",
       "      <th>3</th>\n",
       "      <td>244</td>\n",
       "      <td>51</td>\n",
       "      <td>2</td>\n",
       "      <td>880606923</td>\n",
       "    </tr>\n",
       "    <tr>\n",
       "      <th>4</th>\n",
       "      <td>166</td>\n",
       "      <td>346</td>\n",
       "      <td>1</td>\n",
       "      <td>886397596</td>\n",
       "    </tr>\n",
       "  </tbody>\n",
       "</table>\n",
       "</div>"
      ],
      "text/plain": [
       "   user_id  movie_id  rating  unix_timestamp\n",
       "0      196       242       3       881250949\n",
       "1      186       302       3       891717742\n",
       "2       22       377       1       878887116\n",
       "3      244        51       2       880606923\n",
       "4      166       346       1       886397596"
      ]
     },
     "metadata": {},
     "output_type": "display_data"
    },
    {
     "data": {
      "text/html": [
       "<div>\n",
       "<style scoped>\n",
       "    .dataframe tbody tr th:only-of-type {\n",
       "        vertical-align: middle;\n",
       "    }\n",
       "\n",
       "    .dataframe tbody tr th {\n",
       "        vertical-align: top;\n",
       "    }\n",
       "\n",
       "    .dataframe thead th {\n",
       "        text-align: right;\n",
       "    }\n",
       "</style>\n",
       "<table border=\"1\" class=\"dataframe\">\n",
       "  <thead>\n",
       "    <tr style=\"text-align: right;\">\n",
       "      <th></th>\n",
       "      <th>user_id</th>\n",
       "      <th>age</th>\n",
       "      <th>sex</th>\n",
       "      <th>occupation</th>\n",
       "      <th>zip_code</th>\n",
       "    </tr>\n",
       "  </thead>\n",
       "  <tbody>\n",
       "    <tr>\n",
       "      <th>0</th>\n",
       "      <td>1</td>\n",
       "      <td>24</td>\n",
       "      <td>M</td>\n",
       "      <td>technician</td>\n",
       "      <td>85711</td>\n",
       "    </tr>\n",
       "    <tr>\n",
       "      <th>1</th>\n",
       "      <td>2</td>\n",
       "      <td>53</td>\n",
       "      <td>F</td>\n",
       "      <td>other</td>\n",
       "      <td>94043</td>\n",
       "    </tr>\n",
       "    <tr>\n",
       "      <th>2</th>\n",
       "      <td>3</td>\n",
       "      <td>23</td>\n",
       "      <td>M</td>\n",
       "      <td>writer</td>\n",
       "      <td>32067</td>\n",
       "    </tr>\n",
       "    <tr>\n",
       "      <th>3</th>\n",
       "      <td>4</td>\n",
       "      <td>24</td>\n",
       "      <td>M</td>\n",
       "      <td>technician</td>\n",
       "      <td>43537</td>\n",
       "    </tr>\n",
       "    <tr>\n",
       "      <th>4</th>\n",
       "      <td>5</td>\n",
       "      <td>33</td>\n",
       "      <td>F</td>\n",
       "      <td>other</td>\n",
       "      <td>15213</td>\n",
       "    </tr>\n",
       "  </tbody>\n",
       "</table>\n",
       "</div>"
      ],
      "text/plain": [
       "   user_id  age sex  occupation zip_code\n",
       "0        1   24   M  technician    85711\n",
       "1        2   53   F       other    94043\n",
       "2        3   23   M      writer    32067\n",
       "3        4   24   M  technician    43537\n",
       "4        5   33   F       other    15213"
      ]
     },
     "metadata": {},
     "output_type": "display_data"
    },
    {
     "data": {
      "text/html": [
       "<div>\n",
       "<style scoped>\n",
       "    .dataframe tbody tr th:only-of-type {\n",
       "        vertical-align: middle;\n",
       "    }\n",
       "\n",
       "    .dataframe tbody tr th {\n",
       "        vertical-align: top;\n",
       "    }\n",
       "\n",
       "    .dataframe thead th {\n",
       "        text-align: right;\n",
       "    }\n",
       "</style>\n",
       "<table border=\"1\" class=\"dataframe\">\n",
       "  <thead>\n",
       "    <tr style=\"text-align: right;\">\n",
       "      <th></th>\n",
       "      <th>movie_id</th>\n",
       "      <th>title</th>\n",
       "      <th>release_date</th>\n",
       "      <th>imdb_url</th>\n",
       "      <th>genre_unknown</th>\n",
       "      <th>Action</th>\n",
       "      <th>Adventure</th>\n",
       "      <th>Animation</th>\n",
       "      <th>Children</th>\n",
       "      <th>Comedy</th>\n",
       "      <th>...</th>\n",
       "      <th>Fantasy</th>\n",
       "      <th>Film_Noir</th>\n",
       "      <th>Horror</th>\n",
       "      <th>Musical</th>\n",
       "      <th>Mystery</th>\n",
       "      <th>Romance</th>\n",
       "      <th>Sci_Fi</th>\n",
       "      <th>Thriller</th>\n",
       "      <th>War</th>\n",
       "      <th>Western</th>\n",
       "    </tr>\n",
       "  </thead>\n",
       "  <tbody>\n",
       "    <tr>\n",
       "      <th>0</th>\n",
       "      <td>1</td>\n",
       "      <td>Toy Story (1995)</td>\n",
       "      <td>01-Jan-1995</td>\n",
       "      <td>http://us.imdb.com/M/title-exact?Toy%20Story%2...</td>\n",
       "      <td>0</td>\n",
       "      <td>0</td>\n",
       "      <td>0</td>\n",
       "      <td>1</td>\n",
       "      <td>1</td>\n",
       "      <td>1</td>\n",
       "      <td>...</td>\n",
       "      <td>0</td>\n",
       "      <td>0</td>\n",
       "      <td>0</td>\n",
       "      <td>0</td>\n",
       "      <td>0</td>\n",
       "      <td>0</td>\n",
       "      <td>0</td>\n",
       "      <td>0</td>\n",
       "      <td>0</td>\n",
       "      <td>0</td>\n",
       "    </tr>\n",
       "    <tr>\n",
       "      <th>1</th>\n",
       "      <td>2</td>\n",
       "      <td>GoldenEye (1995)</td>\n",
       "      <td>01-Jan-1995</td>\n",
       "      <td>http://us.imdb.com/M/title-exact?GoldenEye%20(...</td>\n",
       "      <td>0</td>\n",
       "      <td>1</td>\n",
       "      <td>1</td>\n",
       "      <td>0</td>\n",
       "      <td>0</td>\n",
       "      <td>0</td>\n",
       "      <td>...</td>\n",
       "      <td>0</td>\n",
       "      <td>0</td>\n",
       "      <td>0</td>\n",
       "      <td>0</td>\n",
       "      <td>0</td>\n",
       "      <td>0</td>\n",
       "      <td>0</td>\n",
       "      <td>1</td>\n",
       "      <td>0</td>\n",
       "      <td>0</td>\n",
       "    </tr>\n",
       "    <tr>\n",
       "      <th>2</th>\n",
       "      <td>3</td>\n",
       "      <td>Four Rooms (1995)</td>\n",
       "      <td>01-Jan-1995</td>\n",
       "      <td>http://us.imdb.com/M/title-exact?Four%20Rooms%...</td>\n",
       "      <td>0</td>\n",
       "      <td>0</td>\n",
       "      <td>0</td>\n",
       "      <td>0</td>\n",
       "      <td>0</td>\n",
       "      <td>0</td>\n",
       "      <td>...</td>\n",
       "      <td>0</td>\n",
       "      <td>0</td>\n",
       "      <td>0</td>\n",
       "      <td>0</td>\n",
       "      <td>0</td>\n",
       "      <td>0</td>\n",
       "      <td>0</td>\n",
       "      <td>1</td>\n",
       "      <td>0</td>\n",
       "      <td>0</td>\n",
       "    </tr>\n",
       "    <tr>\n",
       "      <th>3</th>\n",
       "      <td>4</td>\n",
       "      <td>Get Shorty (1995)</td>\n",
       "      <td>01-Jan-1995</td>\n",
       "      <td>http://us.imdb.com/M/title-exact?Get%20Shorty%...</td>\n",
       "      <td>0</td>\n",
       "      <td>1</td>\n",
       "      <td>0</td>\n",
       "      <td>0</td>\n",
       "      <td>0</td>\n",
       "      <td>1</td>\n",
       "      <td>...</td>\n",
       "      <td>0</td>\n",
       "      <td>0</td>\n",
       "      <td>0</td>\n",
       "      <td>0</td>\n",
       "      <td>0</td>\n",
       "      <td>0</td>\n",
       "      <td>0</td>\n",
       "      <td>0</td>\n",
       "      <td>0</td>\n",
       "      <td>0</td>\n",
       "    </tr>\n",
       "    <tr>\n",
       "      <th>4</th>\n",
       "      <td>5</td>\n",
       "      <td>Copycat (1995)</td>\n",
       "      <td>01-Jan-1995</td>\n",
       "      <td>http://us.imdb.com/M/title-exact?Copycat%20(1995)</td>\n",
       "      <td>0</td>\n",
       "      <td>0</td>\n",
       "      <td>0</td>\n",
       "      <td>0</td>\n",
       "      <td>0</td>\n",
       "      <td>0</td>\n",
       "      <td>...</td>\n",
       "      <td>0</td>\n",
       "      <td>0</td>\n",
       "      <td>0</td>\n",
       "      <td>0</td>\n",
       "      <td>0</td>\n",
       "      <td>0</td>\n",
       "      <td>0</td>\n",
       "      <td>1</td>\n",
       "      <td>0</td>\n",
       "      <td>0</td>\n",
       "    </tr>\n",
       "  </tbody>\n",
       "</table>\n",
       "<p>5 rows × 23 columns</p>\n",
       "</div>"
      ],
      "text/plain": [
       "   movie_id              title release_date  \\\n",
       "0         1   Toy Story (1995)  01-Jan-1995   \n",
       "1         2   GoldenEye (1995)  01-Jan-1995   \n",
       "2         3  Four Rooms (1995)  01-Jan-1995   \n",
       "3         4  Get Shorty (1995)  01-Jan-1995   \n",
       "4         5     Copycat (1995)  01-Jan-1995   \n",
       "\n",
       "                                            imdb_url  genre_unknown  Action  \\\n",
       "0  http://us.imdb.com/M/title-exact?Toy%20Story%2...              0       0   \n",
       "1  http://us.imdb.com/M/title-exact?GoldenEye%20(...              0       1   \n",
       "2  http://us.imdb.com/M/title-exact?Four%20Rooms%...              0       0   \n",
       "3  http://us.imdb.com/M/title-exact?Get%20Shorty%...              0       1   \n",
       "4  http://us.imdb.com/M/title-exact?Copycat%20(1995)              0       0   \n",
       "\n",
       "   Adventure  Animation  Children  Comedy  ...  Fantasy  Film_Noir  Horror  \\\n",
       "0          0          1         1       1  ...        0          0       0   \n",
       "1          1          0         0       0  ...        0          0       0   \n",
       "2          0          0         0       0  ...        0          0       0   \n",
       "3          0          0         0       1  ...        0          0       0   \n",
       "4          0          0         0       0  ...        0          0       0   \n",
       "\n",
       "   Musical  Mystery  Romance  Sci_Fi  Thriller  War  Western  \n",
       "0        0        0        0       0         0    0        0  \n",
       "1        0        0        0       0         1    0        0  \n",
       "2        0        0        0       0         1    0        0  \n",
       "3        0        0        0       0         0    0        0  \n",
       "4        0        0        0       0         1    0        0  \n",
       "\n",
       "[5 rows x 23 columns]"
      ]
     },
     "metadata": {},
     "output_type": "display_data"
    }
   ],
   "source": [
    "import pandas as pd\n",
    "\n",
    "data_dir = \"notebook_assets/ml-100k\"\n",
    "\n",
    "events_cols = ['user_id', 'movie_id', 'rating', 'timestamp']\n",
    "events_df = pd.read_csv(f'{data_dir}/u.data', sep='\\t', names=events_cols, encoding='latin-1')\n",
    "display(events_df.head())\n",
    "events_df.to_csv(f'{data_dir}/events.csv', sep='\\t', index=False)\n",
    "\n",
    "users_cols = ['user_id', 'age', 'sex', 'occupation', 'zip_code']\n",
    "users_df = pd.read_csv(f'{data_dir}/u.user', sep='|', names=users_cols, encoding='latin-1')\n",
    "display(users_df.head())\n",
    "users_df.to_csv(f'{data_dir}/users.csv', sep='\\t', index=False)\n",
    "\n",
    "genre_cols = [\n",
    "    \"genre_unknown\", \"Action\", \"Adventure\", \"Animation\", \"Children\", \"Comedy\",\n",
    "    \"Crime\", \"Documentary\", \"Drama\", \"Fantasy\", \"Film_Noir\", \"Horror\",\n",
    "    \"Musical\", \"Mystery\", \"Romance\", \"Sci_Fi\", \"Thriller\", \"War\", \"Western\"\n",
    "]\n",
    "movies_cols = ['movie_id', 'title', 'release_date', \"video_release_date\", \"imdb_url\"] + genre_cols\n",
    "movies_df = pd.read_csv(f'{data_dir}/u.item', sep='|', names=movies_cols, encoding='latin-1')\n",
    "# Drop null column.\n",
    "movies_df = movies_df.drop(columns=[\"video_release_date\"])\n",
    "display(movies_df.head())\n",
    "movies_df.to_csv(f'{data_dir}/items.csv', sep='\\t', index=False)"
   ]
  },
  {
   "cell_type": "markdown",
   "id": "db51f80f",
   "metadata": {},
   "source": [
    "### Upload Data to Shaped"
   ]
  },
  {
   "attachments": {},
   "cell_type": "markdown",
   "id": "44152f4a",
   "metadata": {},
   "source": [
    "Shaped has support for many data connectors! For this tutorial we're going to be using native Shaped Datasets. To do that we need to:\n",
    "1. Create a .yaml file containing the dataset schema definition.\n",
    "2. Use Shaped CLI to create the dataset.\n",
    "3. Use Shaped CLI to upload the .csv files we just created."
   ]
  },
  {
   "cell_type": "code",
   "execution_count": 43,
   "id": "27c71fa6",
   "metadata": {},
   "outputs": [],
   "source": [
    "\"\"\"\n",
    "Create a Shaped Dataset schema for each of the datasets and store in a .yaml file.\n",
    "\"\"\"\n",
    "\n",
    "import yaml\n",
    "\n",
    "dir_path = \"notebook_assets\"\n",
    "\n",
    "events_dataset_schema = {\n",
    "    \"dataset_name\": \"movielens_events\",\n",
    "    \"schema_type\": \"CUSTOM\",\n",
    "    \"schema\": {\n",
    "        \"rating\": \"Int32\",\n",
    "        \"user_id\": \"String\",\n",
    "        \"movie_id\": \"String\",\n",
    "        \"timestamp\": \"DateTime\"\n",
    "    }\n",
    "}\n",
    "\n",
    "with open(f'{dir_path}/events_dataset_schema.yaml', 'w') as file:\n",
    "    yaml.dump(events_dataset_schema, file)\n",
    "\n",
    "\n",
    "users_dataset_schema = {\n",
    "    \"dataset_name\": \"movielens_users\",\n",
    "    \"schema_type\": \"CUSTOM\",\n",
    "    \"schema\": {\n",
    "        \"user_id\": \"String\",\n",
    "        \"age\": \"Int32\",\n",
    "        \"sex\": \"String\",\n",
    "        \"occupation\": \"String\",\n",
    "        \"zip_code\": \"String\"\n",
    "    }\n",
    "}\n",
    "\n",
    "\n",
    "with open(f'{dir_path}/users_dataset_schema.yaml', 'w') as file:\n",
    "    yaml.dump(users_dataset_schema, file)\n",
    "\n",
    "items_dataset_schema = {\n",
    "    \"dataset_name\": \"movielens_items\",\n",
    "    \"schema_type\": \"CUSTOM\",\n",
    "    \"schema\": {\n",
    "        \"movie_id\": \"String\",\n",
    "        \"title\": \"String\",\n",
    "        \"release_date\": \"DateTime\",\n",
    "        \"imdb_url\": \"String\",\n",
    "        \"genre_unknown\": \"Bool\",\n",
    "        \"Action\": \"Bool\",\n",
    "        \"Adventure\": \"Bool\",\n",
    "        \"Animation\": \"Bool\",\n",
    "        \"Children\": \"Bool\",\n",
    "        \"Comedy\": \"Bool\",\n",
    "        \"Crime\": \"Bool\",\n",
    "        \"Documentary\": \"Bool\",\n",
    "        \"Drama\": \"Bool\",\n",
    "        \"Fantasy\": \"Bool\",\n",
    "        \"Film_Noir\": \"Bool\",\n",
    "        \"Horror\": \"Bool\",\n",
    "        \"Musical\": \"Bool\",\n",
    "        \"Mystery\": \"Bool\",\n",
    "        \"Romance\": \"Bool\",\n",
    "        \"Sci_Fi\": \"Bool\",\n",
    "        \"Thriller\": \"Bool\",\n",
    "        \"War\": \"Bool\",\n",
    "        \"Western\": \"Bool\",\n",
    "    }\n",
    "}\n",
    "\n",
    "with open(f'{dir_path}/items_dataset_schema.yaml', 'w') as file:\n",
    "    yaml.dump(items_dataset_schema, file)"
   ]
  },
  {
   "cell_type": "code",
   "execution_count": 47,
   "id": "0f6aaf01",
   "metadata": {
    "vscode": {
     "languageId": "shellscript"
    }
   },
   "outputs": [
    {
     "name": "stdout",
     "output_type": "stream",
     "text": [
      "{\n",
      "  \"dataset_name\": \"movielens_events\",\n",
      "  \"schema\": {\n",
      "    \"movie_id\": \"String\",\n",
      "    \"rating\": \"Int32\",\n",
      "    \"timestamp\": \"DateTime\",\n",
      "    \"user_id\": \"String\"\n",
      "  },\n",
      "  \"schema_type\": \"CUSTOM\"\n",
      "}\n",
      "message: Dataset with name 'movielens_events' was successfully scheduled for creation\n",
      "\n",
      "{\n",
      "  \"dataset_name\": \"movielens_users\",\n",
      "  \"schema\": {\n",
      "    \"age\": \"Int32\",\n",
      "    \"occupation\": \"String\",\n",
      "    \"sex\": \"String\",\n",
      "    \"user_id\": \"String\",\n",
      "    \"zip_code\": \"Int32\"\n",
      "  },\n",
      "  \"schema_type\": \"CUSTOM\"\n",
      "}\n",
      "message: Dataset with name 'movielens_users' was successfully scheduled for creation\n",
      "\n",
      "{\n",
      "  \"dataset_name\": \"movielens_items\",\n",
      "  \"schema\": {\n",
      "    \"Action\": \"Bool\",\n",
      "    \"Adventure\": \"Bool\",\n",
      "    \"Animation\": \"Bool\",\n",
      "    \"Children\": \"Bool\",\n",
      "    \"Comedy\": \"Bool\",\n",
      "    \"Crime\": \"Bool\",\n",
      "    \"Documentary\": \"Bool\",\n",
      "    \"Drama\": \"Bool\",\n",
      "    \"Fantasy\": \"Bool\",\n",
      "    \"Film_Noir\": \"Bool\",\n",
      "    \"Horror\": \"Bool\",\n",
      "    \"Musical\": \"Bool\",\n",
      "    \"Mystery\": \"Bool\",\n",
      "    \"Romance\": \"Bool\",\n",
      "    \"Sci_Fi\": \"Bool\",\n",
      "    \"Thriller\": \"Bool\",\n",
      "    \"War\": \"Bool\",\n",
      "    \"Western\": \"Bool\",\n",
      "    \"genre_unknown\": \"Bool\",\n",
      "    \"imdb_url\": \"String\",\n",
      "    \"movie_id\": \"String\",\n",
      "    \"release_date\": \"DateTime\",\n",
      "    \"title\": \"String\"\n",
      "  },\n",
      "  \"schema_type\": \"CUSTOM\"\n",
      "}\n",
      "message: Dataset with name 'movielens_items' was successfully scheduled for creation\n",
      "\n"
     ]
    }
   ],
   "source": [
    "\"\"\"\n",
    "Create a Shaped Dataset using the .yaml schema files.\n",
    "\"\"\"\n",
    "! shaped create-dataset --file $DIR_NAME/events_dataset_schema.yaml\n",
    "! shaped create-dataset --file $DIR_NAME/users_dataset_schema.yaml\n",
    "! shaped create-dataset --file $DIR_NAME/items_dataset_schema.yaml"
   ]
  },
  {
   "attachments": {},
   "cell_type": "markdown",
   "id": "59208b15",
   "metadata": {},
   "source": [
    "It takes a moment to provision the infrastructure required for the datasets. You can monitor them using the CLI commnad:"
   ]
  },
  {
   "cell_type": "code",
   "execution_count": 48,
   "id": "fad2e46c",
   "metadata": {
    "vscode": {
     "languageId": "shellscript"
    }
   },
   "outputs": [
    {
     "name": "stdout",
     "output_type": "stream",
     "text": [
      "datasets:\n",
      "- name: movielens_events\n",
      "  schema_type: CUSTOM\n",
      "  status: ACTIVE\n",
      "- name: movielens_users\n",
      "  schema_type: CUSTOM\n",
      "  status: ACTIVE\n",
      "- name: movielens_items\n",
      "  schema_type: CUSTOM\n",
      "  status: ACTIVE\n",
      "\n"
     ]
    }
   ],
   "source": [
    "! shaped list-datasets"
   ]
  },
  {
   "cell_type": "code",
   "execution_count": 49,
   "id": "d68d4806",
   "metadata": {
    "vscode": {
     "languageId": "shellscript"
    }
   },
   "outputs": [
    {
     "name": "stdout",
     "output_type": "stream",
     "text": [
      "100000 Records [01:54, 874.94 Records/s]\n",
      "943 Records [00:00, 981.78 Records/s]\n",
      "1682 Records [00:03, 467.15 Records/s]\n"
     ]
    }
   ],
   "source": [
    "\"\"\"\n",
    "Upload the .csv files. You'll see the records uploading in batches of 1000. To upload all 100,000 events, it will take a couple minutes.\n",
    "\"\"\"\n",
    "\n",
    "! shaped dataset-insert --dataset-name movielens_events --file notebook_assets/ml-100k/events.csv --type 'tsv'\n",
    "! shaped dataset-insert --dataset-name movielens_users --file notebook_assets/ml-100k/users.csv --type 'tsv'\n",
    "! shaped dataset-insert --dataset-name movielens_items --file notebook_assets/ml-100k/items.csv --type 'tsv'"
   ]
  },
  {
   "attachments": {},
   "cell_type": "markdown",
   "id": "2fb59a55",
   "metadata": {},
   "source": [
    "### Model Creation\n",
    "\n",
    "We're now ready to create your Shaped model! To keep things simple, today, we're using the ratings records to build a collaborative filtering model. Shaped will use these ratings to determine which users like which movie with the assumption that the higher the rating the more likely a user likes the rated movie.\n",
    "\n",
    "\n",
    "1. Create a .yaml file containing the model schema definition.\n",
    "2. Use Shaped CLI to create the model!\n",
    "\n",
    "For further details about creating models please refer to the [Create Model](https://docs.shaped.ai/docs/api#tag/Model/operation/post_create_models_post) API reference."
   ]
  },
  {
   "cell_type": "code",
   "execution_count": 50,
   "id": "779eecba",
   "metadata": {
    "scrolled": true
   },
   "outputs": [],
   "source": [
    "\"\"\"\n",
    "Create a Shaped Model schema and store in a .yaml file.\n",
    "\"\"\"\n",
    "\n",
    "import yaml\n",
    "\n",
    "movielens_ratings_model_schema = {\n",
    "    \"model\": {\n",
    "        \"name\": \"movielens_movie_recommendations\"\n",
    "    },\n",
    "    \"connectors\": [\n",
    "        {\n",
    "            \"type\": \"Dataset\",\n",
    "            \"id\": \"movielens_events\",\n",
    "            \"name\": \"movielens_events\"\n",
    "        },\n",
    "        {\n",
    "            \"type\": \"Dataset\",\n",
    "            \"id\": \"movielens_users\",\n",
    "            \"name\": \"movielens_users\"\n",
    "        },\n",
    "        {\n",
    "            \"type\": \"Dataset\",\n",
    "            \"id\": \"movielens_items\",\n",
    "            \"name\": \"movielens_items\"\n",
    "        },\n",
    "    ],\n",
    "    \"fetch\": {\n",
    "        \"events\": \"SELECT user_id, movie_id AS item_id, unix_timestamp AS created_at, rating AS label FROM movielens_events\",\n",
    "        \"users\": \"SELECT user_id, age, sex, occupation, zip_code FROM movielens_users\",\n",
    "        \"items\": \"SELECT movie_id AS item_id, title, release_date, imdb_url, genre_unknown, Action, Adventure, Animation, Children, Comedy, Crime, Documentary, Drama, Fantasy, Film_Noir, Horror, Musical, Mystery, Romance, Sci_Fi, Thriller, War, Western FROM movielens_items\" \n",
    "    }\n",
    "}\n",
    "\n",
    "with open(f'{dir_path}/movielens_ratings_model_schema.yaml', 'w') as file:\n",
    "    yaml.dump(movielens_ratings_model_schema, file)"
   ]
  },
  {
   "cell_type": "code",
   "execution_count": 53,
   "id": "4c78e1bf",
   "metadata": {
    "vscode": {
     "languageId": "shellscript"
    }
   },
   "outputs": [
    {
     "name": "stdout",
     "output_type": "stream",
     "text": [
      "{\n",
      "  \"connectors\": [\n",
      "    {\n",
      "      \"id\": \"movielens_events\",\n",
      "      \"name\": \"movielens_events\",\n",
      "      \"type\": \"Dataset\"\n",
      "    },\n",
      "    {\n",
      "      \"id\": \"movielens_users\",\n",
      "      \"name\": \"movielens_users\",\n",
      "      \"type\": \"Dataset\"\n",
      "    },\n",
      "    {\n",
      "      \"id\": \"movielens_items\",\n",
      "      \"name\": \"movielens_items\",\n",
      "      \"type\": \"Dataset\"\n",
      "    }\n",
      "  ],\n",
      "  \"fetch\": {\n",
      "    \"events\": \"SELECT user_id, movie_id AS item_id, unix_timestamp AS created_at, rating AS label FROM movielens_events\",\n",
      "    \"items\": \"SELECT movie_id AS item_id, title, release_date, imdb_url, genre_unknown, Action, Adventure, Animation, Children, Comedy, Crime, Documentary, Drama, Fantasy, Film_Noir, Horror, Musical, Mystery, Romance, Sci_Fi, Thriller, War, Western FROM movielens_items\",\n",
      "    \"users\": \"SELECT user_id, age, sex, occupation, zip_code FROM movielens_users\"\n",
      "  },\n",
      "  \"model\": {\n",
      "    \"name\": \"movielens_movie_recommendations\"\n",
      "  }\n",
      "}\n",
      "model_url: https://api.prod.shaped.ai/v1/models/movielens_movie_recommendations\n",
      "\n"
     ]
    }
   ],
   "source": [
    "\"\"\"\n",
    "Create a Shaped Model using the .yaml schema file.\n",
    "\"\"\"\n",
    "\n",
    "! shaped create-model --file $DIR_NAME/movielens_ratings_model_schema.yaml"
   ]
  },
  {
   "attachments": {},
   "cell_type": "markdown",
   "id": "afb8e6ae",
   "metadata": {},
   "source": [
    "Your recommendation model can take up to a few hours to provision your infrastructure and train on your historic events. This time mostly depends on how large your dataset is i.e. the volume of your users, items and interactions and the number of attributes you're providing.\n",
    "\n",
    "While the model is being setup, you can view its status with either the [List Models](https://docs.shaped.ai/docs/api#tag/Model/operation/get_models_models_get) or [View Model](https://docs.shaped.ai/docs/api) endpoints. For example, with the CLI:"
   ]
  },
  {
   "cell_type": "code",
   "execution_count": 57,
   "id": "54e3f9e0",
   "metadata": {
    "vscode": {
     "languageId": "shellscript"
    }
   },
   "outputs": [
    {
     "name": "stdout",
     "output_type": "stream",
     "text": [
      "models:\n",
      "- model_name: movielens_movie_recommendations\n",
      "  model_uri: https://api.prod.shaped.ai/v1/models/movielens_movie_recommendations\n",
      "  created_at: 2023-04-19T19:02:37 UTC\n",
      "  trained_at: 2023-04-19T19:27:19 UTC\n",
      "  status: ACTIVE\n",
      "\n"
     ]
    }
   ],
   "source": [
    "! shaped list-models"
   ]
  },
  {
   "attachments": {},
   "cell_type": "markdown",
   "id": "3bec2f3b",
   "metadata": {},
   "source": [
    "The initial model creation goes through the following stages in order:\n",
    "\n",
    "1. `SCHEDULING`<br/>\n",
    "2. `FETCHING`<br/>\n",
    "3. `TRAINING`<br/>\n",
    "4. `DEPLOYING`<br/>\n",
    "5. `ACTIVE`\n",
    "\n",
    "You can periodically poll Shaped to inspect these status changes. Once it's in the ACTIVE state, you can move to next step and use it to make rank requests."
   ]
  },
  {
   "cell_type": "markdown",
   "id": "da878c37",
   "metadata": {},
   "source": [
    "### Rank!"
   ]
  },
  {
   "attachments": {},
   "cell_type": "markdown",
   "id": "a3344515",
   "metadata": {},
   "source": [
    "You're now ready to fetch your movie recommendations! You can do this with the [Rank endpoint](https://docs.shaped.ai/docs/api#tag/Rank/operation/post_rank_models__model_id__rank_post). Just provide the user_id you wish to get the recommendations for and the number of recommendations you want returned.\n",
    "\n",
    "Shaped's CLI provides a convenience rank command to quickly retrieve results from the command line. You can use it as follows:"
   ]
  },
  {
   "cell_type": "code",
   "execution_count": 63,
   "metadata": {
    "vscode": {
     "languageId": "shellscript"
    }
   },
   "outputs": [
    {
     "name": "stdout",
     "output_type": "stream",
     "text": [
      "ids:\n",
      "- '480'\n",
      "- '435'\n",
      "- '919'\n",
      "- '276'\n",
      "- '576'\n",
      "scores:\n",
      "- 0.8985671586432267\n",
      "- 0.47889159105683576\n",
      "- 0.6075377115092316\n",
      "- 0.17812716399151673\n",
      "- 0.6375729382785116\n",
      "\n"
     ]
    }
   ],
   "source": [
    "! shaped rank --model-name movielens_movie_recommendations --user-id 1 --limit 5"
   ]
  },
  {
   "attachments": {},
   "cell_type": "markdown",
   "id": "d27e0445",
   "metadata": {},
   "source": [
    "The response returns 2 parallel arrays containing the ids and ranking scores for the movies that Shaped estimates are most interesting to the given user.\n",
    "\n",
    "If you want to integrate this endpoint into your website or application you can use the Rank POST REST endpoint directly with the following request:"
   ]
  },
  {
   "cell_type": "code",
   "execution_count": null,
   "id": "b12700eb",
   "metadata": {
    "vscode": {
     "languageId": "shellscript"
    }
   },
   "outputs": [],
   "source": [
    "! curl https://api.prod.shaped.ai/v1/models/movielens_movie_recommendations/rank \\\n",
    "  -H \"x-api-key: <API_KEY>\" \\\n",
    "  -H \"Content-Type: application/json\" \\\n",
    "  -d '{ \"user_id\": \"1\", \"limit\": 5 }'"
   ]
  },
  {
   "attachments": {},
   "cell_type": "markdown",
   "id": "99b60aab",
   "metadata": {},
   "source": [
    "Wow! It was that easy to see top 5 rated movies for the passed in `user_id` 🍾. Now let's add ranking to your product :)"
   ]
  },
  {
   "cell_type": "markdown",
   "id": "f0e498cd",
   "metadata": {},
   "source": [
    "### Clean Up"
   ]
  },
  {
   "attachments": {},
   "cell_type": "markdown",
   "id": "c38af39f",
   "metadata": {},
   "source": [
    "Don't forget to delete your model (and its assets) and the datasets once you're finished with them. You can do it with the following CLI command:"
   ]
  },
  {
   "cell_type": "code",
   "execution_count": null,
   "id": "4ca47e20",
   "metadata": {
    "vscode": {
     "languageId": "shellscript"
    }
   },
   "outputs": [],
   "source": [
    "! shaped delete-model --model-name movielens_movie_recommendations\n",
    "\n",
    "! shaped delete-dataset --dataset-name movielens_events\n",
    "! shaped delete-dataset --dataset-name movielens_users\n",
    "! shaped delete-dataset --dataset-name movielens_items\n",
    "\n",
    "! rm -r notebook_assets"
   ]
  }
 ],
 "metadata": {
  "kernelspec": {
   "display_name": "Python 3 (ipykernel)",
   "language": "python",
   "name": "python3"
  },
  "language_info": {
   "codemirror_mode": {
    "name": "ipython",
    "version": 3
   },
   "file_extension": ".py",
   "mimetype": "text/x-python",
   "name": "python",
   "nbconvert_exporter": "python",
   "pygments_lexer": "ipython3",
   "version": "3.9.16"
  },
  "vscode": {
   "interpreter": {
    "hash": "b0fa6594d8f4cbf19f97940f81e996739fb7646882a419484c72d19e05852a7e"
   }
  }
 },
 "nbformat": 4,
 "nbformat_minor": 5
}
