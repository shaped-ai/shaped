{
 "cells": [
  {
   "attachments": {},
   "cell_type": "markdown",
   "id": "64912faf",
   "metadata": {},
   "source": [
    "This notebook will walk you through an example of setting up a model for the LastFM dataset stored in a tsv file (tab separated csv) and then fetching ranked artists for a specific user.\n",
    "\n",
    "Let's get started! 🚀"
   ]
  },
  {
   "cell_type": "markdown",
   "id": "b3f8240f",
   "metadata": {},
   "source": [
    "### Setup"
   ]
  },
  {
   "cell_type": "markdown",
   "id": "40680972",
   "metadata": {},
   "source": [
    "Replace `<YOUR_API_KEY>` with your API key below.\n",
    "\n",
    "*If you don't have an API Key, feel free to [signup on our website](https://www.shaped.ai/#contact-us) :)*"
   ]
  },
  {
   "cell_type": "code",
   "execution_count": 1,
   "id": "e86cab99",
   "metadata": {},
   "outputs": [],
   "source": [
    "import os\n",
    "\n",
    "SHAPED_API_KEY = os.getenv('TEST_SHAPED_API_KEY', '<YOUR_API_KEY>')"
   ]
  },
  {
   "attachments": {},
   "cell_type": "markdown",
   "id": "21421238",
   "metadata": {},
   "source": [
    "1. Install `shaped` to leverage the Shaped CLI to create, view, and use your model.\n",
    "2. Install `pandas` to view and edit the sample dataset.\n",
    "3. Install `pyyaml` to create Shaped Dataset and Model schema files."
   ]
  },
  {
   "cell_type": "code",
   "execution_count": null,
   "id": "7ef4cefc",
   "metadata": {
    "scrolled": true,
    "vscode": {
     "languageId": "shellscript"
    }
   },
   "outputs": [],
   "source": [
    "! pip install shaped\n",
    "! pip install pandas\n",
    "! pip install pyyaml"
   ]
  },
  {
   "attachments": {},
   "cell_type": "markdown",
   "id": "9d463e58",
   "metadata": {},
   "source": [
    "Initialize the CLI with your API key."
   ]
  },
  {
   "cell_type": "code",
   "execution_count": null,
   "id": "51056057",
   "metadata": {
    "vscode": {
     "languageId": "shellscript"
    }
   },
   "outputs": [],
   "source": [
    "! shaped init --api-key $SHAPED_API_KEY"
   ]
  },
  {
   "cell_type": "markdown",
   "id": "ef322ca0",
   "metadata": {},
   "source": [
    "### Download Public Dataset"
   ]
  },
  {
   "attachments": {},
   "cell_type": "markdown",
   "id": "6f3f3a19",
   "metadata": {},
   "source": [
    "Fetch the publicly hosted LastFM dataset. (NOTE: This step can take ~10 min)"
   ]
  },
  {
   "cell_type": "code",
   "execution_count": 4,
   "id": "e0f89d23",
   "metadata": {
    "vscode": {
     "languageId": "shellscript"
    }
   },
   "outputs": [
    {
     "name": "stdout",
     "output_type": "stream",
     "text": [
      "Downloading LastFM data...\n",
      "  % Total    % Received % Xferd  Average Speed   Time    Time     Time  Current\n",
      "                                 Dload  Upload   Total   Spent    Left  Speed\n",
      "100  542M  100  542M    0     0   826k      0  0:11:12  0:11:12 --:--:--  997k  0     0   137k      0  1:07:34  0:00:02  1:07:32  137k  0   803k      0  0:11:31  0:00:14  0:11:17  958k      0  0:10:21  0:00:33  0:09:48  969k06k      0  0:10:12  0:00:38  0:09:34  986k     0   913k      0  0:10:08  0:00:44  0:09:24  958k 0   896k      0  0:10:20  0:00:53  0:09:27  688kM   11 60.2M    0     0   907k      0  0:10:12  0:01:07  0:09:05  969k:10:31  0:01:15  0:09:16  539k 0:09:14  728k   840k      0  0:11:01  0:01:33  0:09:28  465k   831k      0  0:11:08  0:01:37  0:09:31  516k 0     0   837k      0  0:11:03  0:01:42  0:09:21  956k   0   843k      0  0:10:59  0:01:48  0:09:11  963k:35  931k   0   860k      0  0:10:46  0:02:12  0:08:34  941k      0  0:10:43  0:02:19  0:08:24  931k   860k      0  0:10:45  0:02:33  0:08:12  962k51  0:07:47  970k 841k      0  0:11:00  0:03:05  0:07:55  519k 0:11:10  0:03:08  0:08:02  330k823k      0  0:11:14  0:03:13  0:08:01  504k0  0:11:36  0:03:25  0:08:11  400k     0   793k      0  0:11:40  0:04:14  0:07:26  998k  797k      0  0:11:37  0:04:19  0:07:18  996k  0   804k      0  0:11:30  0:04:31  0:06:59  973k 0  0:11:35  0:04:35  0:07:00  524k   0  0:11:29  0:05:04  0:06:25  984k   0   807k      0  0:11:27  0:05:08  0:06:19  976k  0   819k      0  0:11:18  0:05:29  0:05:49  988k   0   834k      0  0:11:06  0:06:01  0:05:05  987kk      0  0:11:05  0:06:03  0:05:02  994k  836k      0  0:11:04  0:06:07  0:04:57  995k 0     0   833k      0  0:11:07  0:06:09  0:04:58  671k  0:11:10  0:06:12  0:04:58  276k   0   827k      0  0:11:12  0:06:18  0:04:54  731k      0  0:11:13  0:06:20  0:04:53  550kk      0  0:11:14  0:06:35  0:04:39  991k   0   827k      0  0:11:11  0:06:44  0:04:27  995k    0  0:11:04  0:07:08  0:03:56  982k   838k      0  0:11:03  0:07:14  0:03:49  979k  833k      0  0:11:07  0:07:32  0:03:35  196k   825k      0  0:11:13  0:07:46  0:03:27  651k0   826k      0  0:11:12  0:07:50  0:03:22  924k    0     0   826k      0  0:11:12  0:07:51  0:03:21  982k  0   827k      0  0:11:12  0:07:53  0:03:19  963k827k      0  0:11:11  0:07:55  0:03:16  983k    0  0:11:09  0:08:04  0:03:05  987k   834k      0  0:11:05  0:08:17  0:02:48  976k0   838k      0  0:11:02  0:08:30  0:02:32  986k0     0   831k      0  0:11:08  0:08:40  0:02:28  239k     0  0:11:11  0:08:43  0:02:28  292k    0   828k      0  0:11:10  0:08:46  0:02:24  804k30M    0     0   828k      0  0:11:10  0:08:52  0:02:18  810k     0   824k      0  0:11:14  0:08:55  0:02:19  346k    0   821k      0  0:11:16  0:08:57  0:02:19 89472   0   823k      0  0:11:15  0:09:03  0:02:12  988k823k      0  0:11:15  0:09:04  0:02:11  969k 0     0   818k      0  0:11:19  0:09:21  0:01:58  105k     0   817k      0  0:11:20  0:09:22  0:01:58 65253   0   817k      0  0:11:20  0:09:24  0:01:56  533k0     0   818k      0  0:11:19  0:09:29  0:01:50  978k 0   818k      0  0:11:18  0:09:30  0:01:48  995k 0   816k      0  0:11:20  0:09:42  0:01:38  970k    0  0:11:19  0:09:48  0:01:31  988k     0  0:11:19  0:09:49  0:01:30  884k18k      0  0:11:18  0:09:59  0:01:19  984k0:11:17  0:10:03  0:01:14  992k   0   818k      0  0:11:18  0:10:12  0:01:06  987k00M    0     0   821k      0  0:11:16  0:10:23  0:00:53 1000k  0   822k      0  0:11:15  0:10:28  0:00:47  997k    0   824k      0  0:11:14  0:10:35  0:00:39  983k  825k      0  0:11:13  0:10:37  0:00:36  997k  0  0:11:12  0:10:43  0:00:29  986k\n"
     ]
    }
   ],
   "source": [
    "! echo \"Downloading LastFM data...\"\n",
    "\n",
    "DIR_NAME = \"notebook_assets\"\n",
    "! mkdir $DIR_NAME\n",
    "! curl http://mtg.upf.edu/static/datasets/last.fm/lastfm-dataset-360K.tar.gz -o $DIR_NAME/lastfm-dataset-360K.tar.gz\n",
    "! tar -xzf $DIR_NAME/lastfm-dataset-360K.tar.gz -C $DIR_NAME"
   ]
  },
  {
   "attachments": {},
   "cell_type": "markdown",
   "id": "47e694ae",
   "metadata": {},
   "source": [
    "Let's take a look at the downloaded dataset. There are two tables of interest:\n",
    "- `plays` which are stored in `lastfm-dataset-360K/usersha1-artmbid-artname-plays.tsv`\n",
    "- `users` which are stored in `lastfm-dataset-360K/usersha1-profile.tsv`\n",
    "\n",
    "Unfortunately each of these tab separated files don't have a header (which is required by Shaped). To address this, we can prepend the header as shown below:"
   ]
  },
  {
   "cell_type": "code",
   "execution_count": 5,
   "id": "7d4e5d55",
   "metadata": {},
   "outputs": [
    {
     "data": {
      "text/html": [
       "<div>\n",
       "<style scoped>\n",
       "    .dataframe tbody tr th:only-of-type {\n",
       "        vertical-align: middle;\n",
       "    }\n",
       "\n",
       "    .dataframe tbody tr th {\n",
       "        vertical-align: top;\n",
       "    }\n",
       "\n",
       "    .dataframe thead th {\n",
       "        text-align: right;\n",
       "    }\n",
       "</style>\n",
       "<table border=\"1\" class=\"dataframe\">\n",
       "  <thead>\n",
       "    <tr style=\"text-align: right;\">\n",
       "      <th></th>\n",
       "      <th>user_id</th>\n",
       "      <th>artist_id</th>\n",
       "      <th>artist_name</th>\n",
       "      <th>plays</th>\n",
       "    </tr>\n",
       "  </thead>\n",
       "  <tbody>\n",
       "    <tr>\n",
       "      <th>0</th>\n",
       "      <td>00000c289a1829a808ac09c00daf10bc3c4e223b</td>\n",
       "      <td>3bd73256-3905-4f3a-97e2-8b341527f805</td>\n",
       "      <td>betty blowtorch</td>\n",
       "      <td>2137</td>\n",
       "    </tr>\n",
       "    <tr>\n",
       "      <th>1</th>\n",
       "      <td>00000c289a1829a808ac09c00daf10bc3c4e223b</td>\n",
       "      <td>f2fb0ff0-5679-42ec-a55c-15109ce6e320</td>\n",
       "      <td>die Ãrzte</td>\n",
       "      <td>1099</td>\n",
       "    </tr>\n",
       "    <tr>\n",
       "      <th>2</th>\n",
       "      <td>00000c289a1829a808ac09c00daf10bc3c4e223b</td>\n",
       "      <td>b3ae82c2-e60b-4551-a76d-6620f1b456aa</td>\n",
       "      <td>melissa etheridge</td>\n",
       "      <td>897</td>\n",
       "    </tr>\n",
       "    <tr>\n",
       "      <th>3</th>\n",
       "      <td>00000c289a1829a808ac09c00daf10bc3c4e223b</td>\n",
       "      <td>3d6bbeb7-f90e-4d10-b440-e153c0d10b53</td>\n",
       "      <td>elvenking</td>\n",
       "      <td>717</td>\n",
       "    </tr>\n",
       "    <tr>\n",
       "      <th>4</th>\n",
       "      <td>00000c289a1829a808ac09c00daf10bc3c4e223b</td>\n",
       "      <td>bbd2ffd7-17f4-4506-8572-c1ea58c3f9a8</td>\n",
       "      <td>juliette &amp; the licks</td>\n",
       "      <td>706</td>\n",
       "    </tr>\n",
       "  </tbody>\n",
       "</table>\n",
       "</div>"
      ],
      "text/plain": [
       "                                    user_id  \\\n",
       "0  00000c289a1829a808ac09c00daf10bc3c4e223b   \n",
       "1  00000c289a1829a808ac09c00daf10bc3c4e223b   \n",
       "2  00000c289a1829a808ac09c00daf10bc3c4e223b   \n",
       "3  00000c289a1829a808ac09c00daf10bc3c4e223b   \n",
       "4  00000c289a1829a808ac09c00daf10bc3c4e223b   \n",
       "\n",
       "                              artist_id           artist_name  plays  \n",
       "0  3bd73256-3905-4f3a-97e2-8b341527f805       betty blowtorch   2137  \n",
       "1  f2fb0ff0-5679-42ec-a55c-15109ce6e320            die Ãrzte   1099  \n",
       "2  b3ae82c2-e60b-4551-a76d-6620f1b456aa     melissa etheridge    897  \n",
       "3  3d6bbeb7-f90e-4d10-b440-e153c0d10b53             elvenking    717  \n",
       "4  bbd2ffd7-17f4-4506-8572-c1ea58c3f9a8  juliette & the licks    706  "
      ]
     },
     "metadata": {},
     "output_type": "display_data"
    },
    {
     "data": {
      "text/html": [
       "<div>\n",
       "<style scoped>\n",
       "    .dataframe tbody tr th:only-of-type {\n",
       "        vertical-align: middle;\n",
       "    }\n",
       "\n",
       "    .dataframe tbody tr th {\n",
       "        vertical-align: top;\n",
       "    }\n",
       "\n",
       "    .dataframe thead th {\n",
       "        text-align: right;\n",
       "    }\n",
       "</style>\n",
       "<table border=\"1\" class=\"dataframe\">\n",
       "  <thead>\n",
       "    <tr style=\"text-align: right;\">\n",
       "      <th></th>\n",
       "      <th>user_id</th>\n",
       "      <th>gender</th>\n",
       "      <th>age</th>\n",
       "      <th>country</th>\n",
       "      <th>signup</th>\n",
       "    </tr>\n",
       "  </thead>\n",
       "  <tbody>\n",
       "    <tr>\n",
       "      <th>0</th>\n",
       "      <td>00000c289a1829a808ac09c00daf10bc3c4e223b</td>\n",
       "      <td>f</td>\n",
       "      <td>22.0</td>\n",
       "      <td>Germany</td>\n",
       "      <td>Feb 1, 2007</td>\n",
       "    </tr>\n",
       "    <tr>\n",
       "      <th>1</th>\n",
       "      <td>00001411dc427966b17297bf4d69e7e193135d89</td>\n",
       "      <td>f</td>\n",
       "      <td>NaN</td>\n",
       "      <td>Canada</td>\n",
       "      <td>Dec 4, 2007</td>\n",
       "    </tr>\n",
       "    <tr>\n",
       "      <th>2</th>\n",
       "      <td>00004d2ac9316e22dc007ab2243d6fcb239e707d</td>\n",
       "      <td>NaN</td>\n",
       "      <td>NaN</td>\n",
       "      <td>Germany</td>\n",
       "      <td>Sep 1, 2006</td>\n",
       "    </tr>\n",
       "    <tr>\n",
       "      <th>3</th>\n",
       "      <td>000063d3fe1cf2ba248b9e3c3f0334845a27a6bf</td>\n",
       "      <td>m</td>\n",
       "      <td>19.0</td>\n",
       "      <td>Mexico</td>\n",
       "      <td>Apr 28, 2008</td>\n",
       "    </tr>\n",
       "    <tr>\n",
       "      <th>4</th>\n",
       "      <td>00007a47085b9aab8af55f52ec8846ac479ac4fe</td>\n",
       "      <td>m</td>\n",
       "      <td>28.0</td>\n",
       "      <td>United States</td>\n",
       "      <td>Jan 27, 2006</td>\n",
       "    </tr>\n",
       "  </tbody>\n",
       "</table>\n",
       "</div>"
      ],
      "text/plain": [
       "                                    user_id gender   age        country  \\\n",
       "0  00000c289a1829a808ac09c00daf10bc3c4e223b      f  22.0        Germany   \n",
       "1  00001411dc427966b17297bf4d69e7e193135d89      f   NaN         Canada   \n",
       "2  00004d2ac9316e22dc007ab2243d6fcb239e707d    NaN   NaN        Germany   \n",
       "3  000063d3fe1cf2ba248b9e3c3f0334845a27a6bf      m  19.0         Mexico   \n",
       "4  00007a47085b9aab8af55f52ec8846ac479ac4fe      m  28.0  United States   \n",
       "\n",
       "         signup  \n",
       "0   Feb 1, 2007  \n",
       "1   Dec 4, 2007  \n",
       "2   Sep 1, 2006  \n",
       "3  Apr 28, 2008  \n",
       "4  Jan 27, 2006  "
      ]
     },
     "metadata": {},
     "output_type": "display_data"
    }
   ],
   "source": [
    "import pandas as pd\n",
    "\n",
    "data_dir = \"notebook_assets/lastfm-dataset-360K\"\n",
    "\n",
    "events_cols = ['user_id', 'artist_id', 'artist_name', 'plays']\n",
    "events_df = pd.read_csv(f'{data_dir}/usersha1-artmbid-artname-plays.tsv', sep='\\t', names=events_cols, encoding='latin-1')\n",
    "display(events_df.head())\n",
    "events_df.to_csv(f'{data_dir}/events.tsv', sep='\\t', index=False)\n",
    "\n",
    "users_cols = ['user_id', 'gender', 'age', 'country', 'signup']\n",
    "users_df = pd.read_csv(f'{data_dir}/usersha1-profile.tsv', sep='\\t', names=users_cols, encoding='latin-1')\n",
    "display(users_df.head())\n",
    "users_df.to_csv(f'{data_dir}/users.tsv', sep='\\t', index=False)"
   ]
  },
  {
   "cell_type": "markdown",
   "id": "db51f80f",
   "metadata": {},
   "source": [
    "### Upload Data to Shaped"
   ]
  },
  {
   "attachments": {},
   "cell_type": "markdown",
   "id": "44152f4a",
   "metadata": {},
   "source": [
    "Shaped has support for many data connectors! For this tutorial we're going to be using native Shaped Datasets. To do that we need to:\n",
    "1. Create a .yaml file containing the dataset schema definition.\n",
    "2. Use Shaped CLI to create the dataset.\n",
    "3. Use Shaped CLI to upload the .tsv files we just created."
   ]
  },
  {
   "cell_type": "code",
   "execution_count": 6,
   "id": "27c71fa6",
   "metadata": {},
   "outputs": [],
   "source": [
    "\"\"\"\n",
    "Create a Shaped Dataset schema for each of the datasets and store in a .yaml file.\n",
    "\"\"\"\n",
    "\n",
    "import yaml\n",
    "\n",
    "dir_path = \"notebook_assets\"\n",
    "\n",
    "events_dataset_schema = {\n",
    "    \"dataset_name\": \"lastfm_events\",\n",
    "    \"schema_type\": \"CUSTOM\",\n",
    "    \"schema\": {\n",
    "        \"plays\": \"Int32\",\n",
    "        \"user_id\": \"String\",\n",
    "        \"artist_id\": \"String\",\n",
    "        \"artist_name\": \"String\"\n",
    "    }\n",
    "}\n",
    "\n",
    "with open(f'{dir_path}/events_dataset_schema.yaml', 'w') as file:\n",
    "    yaml.dump(events_dataset_schema, file)\n",
    "\n",
    "\n",
    "users_dataset_schema = {\n",
    "    \"dataset_name\": \"lastfm_users\",\n",
    "    \"schema_type\": \"CUSTOM\",\n",
    "    \"schema\": {\n",
    "        \"user_id\": \"String\",\n",
    "        \"gender\": \"String\",\n",
    "        \"age\": \"Int32\",\n",
    "        \"country\": \"String\",\n",
    "        \"signup\": \"String\"\n",
    "    }\n",
    "}\n",
    "\n",
    "\n",
    "with open(f'{dir_path}/users_dataset_schema.yaml', 'w') as file:\n",
    "    yaml.dump(users_dataset_schema, file)"
   ]
  },
  {
   "cell_type": "code",
   "execution_count": 7,
   "id": "0f6aaf01",
   "metadata": {
    "vscode": {
     "languageId": "shellscript"
    }
   },
   "outputs": [
    {
     "name": "stdout",
     "output_type": "stream",
     "text": [
      "{\n",
      "  \"dataset_name\": \"lastfm_events\",\n",
      "  \"schema\": {\n",
      "    \"artist_id\": \"String\",\n",
      "    \"artist_name\": \"String\",\n",
      "    \"plays\": \"Int32\",\n",
      "    \"user_id\": \"String\"\n",
      "  },\n",
      "  \"schema_type\": \"CUSTOM\"\n",
      "}\n",
      "message: Dataset with name 'lastfm_events' was successfully scheduled for creation\n",
      "\n",
      "{\n",
      "  \"dataset_name\": \"lastfm_users\",\n",
      "  \"schema\": {\n",
      "    \"age\": \"Int32\",\n",
      "    \"country\": \"String\",\n",
      "    \"gender\": \"String\",\n",
      "    \"signup\": \"String\",\n",
      "    \"user_id\": \"String\"\n",
      "  },\n",
      "  \"schema_type\": \"CUSTOM\"\n",
      "}\n",
      "message: Dataset with name 'lastfm_users' was successfully scheduled for creation\n",
      "\n"
     ]
    }
   ],
   "source": [
    "\"\"\"\n",
    "Create a Shaped Dataset using the .yaml schema files.\n",
    "\"\"\"\n",
    "! shaped create-dataset --file $DIR_NAME/events_dataset_schema.yaml\n",
    "! shaped create-dataset --file $DIR_NAME/users_dataset_schema.yaml"
   ]
  },
  {
   "attachments": {},
   "cell_type": "markdown",
   "id": "59208b15",
   "metadata": {},
   "source": [
    "It takes a moment to provision the infrastructure required for the datasets. You can monitor them using the CLI commnad:"
   ]
  },
  {
   "cell_type": "code",
   "execution_count": 9,
   "id": "fad2e46c",
   "metadata": {
    "vscode": {
     "languageId": "shellscript"
    }
   },
   "outputs": [
    {
     "name": "stdout",
     "output_type": "stream",
     "text": [
      "datasets:\n",
      "- dataset_name: lastfm_events\n",
      "  dataset_uri: https://api.shaped.ai/v1/datasets/lastfm_events\n",
      "  created_at: 2024-05-15T16:32:12 UTC\n",
      "  schema_type: CUSTOM\n",
      "  status: ACTIVE\n",
      "- dataset_name: lastfm_users\n",
      "  dataset_uri: https://api.shaped.ai/v1/datasets/lastfm_users\n",
      "  created_at: 2024-05-15T16:32:13 UTC\n",
      "  schema_type: CUSTOM\n",
      "  status: ACTIVE\n",
      "\n"
     ]
    }
   ],
   "source": [
    "! shaped list-datasets"
   ]
  },
  {
   "cell_type": "markdown",
   "id": "5b499817-7b0e-4a10-aa6a-ee5f75d3f8ba",
   "metadata": {},
   "source": [
    "Upload the .tsv files. You'll see the records uploading in batches of 1000.\n",
    "\n",
    "The full LastFM dataset has ~17 million events! To save time for this tutorial, we trim the dataset down to the first 100k events."
   ]
  },
  {
   "cell_type": "code",
   "execution_count": 10,
   "id": "d68d4806",
   "metadata": {
    "vscode": {
     "languageId": "shellscript"
    }
   },
   "outputs": [
    {
     "name": "stdout",
     "output_type": "stream",
     "text": [
      "100000 Records [01:14, 1344.27 Records/s]\n",
      "2032 Records [00:01, 1055.04 Records/s]\n"
     ]
    }
   ],
   "source": [
    "! head -n 100001 notebook_assets/lastfm-dataset-360K/events.tsv > notebook_assets/lastfm-dataset-360K/events_100k.tsv\n",
    "! head -n 2033 notebook_assets/lastfm-dataset-360K/users.tsv > notebook_assets/lastfm-dataset-360K/users_100k.tsv\n",
    "\n",
    "# Comment out these lines and replace them with the commented-out lines below if you wish to use the full dataset.\n",
    "# Warning - this will take ~2 hours to upload!\n",
    "! shaped dataset-insert --dataset-name lastfm_events --file notebook_assets/lastfm-dataset-360K/events_100k.tsv --type 'tsv'\n",
    "! shaped dataset-insert --dataset-name lastfm_users --file notebook_assets/lastfm-dataset-360K/users_100k.tsv --type 'tsv'\n",
    "\n",
    "# ! shaped dataset-insert --dataset-name lastfm_events --file notebook_assets/lastfm-dataset-360K/events.tsv --type 'tsv'\n",
    "# ! shaped dataset-insert --dataset-name lastfm_users --file notebook_assets/lastfm-dataset-360K/users.tsv --type 'tsv'"
   ]
  },
  {
   "attachments": {},
   "cell_type": "markdown",
   "id": "2fb59a55",
   "metadata": {},
   "source": [
    "### Model Creation\n",
    "\n",
    "We're now ready to create your Shaped model! To keep things simple, today, we're using the plays records to build a collaborative filtering model. Shaped will use these ratings to determine which users like which artist with the assumption that the more times the user played an artists music the more likely a user likes the artist.\n",
    "\n",
    "\n",
    "1. Create a .yaml file containing the model schema definition.\n",
    "2. Use Shaped CLI to create the model!\n",
    "\n",
    "For further details about creating models please refer to the [Create Model](https://docs.shaped.ai/docs/api#tag/Model/operation/post_create_models_post) API reference."
   ]
  },
  {
   "cell_type": "code",
   "execution_count": 11,
   "id": "779eecba",
   "metadata": {
    "scrolled": true
   },
   "outputs": [],
   "source": [
    "\"\"\"\n",
    "Create a Shaped Model schema and store in a .yaml file.\n",
    "\"\"\"\n",
    "\n",
    "import yaml\n",
    "\n",
    "lastfm_plays_model_schema = {\n",
    "    \"model\": {\n",
    "        \"name\": \"lastfm_artist_recommendations\"\n",
    "    },\n",
    "    \"connectors\": [\n",
    "        {\n",
    "            \"type\": \"Dataset\",\n",
    "            \"id\": \"lastfm_events\",\n",
    "            \"name\": \"lastfm_events\"\n",
    "        },\n",
    "        {\n",
    "            \"type\": \"Dataset\",\n",
    "            \"id\": \"lastfm_users\",\n",
    "            \"name\": \"lastfm_users\"\n",
    "        },\n",
    "    ],\n",
    "    \"fetch\": {\n",
    "        \"events\": \"SELECT user_id, artist_id AS item_id, 0 AS created_at, plays AS label FROM lastfm_events\",\n",
    "        \"users\": \"SELECT user_id, gender, age, country, signup FROM lastfm_users\",\n",
    "        \"items\": \"SELECT artist_id AS item_id, artist_name FROM lastfm_events\" \n",
    "    }\n",
    "}\n",
    "\n",
    "with open(f'{dir_path}/lastfm_plays_model_schema.yaml', 'w') as file:\n",
    "    yaml.dump(lastfm_plays_model_schema, file)"
   ]
  },
  {
   "cell_type": "code",
   "execution_count": 12,
   "id": "4c78e1bf",
   "metadata": {
    "vscode": {
     "languageId": "shellscript"
    }
   },
   "outputs": [
    {
     "name": "stdout",
     "output_type": "stream",
     "text": [
      "{\n",
      "  \"connectors\": [\n",
      "    {\n",
      "      \"id\": \"lastfm_events\",\n",
      "      \"name\": \"lastfm_events\",\n",
      "      \"type\": \"Dataset\"\n",
      "    },\n",
      "    {\n",
      "      \"id\": \"lastfm_users\",\n",
      "      \"name\": \"lastfm_users\",\n",
      "      \"type\": \"Dataset\"\n",
      "    }\n",
      "  ],\n",
      "  \"fetch\": {\n",
      "    \"events\": \"SELECT user_id, artist_id AS item_id, 0 AS created_at, plays AS label FROM lastfm_events\",\n",
      "    \"items\": \"SELECT artist_id AS item_id, artist_name FROM lastfm_events\",\n",
      "    \"users\": \"SELECT user_id, gender, age, country, signup FROM lastfm_users\"\n",
      "  },\n",
      "  \"model\": {\n",
      "    \"name\": \"lastfm_artist_recommendations\"\n",
      "  }\n",
      "}\n",
      "model_url: https://api.shaped.ai/v1/models/lastfm_artist_recommendations\n",
      "\n"
     ]
    }
   ],
   "source": [
    "\"\"\"\n",
    "Create a Shaped Model using the .yaml schema file.\n",
    "\"\"\"\n",
    "\n",
    "! shaped create-model --file $DIR_NAME/lastfm_plays_model_schema.yaml"
   ]
  },
  {
   "attachments": {},
   "cell_type": "markdown",
   "id": "afb8e6ae",
   "metadata": {},
   "source": [
    "Your recommendation model can take up to a few hours to provision your infrastructure and train on your historic events. This time mostly depends on how large your dataset is i.e. the volume of your users, items and interactions and the number of attributes you're providing.\n",
    "\n",
    "While the model is being setup, you can view its status with either the [List Models](https://docs.shaped.ai/docs/api#tag/Model/operation/get_models_models_get) or [View Model](https://docs.shaped.ai/docs/api) endpoints. For example, with the CLI:"
   ]
  },
  {
   "cell_type": "code",
   "execution_count": 14,
   "id": "54e3f9e0",
   "metadata": {
    "vscode": {
     "languageId": "shellscript"
    }
   },
   "outputs": [
    {
     "name": "stdout",
     "output_type": "stream",
     "text": [
      "models:\n",
      "- model_name: lastfm_artist_recommendations\n",
      "  model_uri: https://api.shaped.ai/v1/models/lastfm_artist_recommendations\n",
      "  created_at: 2024-05-15T17:03:17 UTC\n",
      "  status: ACTIVE\n",
      "\n"
     ]
    }
   ],
   "source": [
    "! shaped list-models"
   ]
  },
  {
   "attachments": {},
   "cell_type": "markdown",
   "id": "3bec2f3b",
   "metadata": {},
   "source": [
    "The initial model creation goes through the following stages in order:\n",
    "\n",
    "1. `SCHEDULING`<br/>\n",
    "2. `FETCHING`<br/>\n",
    "3. `TUNING`<br/>\n",
    "4. `TRAINING`<br/>\n",
    "5. `DEPLOYING`<br/>\n",
    "6. `ACTIVE`\n",
    "\n",
    "You can periodically poll Shaped to inspect these status changes. Once it's in the ACTIVE state, you can move to next step and use it to make rank requests."
   ]
  },
  {
   "cell_type": "markdown",
   "id": "da878c37",
   "metadata": {},
   "source": [
    "### Rank!"
   ]
  },
  {
   "attachments": {},
   "cell_type": "markdown",
   "id": "a3344515",
   "metadata": {},
   "source": [
    "You're now ready to fetch your movie recommendations! You can do this with the [Rank endpoint](https://docs.shaped.ai/docs/api#tag/Rank/operation/post_rank_models__model_id__rank_post). Just provide the user_id you wish to get the recommendations for and the number of recommendations you want returned.\n",
    "\n",
    "Shaped's CLI provides a convenience rank command to quickly retrieve results from the command line. You can use it as follows:"
   ]
  },
  {
   "cell_type": "code",
   "execution_count": 15,
   "id": "fad86940",
   "metadata": {
    "vscode": {
     "languageId": "shellscript"
    }
   },
   "outputs": [
    {
     "name": "stdout",
     "output_type": "stream",
     "text": [
      "ids:\n",
      "- b10bbbfc-cf9e-42e0-be17-e2c3e1d2600d\n",
      "- f9ef7a22-4262-4596-a2a8-1d19345b8e50\n",
      "- a74b1b7f-71a5-4011-9441-d0b5e4122711\n",
      "- 67e344da-ec54-4e26-b2a4-8351d744a14c\n",
      "- 31745282-b1ea-4d62-939f-226b14d68e7c\n",
      "scores:\n",
      "- 1.0\n",
      "- 0.80925343\n",
      "- 0.56741309\n",
      "- 0.45006668\n",
      "- 0.37382729\n",
      "\n"
     ]
    }
   ],
   "source": [
    "! shaped rank --model-name lastfm_artist_recommendations --user-id 00000c289a1829a808ac09c00daf10bc3c4e223b --limit 5"
   ]
  },
  {
   "attachments": {},
   "cell_type": "markdown",
   "id": "d27e0445",
   "metadata": {},
   "source": [
    "The response returns 2 parallel arrays containing the ids and ranking scores for the movies that Shaped estimates are most interesting to the given user.\n",
    "\n",
    "If you want to integrate this endpoint into your website or application you can use the Rank POST REST endpoint directly with the following request:"
   ]
  },
  {
   "cell_type": "code",
   "execution_count": null,
   "id": "b12700eb",
   "metadata": {
    "vscode": {
     "languageId": "shellscript"
    }
   },
   "outputs": [],
   "source": [
    "! curl https://api.prod.shaped.ai/v1/models/lastfm_artist_recommendations/rank \\\n",
    "  -H \"x-api-key: <YOUR_API_KEY>\" \\\n",
    "  -H \"Content-Type: application/json\" \\\n",
    "  -d '{ \"user_id\": \"00000c289a1829a808ac09c00daf10bc3c4e223b\", \"limit\": 5 }'"
   ]
  },
  {
   "attachments": {},
   "cell_type": "markdown",
   "id": "99b60aab",
   "metadata": {},
   "source": [
    "Wow! It was that easy to see top 5 artists for the passed in `user_id` 🍾. Now let's add ranking to your product :)"
   ]
  },
  {
   "cell_type": "markdown",
   "id": "f0e498cd",
   "metadata": {},
   "source": [
    "### Clean Up"
   ]
  },
  {
   "attachments": {},
   "cell_type": "markdown",
   "id": "c38af39f",
   "metadata": {},
   "source": [
    "Don't forget to delete your model (and its assets) and the datasets once you're finished with them. You can do it with the following CLI command:"
   ]
  },
  {
   "cell_type": "code",
   "execution_count": 17,
   "id": "4ca47e20",
   "metadata": {
    "vscode": {
     "languageId": "shellscript"
    }
   },
   "outputs": [
    {
     "name": "stdout",
     "output_type": "stream",
     "text": [
      "message: Model with name 'lastfm_artist_recommendations' is deleting...\n",
      "\n",
      "message: Dataset with name 'lastfm_events' was successfully scheduled for deletion.\n",
      "\n",
      "message: Dataset with name 'lastfm_users' was successfully scheduled for deletion.\n",
      "\n"
     ]
    }
   ],
   "source": [
    "! shaped delete-model --model-name lastfm_artist_recommendations\n",
    "\n",
    "! shaped delete-dataset --dataset-name lastfm_events\n",
    "! shaped delete-dataset --dataset-name lastfm_users\n",
    "\n",
    "! rm -r notebook_assets"
   ]
  },
  {
   "cell_type": "code",
   "execution_count": null,
   "id": "5f90aca4-41d1-4d17-a45e-d2576ec23313",
   "metadata": {},
   "outputs": [],
   "source": []
  }
 ],
 "metadata": {
  "kernelspec": {
   "display_name": "Python 3 (ipykernel)",
   "language": "python",
   "name": "python3"
  },
  "language_info": {
   "codemirror_mode": {
    "name": "ipython",
    "version": 3
   },
   "file_extension": ".py",
   "mimetype": "text/x-python",
   "name": "python",
   "nbconvert_exporter": "python",
   "pygments_lexer": "ipython3",
   "version": "3.11.6"
  },
  "vscode": {
   "interpreter": {
    "hash": "b0fa6594d8f4cbf19f97940f81e996739fb7646882a419484c72d19e05852a7e"
   }
  }
 },
 "nbformat": 4,
 "nbformat_minor": 5
}
