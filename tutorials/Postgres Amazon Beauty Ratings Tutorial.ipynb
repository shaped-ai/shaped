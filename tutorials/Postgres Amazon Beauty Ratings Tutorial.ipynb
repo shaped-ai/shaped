{
 "cells": [
  {
   "attachments": {},
   "cell_type": "markdown",
   "id": "64912faf",
   "metadata": {},
   "source": [
    "This notebook will walk you through an example of:\n",
    "1. \\*Downloading the Amazon Beauty dataset into jsonl files and storing it in a Postgres instance.\n",
    "2. Setting up a model for the Amazon Beauty dataset from the Postgres instance.\n",
    "3. Fetching the products that are most likely to be purcahsed for a specific user.\n",
    "\n",
    "\\*This step has nothing to do with Shaped and is all about prepping the test dataset. If you already have your data in a Postgres instance you can skip to step 2.\n",
    "\n",
    "Let's get started! 🚀"
   ]
  },
  {
   "attachments": {},
   "cell_type": "markdown",
   "id": "b3f8240f",
   "metadata": {},
   "source": [
    "## Preparing Data\n",
    "### Setup\n",
    "1. Install `pandas` to view and edit the sample dataset.\n",
    "2. Install `sqlalchemy` and `psycopg2` for connecting to your Postgres instance and uploading data to it."
   ]
  },
  {
   "cell_type": "code",
   "execution_count": 29,
   "id": "7ef4cefc",
   "metadata": {
    "scrolled": true,
    "vscode": {
     "languageId": "shellscript"
    }
   },
   "outputs": [
    {
     "name": "stdout",
     "output_type": "stream",
     "text": [
      "Requirement already satisfied: pandas in /home/ubuntu/.conda/envs/tutorials/lib/python3.9/site-packages (1.5.3)\n",
      "Requirement already satisfied: numpy>=1.20.3 in /home/ubuntu/.conda/envs/tutorials/lib/python3.9/site-packages (from pandas) (1.24.2)\n",
      "Requirement already satisfied: pytz>=2020.1 in /home/ubuntu/.conda/envs/tutorials/lib/python3.9/site-packages (from pandas) (2023.3)\n",
      "Requirement already satisfied: python-dateutil>=2.8.1 in /home/ubuntu/.conda/envs/tutorials/lib/python3.9/site-packages (from pandas) (2.8.2)\n",
      "Requirement already satisfied: six>=1.5 in /home/ubuntu/.conda/envs/tutorials/lib/python3.9/site-packages (from python-dateutil>=2.8.1->pandas) (1.16.0)\n",
      "Requirement already satisfied: sqlalchemy in /home/ubuntu/.conda/envs/tutorials/lib/python3.9/site-packages (2.0.9)\n",
      "Requirement already satisfied: greenlet!=0.4.17 in /home/ubuntu/.conda/envs/tutorials/lib/python3.9/site-packages (from sqlalchemy) (2.0.2)\n",
      "Requirement already satisfied: typing-extensions>=4.2.0 in /home/ubuntu/.conda/envs/tutorials/lib/python3.9/site-packages (from sqlalchemy) (4.5.0)\n",
      "Requirement already satisfied: psycopg2 in /home/ubuntu/.conda/envs/tutorials/lib/python3.9/site-packages (2.9.6)\n"
     ]
    }
   ],
   "source": [
    "! pip install pandas\n",
    "! pip install sqlalchemy\n",
    "! pip install psycopg2"
   ]
  },
  {
   "cell_type": "markdown",
   "id": "ef322ca0",
   "metadata": {},
   "source": [
    "### Download Public Dataset"
   ]
  },
  {
   "attachments": {},
   "cell_type": "markdown",
   "id": "6f3f3a19",
   "metadata": {},
   "source": [
    "Fetch the publicly hosted Amazon Beauty dataset."
   ]
  },
  {
   "cell_type": "code",
   "execution_count": 30,
   "id": "e0f89d23",
   "metadata": {
    "vscode": {
     "languageId": "shellscript"
    }
   },
   "outputs": [
    {
     "name": "stdout",
     "output_type": "stream",
     "text": [
      "Downloading Amazon Beauty data...\n",
      "--2023-04-17 20:58:05--  https://jmcauley.ucsd.edu/data/amazon_v2/categoryFiles/All_Beauty.json.gz\n",
      "Resolving jmcauley.ucsd.edu (jmcauley.ucsd.edu)... 137.110.160.73\n",
      "Connecting to jmcauley.ucsd.edu (jmcauley.ucsd.edu)|137.110.160.73|:443... connected.\n",
      "WARNING: cannot verify jmcauley.ucsd.edu's certificate, issued by ‘CN=InCommon RSA Server CA,OU=InCommon,O=Internet2,L=Ann Arbor,ST=MI,C=US’:\n",
      "  Unable to locally verify the issuer's authority.\n",
      "HTTP request sent, awaiting response... 200 OK\n",
      "Length: 47350910 (45M) [application/x-gzip]\n",
      "Saving to: ‘amazon_beauty_model_assets/All_Beauty.json.gz’\n",
      "\n",
      "All_Beauty.json.gz  100%[===================>]  45.16M  27.7MB/s    in 1.6s    \n",
      "\n",
      "2023-04-17 20:58:07 (27.7 MB/s) - ‘amazon_beauty_model_assets/All_Beauty.json.gz’ saved [47350910/47350910]\n",
      "\n",
      "--2023-04-17 20:58:09--  https://jmcauley.ucsd.edu/data/amazon_v2/metaFiles2/meta_All_Beauty.json.gz\n",
      "Resolving jmcauley.ucsd.edu (jmcauley.ucsd.edu)... 137.110.160.73\n",
      "Connecting to jmcauley.ucsd.edu (jmcauley.ucsd.edu)|137.110.160.73|:443... connected.\n",
      "WARNING: cannot verify jmcauley.ucsd.edu's certificate, issued by ‘CN=InCommon RSA Server CA,OU=InCommon,O=Internet2,L=Ann Arbor,ST=MI,C=US’:\n",
      "  Unable to locally verify the issuer's authority.\n",
      "HTTP request sent, awaiting response... 200 OK\n",
      "Length: 10329961 (9.9M) [application/x-gzip]\n",
      "Saving to: ‘amazon_beauty_model_assets/meta_All_Beauty.json.gz’\n",
      "\n",
      "meta_All_Beauty.jso 100%[===================>]   9.85M  12.9MB/s    in 0.8s    \n",
      "\n",
      "2023-04-17 20:58:10 (12.9 MB/s) - ‘amazon_beauty_model_assets/meta_All_Beauty.json.gz’ saved [10329961/10329961]\n",
      "\n"
     ]
    }
   ],
   "source": [
    "! echo \"Downloading Amazon Beauty data...\"\n",
    "\n",
    "DIR_NAME = \"amazon_beauty_model_assets\"\n",
    "! mkdir $DIR_NAME\n",
    "\n",
    "# Beauty product ratings.\n",
    "! wget https://jmcauley.ucsd.edu/data/amazon_v2/categoryFiles/All_Beauty.json.gz --no-check-certificate -P $DIR_NAME\n",
    "! gzip -d $DIR_NAME/All_Beauty.json.gz\n",
    "\n",
    "# Bueaty product metadata.\n",
    "! wget https://jmcauley.ucsd.edu/data/amazon_v2/metaFiles2/meta_All_Beauty.json.gz --no-check-certificate -P $DIR_NAME\n",
    "! gzip -d $DIR_NAME/meta_All_Beauty.json.gz"
   ]
  },
  {
   "attachments": {},
   "cell_type": "markdown",
   "id": "47e694ae",
   "metadata": {},
   "source": [
    "Let's take a look at the downloaded dataset. There are two tables of interest:\n",
    "- `reviews` which are stored in `All_Beauty.json`\n",
    "- `products` which are stored in `meta_All_Beauty.json`\n",
    "\n",
    "Note that the data is actually stored in jsonl files so we need to use `lines=True` when reading the data."
   ]
  },
  {
   "cell_type": "code",
   "execution_count": 31,
   "id": "7d4e5d55",
   "metadata": {},
   "outputs": [
    {
     "data": {
      "text/html": [
       "<div>\n",
       "<style scoped>\n",
       "    .dataframe tbody tr th:only-of-type {\n",
       "        vertical-align: middle;\n",
       "    }\n",
       "\n",
       "    .dataframe tbody tr th {\n",
       "        vertical-align: top;\n",
       "    }\n",
       "\n",
       "    .dataframe thead th {\n",
       "        text-align: right;\n",
       "    }\n",
       "</style>\n",
       "<table border=\"1\" class=\"dataframe\">\n",
       "  <thead>\n",
       "    <tr style=\"text-align: right;\">\n",
       "      <th></th>\n",
       "      <th>overall</th>\n",
       "      <th>verified</th>\n",
       "      <th>reviewTime</th>\n",
       "      <th>reviewerID</th>\n",
       "      <th>asin</th>\n",
       "      <th>reviewerName</th>\n",
       "      <th>reviewText</th>\n",
       "      <th>summary</th>\n",
       "      <th>unixReviewTime</th>\n",
       "      <th>vote</th>\n",
       "      <th>style</th>\n",
       "      <th>image</th>\n",
       "    </tr>\n",
       "  </thead>\n",
       "  <tbody>\n",
       "    <tr>\n",
       "      <th>0</th>\n",
       "      <td>1</td>\n",
       "      <td>True</td>\n",
       "      <td>02 19, 2015</td>\n",
       "      <td>A1V6B6TNIC10QE</td>\n",
       "      <td>0143026860</td>\n",
       "      <td>theodore j bigham</td>\n",
       "      <td>great</td>\n",
       "      <td>One Star</td>\n",
       "      <td>1424304000</td>\n",
       "      <td>NaN</td>\n",
       "      <td>NaN</td>\n",
       "      <td>NaN</td>\n",
       "    </tr>\n",
       "    <tr>\n",
       "      <th>1</th>\n",
       "      <td>4</td>\n",
       "      <td>True</td>\n",
       "      <td>12 18, 2014</td>\n",
       "      <td>A2F5GHSXFQ0W6J</td>\n",
       "      <td>0143026860</td>\n",
       "      <td>Mary K. Byke</td>\n",
       "      <td>My  husband wanted to reading about the Negro ...</td>\n",
       "      <td>... to reading about the Negro Baseball and th...</td>\n",
       "      <td>1418860800</td>\n",
       "      <td>NaN</td>\n",
       "      <td>NaN</td>\n",
       "      <td>NaN</td>\n",
       "    </tr>\n",
       "    <tr>\n",
       "      <th>2</th>\n",
       "      <td>4</td>\n",
       "      <td>True</td>\n",
       "      <td>08 10, 2014</td>\n",
       "      <td>A1572GUYS7DGSR</td>\n",
       "      <td>0143026860</td>\n",
       "      <td>David G</td>\n",
       "      <td>This book was very informative, covering all a...</td>\n",
       "      <td>Worth the Read</td>\n",
       "      <td>1407628800</td>\n",
       "      <td>NaN</td>\n",
       "      <td>NaN</td>\n",
       "      <td>NaN</td>\n",
       "    </tr>\n",
       "    <tr>\n",
       "      <th>3</th>\n",
       "      <td>5</td>\n",
       "      <td>True</td>\n",
       "      <td>03 11, 2013</td>\n",
       "      <td>A1PSGLFK1NSVO</td>\n",
       "      <td>0143026860</td>\n",
       "      <td>TamB</td>\n",
       "      <td>I am already a baseball fan and knew a bit abo...</td>\n",
       "      <td>Good Read</td>\n",
       "      <td>1362960000</td>\n",
       "      <td>NaN</td>\n",
       "      <td>NaN</td>\n",
       "      <td>NaN</td>\n",
       "    </tr>\n",
       "    <tr>\n",
       "      <th>4</th>\n",
       "      <td>5</td>\n",
       "      <td>True</td>\n",
       "      <td>12 25, 2011</td>\n",
       "      <td>A6IKXKZMTKGSC</td>\n",
       "      <td>0143026860</td>\n",
       "      <td>shoecanary</td>\n",
       "      <td>This was a good story of the Black leagues. I ...</td>\n",
       "      <td>More than facts, a good story read!</td>\n",
       "      <td>1324771200</td>\n",
       "      <td>5</td>\n",
       "      <td>NaN</td>\n",
       "      <td>NaN</td>\n",
       "    </tr>\n",
       "  </tbody>\n",
       "</table>\n",
       "</div>"
      ],
      "text/plain": [
       "   overall  verified   reviewTime      reviewerID        asin  \\\n",
       "0        1      True  02 19, 2015  A1V6B6TNIC10QE  0143026860   \n",
       "1        4      True  12 18, 2014  A2F5GHSXFQ0W6J  0143026860   \n",
       "2        4      True  08 10, 2014  A1572GUYS7DGSR  0143026860   \n",
       "3        5      True  03 11, 2013   A1PSGLFK1NSVO  0143026860   \n",
       "4        5      True  12 25, 2011   A6IKXKZMTKGSC  0143026860   \n",
       "\n",
       "        reviewerName                                         reviewText  \\\n",
       "0  theodore j bigham                                              great   \n",
       "1       Mary K. Byke  My  husband wanted to reading about the Negro ...   \n",
       "2            David G  This book was very informative, covering all a...   \n",
       "3               TamB  I am already a baseball fan and knew a bit abo...   \n",
       "4         shoecanary  This was a good story of the Black leagues. I ...   \n",
       "\n",
       "                                             summary  unixReviewTime vote  \\\n",
       "0                                           One Star      1424304000  NaN   \n",
       "1  ... to reading about the Negro Baseball and th...      1418860800  NaN   \n",
       "2                                     Worth the Read      1407628800  NaN   \n",
       "3                                          Good Read      1362960000  NaN   \n",
       "4                More than facts, a good story read!      1324771200    5   \n",
       "\n",
       "  style image  \n",
       "0   NaN   NaN  \n",
       "1   NaN   NaN  \n",
       "2   NaN   NaN  \n",
       "3   NaN   NaN  \n",
       "4   NaN   NaN  "
      ]
     },
     "metadata": {},
     "output_type": "display_data"
    },
    {
     "data": {
      "text/html": [
       "<div>\n",
       "<style scoped>\n",
       "    .dataframe tbody tr th:only-of-type {\n",
       "        vertical-align: middle;\n",
       "    }\n",
       "\n",
       "    .dataframe tbody tr th {\n",
       "        vertical-align: top;\n",
       "    }\n",
       "\n",
       "    .dataframe thead th {\n",
       "        text-align: right;\n",
       "    }\n",
       "</style>\n",
       "<table border=\"1\" class=\"dataframe\">\n",
       "  <thead>\n",
       "    <tr style=\"text-align: right;\">\n",
       "      <th></th>\n",
       "      <th>category</th>\n",
       "      <th>tech1</th>\n",
       "      <th>description</th>\n",
       "      <th>fit</th>\n",
       "      <th>title</th>\n",
       "      <th>also_buy</th>\n",
       "      <th>tech2</th>\n",
       "      <th>brand</th>\n",
       "      <th>feature</th>\n",
       "      <th>rank</th>\n",
       "      <th>also_view</th>\n",
       "      <th>details</th>\n",
       "      <th>main_cat</th>\n",
       "      <th>similar_item</th>\n",
       "      <th>date</th>\n",
       "      <th>price</th>\n",
       "      <th>asin</th>\n",
       "      <th>imageURL</th>\n",
       "      <th>imageURLHighRes</th>\n",
       "    </tr>\n",
       "  </thead>\n",
       "  <tbody>\n",
       "    <tr>\n",
       "      <th>0</th>\n",
       "      <td>[]</td>\n",
       "      <td></td>\n",
       "      <td>[Loud 'N Clear Personal Sound Amplifier allows...</td>\n",
       "      <td></td>\n",
       "      <td>Loud 'N Clear&amp;trade; Personal Sound Amplifier</td>\n",
       "      <td>[]</td>\n",
       "      <td></td>\n",
       "      <td>idea village</td>\n",
       "      <td>[]</td>\n",
       "      <td>2,938,573 in Beauty &amp; Personal Care (</td>\n",
       "      <td>[]</td>\n",
       "      <td>{'ASIN: ': '6546546450'}</td>\n",
       "      <td>All Beauty</td>\n",
       "      <td></td>\n",
       "      <td></td>\n",
       "      <td></td>\n",
       "      <td>6546546450</td>\n",
       "      <td>[]</td>\n",
       "      <td>[]</td>\n",
       "    </tr>\n",
       "    <tr>\n",
       "      <th>1</th>\n",
       "      <td>[]</td>\n",
       "      <td></td>\n",
       "      <td>[No7 Lift &amp; Luminate Triple Action Serum 50ml ...</td>\n",
       "      <td></td>\n",
       "      <td>No7 Lift &amp;amp; Luminate Triple Action Serum 50...</td>\n",
       "      <td>[B01E7LCSL6, B008X5RVME]</td>\n",
       "      <td></td>\n",
       "      <td></td>\n",
       "      <td>[]</td>\n",
       "      <td>872,854 in Beauty &amp; Personal Care (</td>\n",
       "      <td>[]</td>\n",
       "      <td>{'Shipping Weight:': '0.3 ounces (', 'ASIN: ':...</td>\n",
       "      <td>All Beauty</td>\n",
       "      <td>class=\"a-bordered a-horizontal-stripes  a-spa...</td>\n",
       "      <td></td>\n",
       "      <td>$44.99</td>\n",
       "      <td>7178680776</td>\n",
       "      <td>[]</td>\n",
       "      <td>[]</td>\n",
       "    </tr>\n",
       "    <tr>\n",
       "      <th>2</th>\n",
       "      <td>[]</td>\n",
       "      <td></td>\n",
       "      <td>[No7 Stay Perfect Foundation now stays perfect...</td>\n",
       "      <td></td>\n",
       "      <td>No7 Stay Perfect Foundation Cool Vanilla by No7</td>\n",
       "      <td>[]</td>\n",
       "      <td></td>\n",
       "      <td>No7</td>\n",
       "      <td>[]</td>\n",
       "      <td>956,696 in Beauty &amp; Personal Care (</td>\n",
       "      <td>[B01B8BR0O8, B01B8BR0NO, B014MHXXM8]</td>\n",
       "      <td>{'Shipping Weight:': '3.5 ounces (', 'ASIN: ':...</td>\n",
       "      <td>All Beauty</td>\n",
       "      <td></td>\n",
       "      <td></td>\n",
       "      <td>$28.76</td>\n",
       "      <td>7250468162</td>\n",
       "      <td>[]</td>\n",
       "      <td>[]</td>\n",
       "    </tr>\n",
       "    <tr>\n",
       "      <th>3</th>\n",
       "      <td>[]</td>\n",
       "      <td></td>\n",
       "      <td>[]</td>\n",
       "      <td></td>\n",
       "      <td>Wella Koleston Perfect Hair Colour 44/44 Mediu...</td>\n",
       "      <td>[B0041PBXX8]</td>\n",
       "      <td></td>\n",
       "      <td></td>\n",
       "      <td>[]</td>\n",
       "      <td>1,870,258 in Beauty &amp; Personal Care (</td>\n",
       "      <td>[]</td>\n",
       "      <td>{'\n",
       "    Item Weight: \n",
       "    ': '1.76 ounces', 'Sh...</td>\n",
       "      <td>All Beauty</td>\n",
       "      <td></td>\n",
       "      <td></td>\n",
       "      <td></td>\n",
       "      <td>7367905066</td>\n",
       "      <td>[https://images-na.ssl-images-amazon.com/image...</td>\n",
       "      <td>[https://images-na.ssl-images-amazon.com/image...</td>\n",
       "    </tr>\n",
       "    <tr>\n",
       "      <th>4</th>\n",
       "      <td>[]</td>\n",
       "      <td></td>\n",
       "      <td>[Lacto Calamine Skin Balance Daily Nourishing ...</td>\n",
       "      <td></td>\n",
       "      <td>Lacto Calamine Skin Balance Oil control 120 ml...</td>\n",
       "      <td>[]</td>\n",
       "      <td></td>\n",
       "      <td>Pirmal Healthcare</td>\n",
       "      <td>[]</td>\n",
       "      <td>67,701 in Beauty &amp; Personal Care (</td>\n",
       "      <td>[3254895630, B007VL1D9S, B00EH9A0RI, B0773MBG4...</td>\n",
       "      <td>{'Shipping Weight:': '12 ounces (', 'ASIN: ': ...</td>\n",
       "      <td>All Beauty</td>\n",
       "      <td></td>\n",
       "      <td></td>\n",
       "      <td>$12.15</td>\n",
       "      <td>7414204790</td>\n",
       "      <td>[https://images-na.ssl-images-amazon.com/image...</td>\n",
       "      <td>[https://images-na.ssl-images-amazon.com/image...</td>\n",
       "    </tr>\n",
       "  </tbody>\n",
       "</table>\n",
       "</div>"
      ],
      "text/plain": [
       "  category tech1                                        description fit  \\\n",
       "0       []        [Loud 'N Clear Personal Sound Amplifier allows...       \n",
       "1       []        [No7 Lift & Luminate Triple Action Serum 50ml ...       \n",
       "2       []        [No7 Stay Perfect Foundation now stays perfect...       \n",
       "3       []                                                       []       \n",
       "4       []        [Lacto Calamine Skin Balance Daily Nourishing ...       \n",
       "\n",
       "                                               title  \\\n",
       "0      Loud 'N Clear&trade; Personal Sound Amplifier   \n",
       "1  No7 Lift &amp; Luminate Triple Action Serum 50...   \n",
       "2    No7 Stay Perfect Foundation Cool Vanilla by No7   \n",
       "3  Wella Koleston Perfect Hair Colour 44/44 Mediu...   \n",
       "4  Lacto Calamine Skin Balance Oil control 120 ml...   \n",
       "\n",
       "                   also_buy tech2              brand feature  \\\n",
       "0                        []             idea village      []   \n",
       "1  [B01E7LCSL6, B008X5RVME]                               []   \n",
       "2                        []                      No7      []   \n",
       "3              [B0041PBXX8]                               []   \n",
       "4                        []        Pirmal Healthcare      []   \n",
       "\n",
       "                                    rank  \\\n",
       "0  2,938,573 in Beauty & Personal Care (   \n",
       "1    872,854 in Beauty & Personal Care (   \n",
       "2    956,696 in Beauty & Personal Care (   \n",
       "3  1,870,258 in Beauty & Personal Care (   \n",
       "4     67,701 in Beauty & Personal Care (   \n",
       "\n",
       "                                           also_view  \\\n",
       "0                                                 []   \n",
       "1                                                 []   \n",
       "2               [B01B8BR0O8, B01B8BR0NO, B014MHXXM8]   \n",
       "3                                                 []   \n",
       "4  [3254895630, B007VL1D9S, B00EH9A0RI, B0773MBG4...   \n",
       "\n",
       "                                             details    main_cat  \\\n",
       "0                           {'ASIN: ': '6546546450'}  All Beauty   \n",
       "1  {'Shipping Weight:': '0.3 ounces (', 'ASIN: ':...  All Beauty   \n",
       "2  {'Shipping Weight:': '3.5 ounces (', 'ASIN: ':...  All Beauty   \n",
       "3  {'\n",
       "    Item Weight: \n",
       "    ': '1.76 ounces', 'Sh...  All Beauty   \n",
       "4  {'Shipping Weight:': '12 ounces (', 'ASIN: ': ...  All Beauty   \n",
       "\n",
       "                                        similar_item date   price        asin  \\\n",
       "0                                                                  6546546450   \n",
       "1   class=\"a-bordered a-horizontal-stripes  a-spa...       $44.99  7178680776   \n",
       "2                                                          $28.76  7250468162   \n",
       "3                                                                  7367905066   \n",
       "4                                                          $12.15  7414204790   \n",
       "\n",
       "                                            imageURL  \\\n",
       "0                                                 []   \n",
       "1                                                 []   \n",
       "2                                                 []   \n",
       "3  [https://images-na.ssl-images-amazon.com/image...   \n",
       "4  [https://images-na.ssl-images-amazon.com/image...   \n",
       "\n",
       "                                     imageURLHighRes  \n",
       "0                                                 []  \n",
       "1                                                 []  \n",
       "2                                                 []  \n",
       "3  [https://images-na.ssl-images-amazon.com/image...  \n",
       "4  [https://images-na.ssl-images-amazon.com/image...  "
      ]
     },
     "metadata": {},
     "output_type": "display_data"
    }
   ],
   "source": [
    "import pandas as pd\n",
    "\n",
    "data_dir = \"amazon_beauty_model_assets\"\n",
    "\n",
    "events_df = pd.read_json(f'{data_dir}/All_Beauty.json', lines=True)\n",
    "display(events_df.head())\n",
    "\n",
    "products_df = pd.read_json(f'{data_dir}/meta_All_Beauty.json', lines=True)\n",
    "display(products_df.head())"
   ]
  },
  {
   "attachments": {},
   "cell_type": "markdown",
   "id": "44152f4a",
   "metadata": {},
   "source": [
    "As we can see, there is a lot of data! You'll notice that it's very noisy. The prices have to be treated as strings because of the '$' sign, and many of the fields contain empty strings or malformed HTML that was misparsed during the crawling process. In most cases, you'd have to spend time cleaning all this data, however, with Shaped you can feed it through in this state and Shaped will do the cleaning for you. The way we do this is by treating all input data as unstructured, and using large language models to distill the meaning of each column.\n",
    "\n",
    "Shaped doesn't require much data to work. At a minimum we need to know the `user_id`, `item_id`, `label`, and `created_at` columns of the interactions table. If the `users` and `items` tables are provided then the only requirement is their respective id columns are aliased to `user_id` and `item_id`.\n",
    "\n",
    "For brevity, we'll only use a subset of the columns. You'll notice we include a couple of feature columns for the `items` (`title` and `price`).\n",
    "\n",
    "For the interaction data we take a look at `events_df` and see the relevant columns for the interactions are:\n",
    "- `reviewerID`: Is the user who is reviewing the item.\n",
    "- `asin`: Is a unique identification for a product. It will be used as an item to train our models.\n",
    "- `overall`: Is the review of a product given by a user.\n",
    "- `unixReviewTime`: Is the time the review was given.\n",
    "\n",
    "For the item data we take a look at `products_df` and see the relevant columns for the items are:\n",
    "- `asin`: Is a unique identification for a product.\n",
    "- `title`: Is the name of the product.\n",
    "- `price`: Is the price in US dollars."
   ]
  },
  {
   "cell_type": "code",
   "execution_count": 32,
   "id": "27c71fa6",
   "metadata": {},
   "outputs": [
    {
     "data": {
      "text/html": [
       "<div>\n",
       "<style scoped>\n",
       "    .dataframe tbody tr th:only-of-type {\n",
       "        vertical-align: middle;\n",
       "    }\n",
       "\n",
       "    .dataframe tbody tr th {\n",
       "        vertical-align: top;\n",
       "    }\n",
       "\n",
       "    .dataframe thead th {\n",
       "        text-align: right;\n",
       "    }\n",
       "</style>\n",
       "<table border=\"1\" class=\"dataframe\">\n",
       "  <thead>\n",
       "    <tr style=\"text-align: right;\">\n",
       "      <th></th>\n",
       "      <th>reviewerID</th>\n",
       "      <th>asin</th>\n",
       "      <th>overall</th>\n",
       "      <th>unixReviewTime</th>\n",
       "    </tr>\n",
       "  </thead>\n",
       "  <tbody>\n",
       "    <tr>\n",
       "      <th>0</th>\n",
       "      <td>A1V6B6TNIC10QE</td>\n",
       "      <td>0143026860</td>\n",
       "      <td>1</td>\n",
       "      <td>1424304000</td>\n",
       "    </tr>\n",
       "    <tr>\n",
       "      <th>1</th>\n",
       "      <td>A2F5GHSXFQ0W6J</td>\n",
       "      <td>0143026860</td>\n",
       "      <td>4</td>\n",
       "      <td>1418860800</td>\n",
       "    </tr>\n",
       "    <tr>\n",
       "      <th>2</th>\n",
       "      <td>A1572GUYS7DGSR</td>\n",
       "      <td>0143026860</td>\n",
       "      <td>4</td>\n",
       "      <td>1407628800</td>\n",
       "    </tr>\n",
       "    <tr>\n",
       "      <th>3</th>\n",
       "      <td>A1PSGLFK1NSVO</td>\n",
       "      <td>0143026860</td>\n",
       "      <td>5</td>\n",
       "      <td>1362960000</td>\n",
       "    </tr>\n",
       "    <tr>\n",
       "      <th>4</th>\n",
       "      <td>A6IKXKZMTKGSC</td>\n",
       "      <td>0143026860</td>\n",
       "      <td>5</td>\n",
       "      <td>1324771200</td>\n",
       "    </tr>\n",
       "  </tbody>\n",
       "</table>\n",
       "</div>"
      ],
      "text/plain": [
       "       reviewerID        asin  overall  unixReviewTime\n",
       "0  A1V6B6TNIC10QE  0143026860        1      1424304000\n",
       "1  A2F5GHSXFQ0W6J  0143026860        4      1418860800\n",
       "2  A1572GUYS7DGSR  0143026860        4      1407628800\n",
       "3   A1PSGLFK1NSVO  0143026860        5      1362960000\n",
       "4   A6IKXKZMTKGSC  0143026860        5      1324771200"
      ]
     },
     "metadata": {},
     "output_type": "display_data"
    },
    {
     "data": {
      "text/html": [
       "<div>\n",
       "<style scoped>\n",
       "    .dataframe tbody tr th:only-of-type {\n",
       "        vertical-align: middle;\n",
       "    }\n",
       "\n",
       "    .dataframe tbody tr th {\n",
       "        vertical-align: top;\n",
       "    }\n",
       "\n",
       "    .dataframe thead th {\n",
       "        text-align: right;\n",
       "    }\n",
       "</style>\n",
       "<table border=\"1\" class=\"dataframe\">\n",
       "  <thead>\n",
       "    <tr style=\"text-align: right;\">\n",
       "      <th></th>\n",
       "      <th>asin</th>\n",
       "      <th>title</th>\n",
       "      <th>price</th>\n",
       "    </tr>\n",
       "  </thead>\n",
       "  <tbody>\n",
       "    <tr>\n",
       "      <th>0</th>\n",
       "      <td>6546546450</td>\n",
       "      <td>Loud 'N Clear&amp;trade; Personal Sound Amplifier</td>\n",
       "      <td></td>\n",
       "    </tr>\n",
       "    <tr>\n",
       "      <th>1</th>\n",
       "      <td>7178680776</td>\n",
       "      <td>No7 Lift &amp;amp; Luminate Triple Action Serum 50...</td>\n",
       "      <td>$44.99</td>\n",
       "    </tr>\n",
       "    <tr>\n",
       "      <th>2</th>\n",
       "      <td>7250468162</td>\n",
       "      <td>No7 Stay Perfect Foundation Cool Vanilla by No7</td>\n",
       "      <td>$28.76</td>\n",
       "    </tr>\n",
       "    <tr>\n",
       "      <th>3</th>\n",
       "      <td>7367905066</td>\n",
       "      <td>Wella Koleston Perfect Hair Colour 44/44 Mediu...</td>\n",
       "      <td></td>\n",
       "    </tr>\n",
       "    <tr>\n",
       "      <th>4</th>\n",
       "      <td>7414204790</td>\n",
       "      <td>Lacto Calamine Skin Balance Oil control 120 ml...</td>\n",
       "      <td>$12.15</td>\n",
       "    </tr>\n",
       "  </tbody>\n",
       "</table>\n",
       "</div>"
      ],
      "text/plain": [
       "         asin                                              title   price\n",
       "0  6546546450      Loud 'N Clear&trade; Personal Sound Amplifier        \n",
       "1  7178680776  No7 Lift &amp; Luminate Triple Action Serum 50...  $44.99\n",
       "2  7250468162    No7 Stay Perfect Foundation Cool Vanilla by No7  $28.76\n",
       "3  7367905066  Wella Koleston Perfect Hair Colour 44/44 Mediu...        \n",
       "4  7414204790  Lacto Calamine Skin Balance Oil control 120 ml...  $12.15"
      ]
     },
     "metadata": {},
     "output_type": "display_data"
    }
   ],
   "source": [
    "events_df = events_df[[\"reviewerID\",\"asin\",\"overall\",\"unixReviewTime\"]]\n",
    "products_df = products_df[[\"asin\", \"title\", \"price\"]]\n",
    "\n",
    "display(events_df.head())\n",
    "display(products_df.head())"
   ]
  },
  {
   "attachments": {},
   "cell_type": "markdown",
   "id": "db51f80f",
   "metadata": {},
   "source": [
    "### Upload Data to Postgres"
   ]
  },
  {
   "attachments": {},
   "cell_type": "markdown",
   "id": "3ead3f79",
   "metadata": {},
   "source": [
    "Shaped has support for many data connectors! For this tutorial we're going to be using Postgres. To do that we need to:\n",
    "1. Connect to your Postgres instance. (We're assuming you've already set one up. We did it with [AWS RDS](https://aws.amazon.com/rds/)).\n",
    "2. Create the tables and upload data to your Postgres instance."
   ]
  },
  {
   "cell_type": "code",
   "execution_count": 33,
   "id": "0f6aaf01",
   "metadata": {},
   "outputs": [
    {
     "data": {
      "text/html": [
       "<div>\n",
       "<style scoped>\n",
       "    .dataframe tbody tr th:only-of-type {\n",
       "        vertical-align: middle;\n",
       "    }\n",
       "\n",
       "    .dataframe tbody tr th {\n",
       "        vertical-align: top;\n",
       "    }\n",
       "\n",
       "    .dataframe thead th {\n",
       "        text-align: right;\n",
       "    }\n",
       "</style>\n",
       "<table border=\"1\" class=\"dataframe\">\n",
       "  <thead>\n",
       "    <tr style=\"text-align: right;\">\n",
       "      <th></th>\n",
       "      <th>asin</th>\n",
       "      <th>title</th>\n",
       "      <th>price</th>\n",
       "    </tr>\n",
       "  </thead>\n",
       "  <tbody>\n",
       "    <tr>\n",
       "      <th>0</th>\n",
       "      <td>6546546450</td>\n",
       "      <td>Loud 'N Clear&amp;trade; Personal Sound Amplifier</td>\n",
       "      <td></td>\n",
       "    </tr>\n",
       "    <tr>\n",
       "      <th>1</th>\n",
       "      <td>7178680776</td>\n",
       "      <td>No7 Lift &amp;amp; Luminate Triple Action Serum 50...</td>\n",
       "      <td>$44.99</td>\n",
       "    </tr>\n",
       "    <tr>\n",
       "      <th>2</th>\n",
       "      <td>7250468162</td>\n",
       "      <td>No7 Stay Perfect Foundation Cool Vanilla by No7</td>\n",
       "      <td>$28.76</td>\n",
       "    </tr>\n",
       "    <tr>\n",
       "      <th>3</th>\n",
       "      <td>7367905066</td>\n",
       "      <td>Wella Koleston Perfect Hair Colour 44/44 Mediu...</td>\n",
       "      <td></td>\n",
       "    </tr>\n",
       "    <tr>\n",
       "      <th>4</th>\n",
       "      <td>7414204790</td>\n",
       "      <td>Lacto Calamine Skin Balance Oil control 120 ml...</td>\n",
       "      <td>$12.15</td>\n",
       "    </tr>\n",
       "  </tbody>\n",
       "</table>\n",
       "</div>"
      ],
      "text/plain": [
       "         asin                                              title   price\n",
       "0  6546546450      Loud 'N Clear&trade; Personal Sound Amplifier        \n",
       "1  7178680776  No7 Lift &amp; Luminate Triple Action Serum 50...  $44.99\n",
       "2  7250468162    No7 Stay Perfect Foundation Cool Vanilla by No7  $28.76\n",
       "3  7367905066  Wella Koleston Perfect Hair Colour 44/44 Mediu...        \n",
       "4  7414204790  Lacto Calamine Skin Balance Oil control 120 ml...  $12.15"
      ]
     },
     "metadata": {},
     "output_type": "display_data"
    },
    {
     "data": {
      "text/html": [
       "<div>\n",
       "<style scoped>\n",
       "    .dataframe tbody tr th:only-of-type {\n",
       "        vertical-align: middle;\n",
       "    }\n",
       "\n",
       "    .dataframe tbody tr th {\n",
       "        vertical-align: top;\n",
       "    }\n",
       "\n",
       "    .dataframe thead th {\n",
       "        text-align: right;\n",
       "    }\n",
       "</style>\n",
       "<table border=\"1\" class=\"dataframe\">\n",
       "  <thead>\n",
       "    <tr style=\"text-align: right;\">\n",
       "      <th></th>\n",
       "      <th>reviewerID</th>\n",
       "      <th>asin</th>\n",
       "      <th>overall</th>\n",
       "      <th>unixReviewTime</th>\n",
       "    </tr>\n",
       "  </thead>\n",
       "  <tbody>\n",
       "    <tr>\n",
       "      <th>0</th>\n",
       "      <td>A1V6B6TNIC10QE</td>\n",
       "      <td>0143026860</td>\n",
       "      <td>1</td>\n",
       "      <td>1424304000</td>\n",
       "    </tr>\n",
       "    <tr>\n",
       "      <th>1</th>\n",
       "      <td>A2F5GHSXFQ0W6J</td>\n",
       "      <td>0143026860</td>\n",
       "      <td>4</td>\n",
       "      <td>1418860800</td>\n",
       "    </tr>\n",
       "    <tr>\n",
       "      <th>2</th>\n",
       "      <td>A1572GUYS7DGSR</td>\n",
       "      <td>0143026860</td>\n",
       "      <td>4</td>\n",
       "      <td>1407628800</td>\n",
       "    </tr>\n",
       "    <tr>\n",
       "      <th>3</th>\n",
       "      <td>A1PSGLFK1NSVO</td>\n",
       "      <td>0143026860</td>\n",
       "      <td>5</td>\n",
       "      <td>1362960000</td>\n",
       "    </tr>\n",
       "    <tr>\n",
       "      <th>4</th>\n",
       "      <td>A6IKXKZMTKGSC</td>\n",
       "      <td>0143026860</td>\n",
       "      <td>5</td>\n",
       "      <td>1324771200</td>\n",
       "    </tr>\n",
       "  </tbody>\n",
       "</table>\n",
       "</div>"
      ],
      "text/plain": [
       "       reviewerID        asin  overall  unixReviewTime\n",
       "0  A1V6B6TNIC10QE  0143026860        1      1424304000\n",
       "1  A2F5GHSXFQ0W6J  0143026860        4      1418860800\n",
       "2  A1572GUYS7DGSR  0143026860        4      1407628800\n",
       "3   A1PSGLFK1NSVO  0143026860        5      1362960000\n",
       "4   A6IKXKZMTKGSC  0143026860        5      1324771200"
      ]
     },
     "metadata": {},
     "output_type": "display_data"
    }
   ],
   "source": [
    "HOST = \"amazon-beauty-reviews.clb5z5lddhvn.us-east-2.rds.amazonaws.com\"\n",
    "PORT = \"5432\"\n",
    "DATABASE = \"postgres\"\n",
    "USER = \"shaped\"\n",
    "PASSWORD = \"Ht7%$7Lfucew\"\n",
    "\n",
    "from sqlalchemy import create_engine, text\n",
    "\n",
    "engine = create_engine(f\"postgresql://{USER}:{PASSWORD}@{HOST}:{PORT}/{DATABASE}\")\n",
    "\n",
    "events_df.to_sql(name=\"reviews\", con=engine, index=False, if_exists=\"replace\")\n",
    "products_df.to_sql(name=\"products\", con=engine, index=False, if_exists=\"replace\")\n",
    "\n",
    "# Check that the data was uploaded correctly.\n",
    "with engine.connect() as conn:\n",
    "    display(pd.read_sql_query(text(\"\"\"SELECT * FROM products LIMIT 5\"\"\"), conn))\n",
    "    display(pd.read_sql_query(text(\"\"\"SELECT * FROM reviews LIMIT 5\"\"\"), conn))\n"
   ]
  },
  {
   "attachments": {},
   "cell_type": "markdown",
   "id": "2fb59a55",
   "metadata": {},
   "source": [
    "## Using Shaped\n",
    "### Setup\n",
    "\n",
    "1. Install `shaped` to leverage the Shaped CLI to create, view, and use your model.\n",
    "2. Install `pyyaml` to create Model schema files."
   ]
  },
  {
   "cell_type": "code",
   "execution_count": 34,
   "id": "b140109b",
   "metadata": {
    "vscode": {
     "languageId": "shellscript"
    }
   },
   "outputs": [
    {
     "name": "stdout",
     "output_type": "stream",
     "text": [
      "Requirement already satisfied: shaped in /home/ubuntu/.conda/envs/tutorials/lib/python3.9/site-packages (0.6.0)\n",
      "Requirement already satisfied: pyyaml>=6.0 in /home/ubuntu/.conda/envs/tutorials/lib/python3.9/site-packages (from shaped) (6.0)\n",
      "Requirement already satisfied: pyarrow==11.0.0 in /home/ubuntu/.conda/envs/tutorials/lib/python3.9/site-packages (from shaped) (11.0.0)\n",
      "Requirement already satisfied: tqdm==4.65.0 in /home/ubuntu/.conda/envs/tutorials/lib/python3.9/site-packages (from shaped) (4.65.0)\n",
      "Requirement already satisfied: pydantic>=1.10.2 in /home/ubuntu/.conda/envs/tutorials/lib/python3.9/site-packages (from shaped) (1.10.7)\n",
      "Requirement already satisfied: pandas==1.5.3 in /home/ubuntu/.conda/envs/tutorials/lib/python3.9/site-packages (from shaped) (1.5.3)\n",
      "Requirement already satisfied: typer[all]>=0.7.0 in /home/ubuntu/.conda/envs/tutorials/lib/python3.9/site-packages (from shaped) (0.7.0)\n",
      "Requirement already satisfied: requests>=2.28.1 in /home/ubuntu/.conda/envs/tutorials/lib/python3.9/site-packages (from shaped) (2.28.2)\n",
      "Requirement already satisfied: pytz>=2020.1 in /home/ubuntu/.conda/envs/tutorials/lib/python3.9/site-packages (from pandas==1.5.3->shaped) (2023.3)\n",
      "Requirement already satisfied: numpy>=1.20.3 in /home/ubuntu/.conda/envs/tutorials/lib/python3.9/site-packages (from pandas==1.5.3->shaped) (1.24.2)\n",
      "Requirement already satisfied: python-dateutil>=2.8.1 in /home/ubuntu/.conda/envs/tutorials/lib/python3.9/site-packages (from pandas==1.5.3->shaped) (2.8.2)\n",
      "Requirement already satisfied: typing-extensions>=4.2.0 in /home/ubuntu/.conda/envs/tutorials/lib/python3.9/site-packages (from pydantic>=1.10.2->shaped) (4.5.0)\n",
      "Requirement already satisfied: charset-normalizer<4,>=2 in /home/ubuntu/.conda/envs/tutorials/lib/python3.9/site-packages (from requests>=2.28.1->shaped) (3.1.0)\n",
      "Requirement already satisfied: idna<4,>=2.5 in /home/ubuntu/.conda/envs/tutorials/lib/python3.9/site-packages (from requests>=2.28.1->shaped) (3.4)\n",
      "Requirement already satisfied: urllib3<1.27,>=1.21.1 in /home/ubuntu/.conda/envs/tutorials/lib/python3.9/site-packages (from requests>=2.28.1->shaped) (1.26.15)\n",
      "Requirement already satisfied: certifi>=2017.4.17 in /home/ubuntu/.conda/envs/tutorials/lib/python3.9/site-packages (from requests>=2.28.1->shaped) (2022.12.7)\n",
      "Requirement already satisfied: click<9.0.0,>=7.1.1 in /home/ubuntu/.conda/envs/tutorials/lib/python3.9/site-packages (from typer[all]>=0.7.0->shaped) (8.1.3)\n",
      "Requirement already satisfied: rich<13.0.0,>=10.11.0 in /home/ubuntu/.conda/envs/tutorials/lib/python3.9/site-packages (from typer[all]>=0.7.0->shaped) (12.6.0)\n",
      "Requirement already satisfied: colorama<0.5.0,>=0.4.3 in /home/ubuntu/.conda/envs/tutorials/lib/python3.9/site-packages (from typer[all]>=0.7.0->shaped) (0.4.6)\n",
      "Requirement already satisfied: shellingham<2.0.0,>=1.3.0 in /home/ubuntu/.conda/envs/tutorials/lib/python3.9/site-packages (from typer[all]>=0.7.0->shaped) (1.5.0.post1)\n",
      "Requirement already satisfied: six>=1.5 in /home/ubuntu/.conda/envs/tutorials/lib/python3.9/site-packages (from python-dateutil>=2.8.1->pandas==1.5.3->shaped) (1.16.0)\n",
      "Requirement already satisfied: commonmark<0.10.0,>=0.9.0 in /home/ubuntu/.conda/envs/tutorials/lib/python3.9/site-packages (from rich<13.0.0,>=10.11.0->typer[all]>=0.7.0->shaped) (0.9.1)\n",
      "Requirement already satisfied: pygments<3.0.0,>=2.6.0 in /home/ubuntu/.conda/envs/tutorials/lib/python3.9/site-packages (from rich<13.0.0,>=10.11.0->typer[all]>=0.7.0->shaped) (2.14.0)\n",
      "Requirement already satisfied: pyyaml in /home/ubuntu/.conda/envs/tutorials/lib/python3.9/site-packages (6.0)\n"
     ]
    }
   ],
   "source": [
    "! pip install shaped\n",
    "! pip install pyyaml"
   ]
  },
  {
   "cell_type": "markdown",
   "id": "40680972",
   "metadata": {},
   "source": [
    "Replace `<YOUR_API_KEY>` with your API key below.\n",
    "\n",
    "*If you don't have an API Key, feel free to [signup on our website](https://www.shaped.ai/#contact-us) :)*"
   ]
  },
  {
   "cell_type": "code",
   "execution_count": 35,
   "id": "e86cab99",
   "metadata": {
    "tags": []
   },
   "outputs": [],
   "source": [
    "SHAPED_API_KEY = \"<YOUR_API_KEY>\""
   ]
  },
  {
   "cell_type": "markdown",
   "id": "7865f9ed",
   "metadata": {},
   "source": [
    "Initialize the Shaped CLI with your API key."
   ]
  },
  {
   "cell_type": "code",
   "execution_count": null,
   "id": "51056057",
   "metadata": {
    "vscode": {
     "languageId": "shellscript"
    }
   },
   "outputs": [],
   "source": [
    "! shaped init --api-key $SHAPED_API_KEY"
   ]
  },
  {
   "attachments": {},
   "cell_type": "markdown",
   "id": "fb8c9cb5",
   "metadata": {},
   "source": [
    "### Model Creation\n",
    "\n",
    "We're now ready to create your Shaped model! To keep things simple, today, we're using the beauty product reviews data to build a collaborative filtering model. Shaped will use these reviews to determine which users like which beauty products with the assumption that the higher the rating the more likely a user will want to purchase that product.\n",
    "\n",
    "\n",
    "1. Create a .yaml file containing the model schema definition.\n",
    "2. Use Shaped CLI to create the model!\n",
    "\n",
    "For further details about creating models please refer to the [Create Model](https://docs.shaped.ai/docs/api#tag/Model/operation/post_create_models_post) API reference."
   ]
  },
  {
   "cell_type": "code",
   "execution_count": 37,
   "id": "779eecba",
   "metadata": {
    "scrolled": true
   },
   "outputs": [],
   "source": [
    "\"\"\"\n",
    "Create a Shaped Model schema and store in a .yaml file.\n",
    "\"\"\"\n",
    "\n",
    "import yaml\n",
    "\n",
    "movielens_ratings_model_schema = {\n",
    "    \"model\": {\n",
    "        \"name\": \"amazon_beauty_product_recommendations\",\n",
    "    },\n",
    "    \"connectors\": [\n",
    "        {\n",
    "            \"id\": \"postgres_amazon\",\n",
    "            \"type\": \"Postgres\",\n",
    "            \"user\": USER,\n",
    "            \"password\": PASSWORD,\n",
    "            \"host\": HOST,\n",
    "            \"port\": PORT,\n",
    "            \"database\": DATABASE\n",
    "        },\n",
    "    ],\n",
    "    \"fetch\": {\n",
    "        \"events\": \"SELECT 'reviewerID' as user_id, asin AS item_id, overall::float AS label, 'unixReviewTime' AS created_at FROM postgres_amazon.reviews\",\n",
    "        \"items\": \"SELECT asin AS item_id, title, price FROM postgres_amazon.products\"\n",
    "    }\n",
    "}\n",
    "\n",
    "dir_path = \"amazon_beauty_model_assets\"\n",
    "\n",
    "with open(f'{dir_path}/amazon_beauty_model_schema.yaml', 'w') as file:\n",
    "    yaml.dump(movielens_ratings_model_schema, file)"
   ]
  },
  {
   "cell_type": "code",
   "execution_count": null,
   "id": "4c78e1bf",
   "metadata": {
    "vscode": {
     "languageId": "shellscript"
    }
   },
   "outputs": [],
   "source": [
    "\"\"\"\n",
    "Create a Shaped Model using the .yaml schema file.\n",
    "\"\"\"\n",
    "\n",
    "! shaped create-model --file $DIR_NAME/amazon_beauty_model_schema.yaml"
   ]
  },
  {
   "attachments": {},
   "cell_type": "markdown",
   "id": "afb8e6ae",
   "metadata": {},
   "source": [
    "Your recommendation model can take up to a few hours to provision your infrastructure and train on your historic events. This time mostly depends on how large your dataset is i.e. the volume of your users, items and interactions and the number of attributes you're providing. For the model you just created it will take no more than 30 minutes.\n",
    "\n",
    "While the model is being setup, you can view its status with either the [List Models](https://docs.shaped.ai/docs/api#tag/Model/operation/get_models_models_get) or [View Model](https://docs.shaped.ai/docs/api) endpoints. For example, with the CLI:"
   ]
  },
  {
   "cell_type": "code",
   "execution_count": 1,
   "id": "54e3f9e0",
   "metadata": {
    "vscode": {
     "languageId": "shellscript"
    }
   },
   "outputs": [
    {
     "name": "stdout",
     "output_type": "stream",
     "text": [
      "models:\n",
      "- model_name: amazon_beauty_product_recommendations\n",
      "  model_uri: https://api.prod.shaped.ai/v1/models/amazon_beauty_product_recommendations\n",
      "  created_at: 2023-04-17T21:02:34 UTC\n",
      "  trained_at: 2023-04-17T21:39:46 UTC\n",
      "  status: ACTIVE\n",
      "\n"
     ]
    }
   ],
   "source": [
    "! shaped list-models"
   ]
  },
  {
   "attachments": {},
   "cell_type": "markdown",
   "id": "3bec2f3b",
   "metadata": {},
   "source": [
    "The initial model creation goes through the following stages in order:\n",
    "\n",
    "1. `SCHEDULING`<br/>\n",
    "2. `FETCHING`<br/>\n",
    "3. `TRAINING`<br/>\n",
    "4. `DEPLOYING`<br/>\n",
    "5. `ACTIVE`\n",
    "\n",
    "You can periodically poll Shaped to inspect these status changes. Once it's in the ACTIVE state, you can move to next step and use it to make rank requests."
   ]
  },
  {
   "cell_type": "markdown",
   "id": "da878c37",
   "metadata": {},
   "source": [
    "### Rank!"
   ]
  },
  {
   "attachments": {},
   "cell_type": "markdown",
   "id": "a3344515",
   "metadata": {},
   "source": [
    "You're now ready to fetch your Amazon beautfy product recommendations! You can do this with the [Rank endpoint](https://docs.shaped.ai/docs/api#tag/Rank/operation/post_rank_models__model_id__rank_post). Just provide the user_id you wish to get the recommendations for and the number of recommendations you want returned.\n",
    "\n",
    "Shaped's CLI provides a convenience rank command to quickly retrieve results from the command line. You can use it as follows:"
   ]
  },
  {
   "cell_type": "code",
   "execution_count": 5,
   "metadata": {
    "vscode": {
     "languageId": "shellscript"
    }
   },
   "outputs": [
    {
     "name": "stdout",
     "output_type": "stream",
     "text": [
      "ids:\n",
      "- B00XGPKC3G\n",
      "- B00WMP9V5G\n",
      "- B00A0Q5XQU\n",
      "- B0107T06KC\n",
      "- B01GB0WIB6\n",
      "- B00WTBQRLO\n",
      "- B00ODEJN66\n",
      "- B00MJCHR30\n",
      "- B00SRODEA4\n",
      "- B01DVG8XHQ\n",
      "- B00SABI85A\n",
      "- B00PK1T1WW\n",
      "- B00QW1W1CQ\n",
      "- B01ACE0J3Q\n",
      "- B01CD2K86I\n",
      "scores:\n",
      "- 1.0\n",
      "- 1.0\n",
      "- 1.0\n",
      "- 1.0\n",
      "- 0.0\n",
      "- 1.0\n",
      "- 1.0\n",
      "- 1.0\n",
      "- 1.0\n",
      "- 0.0\n",
      "- 1.0\n",
      "- 1.0\n",
      "- 1.0\n",
      "- 1.0\n",
      "- 1.0\n",
      "\n"
     ]
    }
   ],
   "source": [
    "! shaped rank --model-name amazon_beauty_product_recommendations --user-id A2F5GHSXFQ0W6J --limit 15"
   ]
  },
  {
   "attachments": {},
   "cell_type": "markdown",
   "id": "d27e0445",
   "metadata": {},
   "source": [
    "The response returns 2 parallel arrays containing the ids and ranking scores for the beauty products that Shaped estimates are most relevant to the given user.\n",
    "\n",
    "If you want to integrate this endpoint into your website or application you can use the Rank POST REST endpoint directly with the following request:"
   ]
  },
  {
   "cell_type": "code",
   "execution_count": null,
   "id": "b12700eb",
   "metadata": {
    "vscode": {
     "languageId": "shellscript"
    }
   },
   "outputs": [],
   "source": [
    "! curl https://api.prod.shaped.ai/v1/models/amazon_beauty_product_recommendations/rank \\\n",
    "  -H \"x-api-key: <YOUR_API_KEY>\" \\\n",
    "  -H \"Content-Type: application/json\" \\\n",
    "  -d '{ \"user_id\": \"A2F5GHSXFQ0W6J\", \"limit\": 15 }'"
   ]
  },
  {
   "attachments": {},
   "cell_type": "markdown",
   "id": "99b60aab",
   "metadata": {},
   "source": [
    "Wow! It was that easy to see the top 15 rated beauty products for the passed in `user_id` 🍾. Now let's add ranking to your product :)"
   ]
  },
  {
   "cell_type": "markdown",
   "id": "f0e498cd",
   "metadata": {},
   "source": [
    "### Clean Up"
   ]
  },
  {
   "attachments": {},
   "cell_type": "markdown",
   "id": "c38af39f",
   "metadata": {},
   "source": [
    "Don't forget to delete your model (and its assets) and the datasets once you're finished with them. You can do it with the following CLI command:"
   ]
  },
  {
   "cell_type": "code",
   "execution_count": null,
   "id": "4ca47e20",
   "metadata": {
    "vscode": {
     "languageId": "shellscript"
    }
   },
   "outputs": [],
   "source": [
    "! shaped delete-model --model-name amazon_beauty_product_recommendations\n",
    "\n",
    "! rm -r amazon_beauty_model_assets"
   ]
  }
 ],
 "metadata": {
  "kernelspec": {
   "display_name": "Python 3 (ipykernel)",
   "language": "python",
   "name": "python3"
  },
  "language_info": {
   "codemirror_mode": {
    "name": "ipython",
    "version": 3
   },
   "file_extension": ".py",
   "mimetype": "text/x-python",
   "name": "python",
   "nbconvert_exporter": "python",
   "pygments_lexer": "ipython3",
   "version": "3.9.16"
  },
  "vscode": {
   "interpreter": {
    "hash": "b0fa6594d8f4cbf19f97940f81e996739fb7646882a419484c72d19e05852a7e"
   }
  }
 },
 "nbformat": 4,
 "nbformat_minor": 5
}
