{
  "cells": [
    {
      "cell_type": "markdown",
      "id": "28a587ea",
      "metadata": {},
      "source": [
        "This notebook will walk you through: \n",
        "1. Importing an Amazon review dataset into a PostgreSQL database.\n",
        "2. Setting up a model that has the objective of returning a personalized list of the recommended products on a home or discovery page.\n",
        "3. Fetching ranked products for a specific user!\n",
        "\n",
        "Let's get started! 🚀"
      ]
    },
    {
      "cell_type": "markdown",
      "id": "29855bc0",
      "metadata": {},
      "source": [
        "### Setup"
      ]
    },
    {
      "cell_type": "markdown",
      "id": "be2a0c57",
      "metadata": {},
      "source": [
        "Replace `YOUR_API_KEY` with your API key below.\n",
        "\n",
        "*If you don't have an API Key, feel free to [signup on our website](https://www.shaped.ai/#contact-us) :)*"
      ]
    },
    {
      "cell_type": "code",
      "execution_count": 1,
      "id": "c1dd4379",
      "metadata": {},
      "outputs": [],
      "source": [
        "SHAPED_BASE_URL = \"https://api.prod.shaped.ai/v0\"\n",
        "SHAPED_API_KEY = YOUR_API_KEY"
      ]
    },
    {
      "cell_type": "markdown",
      "id": "52bcc7ad",
      "metadata": {},
      "source": [
        "Install the packages needed:\n",
        "- `requests` is needed for making HTTP requests\n",
        "- `pandas` is needed for handling the data\n",
        "- `ipython-sql` is needed for connecting with the database\n",
        "- `sqlalchemy` is needed for executing db queries via DBApi's\n",
        "- `psycopg2` is needed for postgresql connection"
      ]
    },
    {
      "cell_type": "code",
      "execution_count": null,
      "id": "9c789c21",
      "metadata": {},
      "outputs": [],
      "source": [
        "!pip install requests\n",
        "!pip install pandas\n",
        "!pip install sqlalchemy\n",
        "!pip install psycopg2\n",
        "!pip install boto3"
      ]
    },
    {
      "cell_type": "code",
      "execution_count": 2,
      "id": "0d67bcef",
      "metadata": {},
      "outputs": [],
      "source": [
        "import requests\n",
        "import pandas as pd\n",
        "import json\n",
        "import gzip\n",
        "import csv\n",
        "import boto3\n",
        "from io import StringIO\n",
        "from sqlalchemy import create_engine"
      ]
    },
    {
      "cell_type": "markdown",
      "id": "d8575155",
      "metadata": {},
      "source": [
        "### Preview Dataset"
      ]
    },
    {
      "cell_type": "markdown",
      "id": "3b852c8d",
      "metadata": {},
      "source": [
        "[The Amazon dataset](http://jmcauley.ucsd.edu/data/amazon/links.html) has a lot of data! Looking through it, we want the interaction and item data so we'll be using the [ratings only](http://snap.stanford.edu/data/amazon/productGraph/item_dedup.csv) and [metadata](http://snap.stanford.edu/data/amazon/productGraph/metadata.json.gz) datasets respectively. Note that those contain all the data. Feel free to use any of the subsets of data for a more specific model.\n",
        "\n",
        "For the interaction data we take a look at the `Sample review` section on the website and see the relevant columns for the interactions are:\n",
        "- `reviewerID`: Is the user who is reviewing the item.\n",
        "- `asin`: Is a unique identification for a product. It will be used as an item to train our models.\n",
        "- `overall`: Is the review of an product given by a user.\n",
        "- `unixReviewTime`: Is the review of an product given by a user.\n",
        "\n",
        "For the item data we take a look at the `Sample metadata` section on the website and see the relevant columns for the items are:\n",
        "- `asin`: Is a unique identification for a product.\n",
        "- `title`: Name of the product.\n",
        "- `price`: Price in US dollars.\n",
        "\n",
        "We will download the files linked aboved and extract the data to a Pandas DataFrame and then upload that dataframe to a Postgres DB. Go ahead and download the two files linked above. They are quite large so it'll take a while to download.\n",
        "\n",
        "We'll create the ratings dataframe first. The ratings csv doesn't have column names so we add them in.\n"
      ]
    },
    {
      "cell_type": "code",
      "execution_count": 15,
      "id": "c1580604",
      "metadata": {},
      "outputs": [
        {
          "data": {
            "text/html": [
              "<div>\n",
              "<style scoped>\n",
              "    .dataframe tbody tr th:only-of-type {\n",
              "        vertical-align: middle;\n",
              "    }\n",
              "\n",
              "    .dataframe tbody tr th {\n",
              "        vertical-align: top;\n",
              "    }\n",
              "\n",
              "    .dataframe thead th {\n",
              "        text-align: right;\n",
              "    }\n",
              "</style>\n",
              "<table border=\"1\" class=\"dataframe\">\n",
              "  <thead>\n",
              "    <tr style=\"text-align: right;\">\n",
              "      <th></th>\n",
              "      <th>reviewer_id</th>\n",
              "      <th>asin</th>\n",
              "      <th>overall</th>\n",
              "      <th>review_time</th>\n",
              "    </tr>\n",
              "  </thead>\n",
              "  <tbody>\n",
              "    <tr>\n",
              "      <th>0</th>\n",
              "      <td>A3AF8FFZAZYNE5</td>\n",
              "      <td>0000000078</td>\n",
              "      <td>5.0</td>\n",
              "      <td>1092182400</td>\n",
              "    </tr>\n",
              "    <tr>\n",
              "      <th>1</th>\n",
              "      <td>AH2L9G3DQHHAJ</td>\n",
              "      <td>0000000116</td>\n",
              "      <td>4.0</td>\n",
              "      <td>1019865600</td>\n",
              "    </tr>\n",
              "    <tr>\n",
              "      <th>2</th>\n",
              "      <td>A2IIIDRK3PRRZY</td>\n",
              "      <td>0000000116</td>\n",
              "      <td>1.0</td>\n",
              "      <td>1395619200</td>\n",
              "    </tr>\n",
              "    <tr>\n",
              "      <th>3</th>\n",
              "      <td>A1TADCM7YWPQ8M</td>\n",
              "      <td>0000000868</td>\n",
              "      <td>4.0</td>\n",
              "      <td>1031702400</td>\n",
              "    </tr>\n",
              "    <tr>\n",
              "      <th>4</th>\n",
              "      <td>AWGH7V0BDOJKB</td>\n",
              "      <td>0000013714</td>\n",
              "      <td>4.0</td>\n",
              "      <td>1383177600</td>\n",
              "    </tr>\n",
              "    <tr>\n",
              "      <th>...</th>\n",
              "      <td>...</td>\n",
              "      <td>...</td>\n",
              "      <td>...</td>\n",
              "      <td>...</td>\n",
              "    </tr>\n",
              "    <tr>\n",
              "      <th>82677126</th>\n",
              "      <td>A349MZLDSQAIQC</td>\n",
              "      <td>BT00IU6O8K</td>\n",
              "      <td>3.0</td>\n",
              "      <td>1375401600</td>\n",
              "    </tr>\n",
              "    <tr>\n",
              "      <th>82677127</th>\n",
              "      <td>A1NFN9O4A2Q92V</td>\n",
              "      <td>BT00IU6O8K</td>\n",
              "      <td>5.0</td>\n",
              "      <td>1375142400</td>\n",
              "    </tr>\n",
              "    <tr>\n",
              "      <th>82677128</th>\n",
              "      <td>A1DA2L6U0AFMLL</td>\n",
              "      <td>dp-g310/do</td>\n",
              "      <td>5.0</td>\n",
              "      <td>1195948800</td>\n",
              "    </tr>\n",
              "    <tr>\n",
              "      <th>82677129</th>\n",
              "      <td>AIDHT6KXOL64T</td>\n",
              "      <td>SMLRBIMX03</td>\n",
              "      <td>5.0</td>\n",
              "      <td>1355788800</td>\n",
              "    </tr>\n",
              "    <tr>\n",
              "      <th>82677130</th>\n",
              "      <td>A161I1MHX2G2BR</td>\n",
              "      <td>SMLRBIMX03</td>\n",
              "      <td>4.0</td>\n",
              "      <td>1364860800</td>\n",
              "    </tr>\n",
              "  </tbody>\n",
              "</table>\n",
              "<p>82677131 rows × 4 columns</p>\n",
              "</div>"
            ],
            "text/plain": [
              "             reviewer_id        asin  overall  review_time\n",
              "0         A3AF8FFZAZYNE5  0000000078      5.0   1092182400\n",
              "1          AH2L9G3DQHHAJ  0000000116      4.0   1019865600\n",
              "2         A2IIIDRK3PRRZY  0000000116      1.0   1395619200\n",
              "3         A1TADCM7YWPQ8M  0000000868      4.0   1031702400\n",
              "4          AWGH7V0BDOJKB  0000013714      4.0   1383177600\n",
              "...                  ...         ...      ...          ...\n",
              "82677126  A349MZLDSQAIQC  BT00IU6O8K      3.0   1375401600\n",
              "82677127  A1NFN9O4A2Q92V  BT00IU6O8K      5.0   1375142400\n",
              "82677128  A1DA2L6U0AFMLL  dp-g310/do      5.0   1195948800\n",
              "82677129   AIDHT6KXOL64T  SMLRBIMX03      5.0   1355788800\n",
              "82677130  A161I1MHX2G2BR  SMLRBIMX03      4.0   1364860800\n",
              "\n",
              "[82677131 rows x 4 columns]"
            ]
          },
          "execution_count": 15,
          "metadata": {},
          "output_type": "execute_result"
        }
      ],
      "source": [
        "ratings_df = pd.read_csv(\"item_dedup.csv\", names=[\"reviewer_id\", \"asin\", \"overall\", \"review_time\"], header=None)\n",
        "ratings_df"
      ]
    },
    {
      "cell_type": "markdown",
      "id": "d47e931c",
      "metadata": {},
      "source": [
        "\n",
        "Next, we'll create the items dataframe. Using the script provided on the website, let's get the product data (Note this took ~11 hours on an M1 Pro with 16GB of RAM):"
      ]
    },
    {
      "cell_type": "code",
      "execution_count": null,
      "id": "6f25af61",
      "metadata": {},
      "outputs": [],
      "source": [
        "def parse(path):\n",
        "  g = gzip.open(path, 'rb')\n",
        "  for l in g:\n",
        "    yield eval(l)\n",
        "\n",
        "def getDF(path):\n",
        "  i = 0\n",
        "  df = {}\n",
        "  for d in parse(path):\n",
        "    df[i] = d\n",
        "    i += 1\n",
        "  return pd.DataFrame.from_dict(df, orient='index')\n",
        "\n",
        "item_df = getDF(\"metadata.json.gz\")"
      ]
    },
    {
      "cell_type": "markdown",
      "id": "9c0110ae",
      "metadata": {},
      "source": [
        "### Upload Dataset to Postgres\n",
        "To make the upload quicker we'll drop the unnecessary columns from the items dataframe:"
      ]
    },
    {
      "cell_type": "code",
      "execution_count": 9,
      "id": "212ecd1e",
      "metadata": {},
      "outputs": [
        {
          "data": {
            "text/html": [
              "<div>\n",
              "<style scoped>\n",
              "    .dataframe tbody tr th:only-of-type {\n",
              "        vertical-align: middle;\n",
              "    }\n",
              "\n",
              "    .dataframe tbody tr th {\n",
              "        vertical-align: top;\n",
              "    }\n",
              "\n",
              "    .dataframe thead th {\n",
              "        text-align: right;\n",
              "    }\n",
              "</style>\n",
              "<table border=\"1\" class=\"dataframe\">\n",
              "  <thead>\n",
              "    <tr style=\"text-align: right;\">\n",
              "      <th></th>\n",
              "      <th>asin</th>\n",
              "      <th>title</th>\n",
              "      <th>price</th>\n",
              "    </tr>\n",
              "  </thead>\n",
              "  <tbody>\n",
              "    <tr>\n",
              "      <th>0</th>\n",
              "      <td>0001048791</td>\n",
              "      <td>The Crucible: Performed by Stuart Pankin, Jero...</td>\n",
              "      <td>NaN</td>\n",
              "    </tr>\n",
              "    <tr>\n",
              "      <th>1</th>\n",
              "      <td>0000143561</td>\n",
              "      <td>Everyday Italian (with Giada de Laurentiis), V...</td>\n",
              "      <td>12.99</td>\n",
              "    </tr>\n",
              "    <tr>\n",
              "      <th>2</th>\n",
              "      <td>0000037214</td>\n",
              "      <td>Purple Sequin Tiny Dancer Tutu Ballet Dance Fa...</td>\n",
              "      <td>6.99</td>\n",
              "    </tr>\n",
              "    <tr>\n",
              "      <th>3</th>\n",
              "      <td>0000032069</td>\n",
              "      <td>Adult Ballet Tutu Cheetah Pink</td>\n",
              "      <td>7.89</td>\n",
              "    </tr>\n",
              "    <tr>\n",
              "      <th>4</th>\n",
              "      <td>0000031909</td>\n",
              "      <td>Girls Ballet Tutu Neon Pink</td>\n",
              "      <td>7.00</td>\n",
              "    </tr>\n",
              "    <tr>\n",
              "      <th>...</th>\n",
              "      <td>...</td>\n",
              "      <td>...</td>\n",
              "      <td>...</td>\n",
              "    </tr>\n",
              "    <tr>\n",
              "      <th>9430083</th>\n",
              "      <td>B00LZFHL7Y</td>\n",
              "      <td>NaN</td>\n",
              "      <td>0.99</td>\n",
              "    </tr>\n",
              "    <tr>\n",
              "      <th>9430084</th>\n",
              "      <td>B00LV8M74W</td>\n",
              "      <td>NaN</td>\n",
              "      <td>3.99</td>\n",
              "    </tr>\n",
              "    <tr>\n",
              "      <th>9430085</th>\n",
              "      <td>B00LXQXLGU</td>\n",
              "      <td>NaN</td>\n",
              "      <td>NaN</td>\n",
              "    </tr>\n",
              "    <tr>\n",
              "      <th>9430086</th>\n",
              "      <td>B00LV8STE4</td>\n",
              "      <td>NaN</td>\n",
              "      <td>NaN</td>\n",
              "    </tr>\n",
              "    <tr>\n",
              "      <th>9430087</th>\n",
              "      <td>SMLRBIMX03</td>\n",
              "      <td>LR Baggs iMix w/IBeam, Element, Preamp, Mixer,...</td>\n",
              "      <td>229.00</td>\n",
              "    </tr>\n",
              "  </tbody>\n",
              "</table>\n",
              "<p>9430088 rows × 3 columns</p>\n",
              "</div>"
            ],
            "text/plain": [
              "               asin                                              title   price\n",
              "0        0001048791  The Crucible: Performed by Stuart Pankin, Jero...     NaN\n",
              "1        0000143561  Everyday Italian (with Giada de Laurentiis), V...   12.99\n",
              "2        0000037214  Purple Sequin Tiny Dancer Tutu Ballet Dance Fa...    6.99\n",
              "3        0000032069                     Adult Ballet Tutu Cheetah Pink    7.89\n",
              "4        0000031909                        Girls Ballet Tutu Neon Pink    7.00\n",
              "...             ...                                                ...     ...\n",
              "9430083  B00LZFHL7Y                                                NaN    0.99\n",
              "9430084  B00LV8M74W                                                NaN    3.99\n",
              "9430085  B00LXQXLGU                                                NaN     NaN\n",
              "9430086  B00LV8STE4                                                NaN     NaN\n",
              "9430087  SMLRBIMX03  LR Baggs iMix w/IBeam, Element, Preamp, Mixer,...  229.00\n",
              "\n",
              "[9430088 rows x 3 columns]"
            ]
          },
          "execution_count": 9,
          "metadata": {},
          "output_type": "execute_result"
        }
      ],
      "source": [
        "item_df = item_df[[\"asin\", \"title\", \"price\"]]\n",
        "item_df"
      ]
    },
    {
      "cell_type": "markdown",
      "id": "5da72a59",
      "metadata": {},
      "source": [
        "Now that we have the two dataframes, we'll upload them to a Postgres DB. First we need to setup a Postgres database. We'll use boto3 to create one in AWS RDS, but you can host it anywhere."
      ]
    },
    {
      "cell_type": "code",
      "execution_count": null,
      "id": "1085e155",
      "metadata": {},
      "outputs": [],
      "source": [
        "rds = boto3.client('rds', aws_access_key_id='ACCESS-KEY-OF-YOUR-AWS-ACCOUNT',\n",
        "                     aws_secret_access_key='SECRETE-KEY-OF-YOUR-AWS-ACCOUNT',\n",
        "                     region_name='us-east-2')\n",
        "\n",
        "db_name = \"amazon-ratings\"\n",
        "db_instance_name=\"shaped-demo\"\n",
        "username=YOUR_USERNAME\n",
        "password=YOUR_PASSWORD\n",
        "port=5432\n",
        "\n",
        "response = rds.create_db_instance(\n",
        "    AllocatedStorage=10,\n",
        "    DBName=db_name,\n",
        "    DBInstanceIdentifier=db_instance_name,\n",
        "    DBInstanceClass=\"db.t2.micro\",\n",
        "    Engine=\"postgres\",\n",
        "    MasterUsername=username,\n",
        "    MasterUserPassword=password,\n",
        "    Port=port,\n",
        ")\n",
        "db_endpoint = response[\"DBInstance\"]['Endpoint']['Address']"
      ]
    },
    {
      "cell_type": "markdown",
      "id": "282f7a7e",
      "metadata": {},
      "source": [
        "Then we'll connect to the database, create a table for each of the data frames, and upload the respective data."
      ]
    },
    {
      "cell_type": "code",
      "execution_count": null,
      "id": "ad47bda8",
      "metadata": {},
      "outputs": [],
      "source": [
        "def psql_insert_copy(table, conn, keys, data_iter):\n",
        "    dbapi_conn = conn.connection\n",
        "    with dbapi_conn.cursor() as cur:\n",
        "        s_buf = StringIO()\n",
        "        writer = csv.writer(s_buf)\n",
        "        writer.writerows(data_iter)\n",
        "        s_buf.seek(0)\n",
        "\n",
        "        columns = ', '.join('\"{}\"'.format(k) for k in keys)\n",
        "        if table.schema:\n",
        "            table_name = '{}.{}'.format(table.schema, table.name)\n",
        "        else:\n",
        "            table_name = table.name\n",
        "\n",
        "        sql = 'COPY {} ({}) FROM STDIN WITH CSV'.format(\n",
        "            table_name, columns)\n",
        "        cur.copy_expert(sql=sql, file=s_buf)\n",
        "\n",
        "engine = create_engine(f\"postgresql://{username}:{password}@{db_instance_name}.{db_endpoint}:{port}/{db_name}\")\n",
        "ratings_df.to_sql('ratings', engine, method=psql_insert_copy, index=False)\n",
        "item_df.to_sql('products', engine, method=psql_insert_copy, index=False)"
      ]
    },
    {
      "cell_type": "markdown",
      "id": "63776e6e",
      "metadata": {},
      "source": [
        "To confirm the data was uploaded correctly, let's run a couple of queries."
      ]
    },
    {
      "cell_type": "code",
      "execution_count": 11,
      "id": "10602b19",
      "metadata": {},
      "outputs": [
        {
          "data": {
            "text/html": [
              "<div>\n",
              "<style scoped>\n",
              "    .dataframe tbody tr th:only-of-type {\n",
              "        vertical-align: middle;\n",
              "    }\n",
              "\n",
              "    .dataframe tbody tr th {\n",
              "        vertical-align: top;\n",
              "    }\n",
              "\n",
              "    .dataframe thead th {\n",
              "        text-align: right;\n",
              "    }\n",
              "</style>\n",
              "<table border=\"1\" class=\"dataframe\">\n",
              "  <thead>\n",
              "    <tr style=\"text-align: right;\">\n",
              "      <th></th>\n",
              "      <th>reviewer_id</th>\n",
              "      <th>asin</th>\n",
              "      <th>overall</th>\n",
              "      <th>review_time</th>\n",
              "    </tr>\n",
              "  </thead>\n",
              "  <tbody>\n",
              "    <tr>\n",
              "      <th>0</th>\n",
              "      <td>A3AF8FFZAZYNE5</td>\n",
              "      <td>0000000078</td>\n",
              "      <td>5.0</td>\n",
              "      <td>1092182400</td>\n",
              "    </tr>\n",
              "    <tr>\n",
              "      <th>1</th>\n",
              "      <td>AH2L9G3DQHHAJ</td>\n",
              "      <td>0000000116</td>\n",
              "      <td>4.0</td>\n",
              "      <td>1019865600</td>\n",
              "    </tr>\n",
              "    <tr>\n",
              "      <th>2</th>\n",
              "      <td>A2IIIDRK3PRRZY</td>\n",
              "      <td>0000000116</td>\n",
              "      <td>1.0</td>\n",
              "      <td>1395619200</td>\n",
              "    </tr>\n",
              "    <tr>\n",
              "      <th>3</th>\n",
              "      <td>A1TADCM7YWPQ8M</td>\n",
              "      <td>0000000868</td>\n",
              "      <td>4.0</td>\n",
              "      <td>1031702400</td>\n",
              "    </tr>\n",
              "    <tr>\n",
              "      <th>4</th>\n",
              "      <td>AWGH7V0BDOJKB</td>\n",
              "      <td>0000013714</td>\n",
              "      <td>4.0</td>\n",
              "      <td>1383177600</td>\n",
              "    </tr>\n",
              "  </tbody>\n",
              "</table>\n",
              "</div>"
            ],
            "text/plain": [
              "      reviewer_id        asin  overall  review_time\n",
              "0  A3AF8FFZAZYNE5  0000000078      5.0   1092182400\n",
              "1   AH2L9G3DQHHAJ  0000000116      4.0   1019865600\n",
              "2  A2IIIDRK3PRRZY  0000000116      1.0   1395619200\n",
              "3  A1TADCM7YWPQ8M  0000000868      4.0   1031702400\n",
              "4   AWGH7V0BDOJKB  0000013714      4.0   1383177600"
            ]
          },
          "execution_count": 11,
          "metadata": {},
          "output_type": "execute_result"
        }
      ],
      "source": [
        "reviews_df = pd.read_sql('select * from ratings limit 5', engine)\n",
        "reviews_df"
      ]
    },
    {
      "cell_type": "code",
      "execution_count": 12,
      "id": "75f7d813",
      "metadata": {},
      "outputs": [
        {
          "data": {
            "text/html": [
              "<div>\n",
              "<style scoped>\n",
              "    .dataframe tbody tr th:only-of-type {\n",
              "        vertical-align: middle;\n",
              "    }\n",
              "\n",
              "    .dataframe tbody tr th {\n",
              "        vertical-align: top;\n",
              "    }\n",
              "\n",
              "    .dataframe thead th {\n",
              "        text-align: right;\n",
              "    }\n",
              "</style>\n",
              "<table border=\"1\" class=\"dataframe\">\n",
              "  <thead>\n",
              "    <tr style=\"text-align: right;\">\n",
              "      <th></th>\n",
              "      <th>asin</th>\n",
              "      <th>title</th>\n",
              "      <th>price</th>\n",
              "    </tr>\n",
              "  </thead>\n",
              "  <tbody>\n",
              "    <tr>\n",
              "      <th>0</th>\n",
              "      <td>0001048791</td>\n",
              "      <td>The Crucible: Performed by Stuart Pankin, Jero...</td>\n",
              "      <td>NaN</td>\n",
              "    </tr>\n",
              "    <tr>\n",
              "      <th>1</th>\n",
              "      <td>0000143561</td>\n",
              "      <td>Everyday Italian (with Giada de Laurentiis), V...</td>\n",
              "      <td>12.99</td>\n",
              "    </tr>\n",
              "    <tr>\n",
              "      <th>2</th>\n",
              "      <td>0000037214</td>\n",
              "      <td>Purple Sequin Tiny Dancer Tutu Ballet Dance Fa...</td>\n",
              "      <td>6.99</td>\n",
              "    </tr>\n",
              "    <tr>\n",
              "      <th>3</th>\n",
              "      <td>0000032069</td>\n",
              "      <td>Adult Ballet Tutu Cheetah Pink</td>\n",
              "      <td>7.89</td>\n",
              "    </tr>\n",
              "    <tr>\n",
              "      <th>4</th>\n",
              "      <td>0000031909</td>\n",
              "      <td>Girls Ballet Tutu Neon Pink</td>\n",
              "      <td>7.00</td>\n",
              "    </tr>\n",
              "  </tbody>\n",
              "</table>\n",
              "</div>"
            ],
            "text/plain": [
              "         asin                                              title  price\n",
              "0  0001048791  The Crucible: Performed by Stuart Pankin, Jero...    NaN\n",
              "1  0000143561  Everyday Italian (with Giada de Laurentiis), V...  12.99\n",
              "2  0000037214  Purple Sequin Tiny Dancer Tutu Ballet Dance Fa...   6.99\n",
              "3  0000032069                     Adult Ballet Tutu Cheetah Pink   7.89\n",
              "4  0000031909                        Girls Ballet Tutu Neon Pink   7.00"
            ]
          },
          "execution_count": 12,
          "metadata": {},
          "output_type": "execute_result"
        }
      ],
      "source": [
        "item_df = pd.read_sql('select * from products limit 5', engine)\n",
        "item_df"
      ]
    },
    {
      "cell_type": "markdown",
      "id": "06afc20a",
      "metadata": {},
      "source": [
        "### Setup Endpoint"
      ]
    },
    {
      "cell_type": "markdown",
      "id": "88dbfca9",
      "metadata": {},
      "source": [
        "Once we have all our data prepared, we can upload it to Shaped using a [`POST` call to the `/models` endpoint](https://docs.shaped.ai/reference/create-model). The request body contains all the info needed to setup the model. If successful, the response body contains a uri that can be used to fetch details about the model. Otherwise it returns a detailed error message with guidance on what needs to be fixed.\n",
        "\n",
        "*If you try `POST`ing to the `/models` endpoint multiple times with the same `model_name`, you will encounter an error saying `\"Model with name: '{model_name}' already exists with status: '{status}'\"`. If you would like to update or create a new model with the same `model_name` you must first delete the existing model with `model_name`. You can do that by making a [`DELETE` request to the `/models/{model_name}` endpoint](https://docs.shaped.ai/reference/delete-model). The `DELETE` call can be made from the cell in the Clean Up section at the bottom of this notebook.*"
      ]
    },
    {
      "cell_type": "code",
      "execution_count": 15,
      "id": "e5a9bc38",
      "metadata": {},
      "outputs": [
        {
          "name": "stdout",
          "output_type": "stream",
          "text": [
            "200\n",
            "{}\n"
          ]
        }
      ],
      "source": [
        "model_name = \"amazon_dataset_postgres\"\n",
        "\n",
        "payload = json.dumps({\n",
        "  \"connector_configs\": [{\n",
        "    \"id\": \"postgres_amazon_ratings\",\n",
        "    \"type\": \"Postgres\",\n",
        "    \"user\": username,\n",
        "    \"password\": password,\n",
        "    \"host\": f\"{db_instance_name}.clb5z5lddhvn.us-east-2.rds.amazonaws.com\",\n",
        "    \"port\": port,\n",
        "    \"database\": db_name\n",
        "  }],\n",
        "  \"model_name\": model_name,\n",
        "  \"schema\": {\n",
        "    \"user\": {\n",
        "      \"id\": \"reviewer_id\",\n",
        "    },\n",
        "    \"item\": {\n",
        "      \"id\": \"product_id\",\n",
        "      \"source\": {\n",
        "        \"connector_id\": \"postgres_amazon_ratings\",\n",
        "        \"query\": \"select asin as product_id, title, price from products limit 10000\"\n",
        "      },\n",
        "      \"features\": [\n",
        "        {\n",
        "          \"name\":\"title\",\n",
        "          \"type\":\"Text\"\n",
        "        },\n",
        "        {\n",
        "          \"name\":\"price\",\n",
        "          \"type\":\"Numerical\"\n",
        "        }\n",
        "      ]\n",
        "    },\n",
        "    \"interaction\": {\n",
        "      \"created_at\": \"review_time\",\n",
        "      \"label\": {\n",
        "        \"name\": \"overall\",\n",
        "        \"type\": \"Rating\"\n",
        "      },\n",
        "      \"source\": {\n",
        "        \"connector_id\": \"postgres_amazon_ratings\",\n",
        "        \"query\": \"select reviewer_id, asin as product_id, overall::float, review_time from ratings limit 1000000\"\n",
        "      }\n",
        "    }\n",
        "  }\n",
        "})\n",
        "\n",
        "headers = {\n",
        "  'x-api-key': SHAPED_API_KEY,\n",
        "  'Content-Type': 'application/json'\n",
        "}\n",
        "\n",
        "response = requests.request(\"POST\", f\"{SHAPED_BASE_URL}/models\", headers=headers, data=payload)\n",
        "\n",
        "print(response.status_code)\n",
        "assert response.status_code==200\n",
        "print(json.dumps(json.loads(response.content), indent=2))"
      ]
    },
    {
      "cell_type": "markdown",
      "id": "dadbd93c",
      "metadata": {},
      "source": [
        "### Rank!"
      ]
    },
    {
      "cell_type": "markdown",
      "id": "e49527b3",
      "metadata": {},
      "source": [
        "After we make the `POST` call to `/models`, we can make a [`GET` call to `/models`](https://docs.shaped.ai/reference/list-models) to see our newly created model. "
      ]
    },
    {
      "cell_type": "code",
      "execution_count": null,
      "id": "056ccb28",
      "metadata": {},
      "outputs": [],
      "source": [
        "response = requests.get(\n",
        "    f\"{SHAPED_BASE_URL}/models\",\n",
        "    headers={\n",
        "        \"x-api-key\": SHAPED_API_KEY,\n",
        "        \"Content-Type\":\"application/json\"\n",
        "    }\n",
        ")\n",
        "print(json.dumps(json.loads(response.content), indent=2))"
      ]
    },
    {
      "cell_type": "markdown",
      "id": "aba28ff9",
      "metadata": {},
      "source": [
        "You'll notice the `\"status\"` of the model you just created is most likely `\"SCHEDULING\"`. This means that the initial training job hasn't completed yet. The amount of time it takes will be dependent on the amount of data. Feel free to keep querying the `/models` endpoint to check the status of your model. When it is ready, the `\"status\"` will be `\"ACTIVE\"`. The different states are listed in detail on the [model details endpoint](https://docs.shaped.ai/reference/model-details)."
      ]
    },
    {
      "cell_type": "markdown",
      "id": "c13c059c",
      "metadata": {},
      "source": [
        "Once your model is ready, (`\"status\": \"ACTIVE\"`), you can hit the [rank endpoint](https://docs.shaped.ai/reference/rank)!\n",
        "\n",
        "Remember, `user_id` is the id of the User you want to fetch rankings for. You can also add an optional query param, `limit`, which will inform how many results to return (with the default being 15)."
      ]
    },
    {
      "cell_type": "code",
      "execution_count": 22,
      "id": "4b0b8a55",
      "metadata": {},
      "outputs": [
        {
          "name": "stdout",
          "output_type": "stream",
          "text": [
            "[\n",
            "  \"0002007770\",\n",
            "  \"000100039X\",\n",
            "  \"0002051850\",\n",
            "  \"0002219417\",\n",
            "  \"0000031887\",\n",
            "  \"0002185385\",\n",
            "  \"000222383X\",\n",
            "  \"000215725X\",\n",
            "  \"0002113570\",\n",
            "  \"000215949X\",\n",
            "  \"000171287X\",\n",
            "  \"0001473123\",\n",
            "  \"0002226618\",\n",
            "  \"0002008572\",\n",
            "  \"0001712772\"\n",
            "]\n"
          ]
        }
      ],
      "source": [
        "response = requests.get(\n",
        "    f\"{SHAPED_BASE_URL}/models/{model_name}/rank?user_id=1\",\n",
        "    headers={\n",
        "        \"x-api-key\": SHAPED_API_KEY,\n",
        "        \"Content-Type\":\"application/json\"\n",
        "    }\n",
        ")\n",
        "print(json.dumps(json.loads(response.content), indent=2))"
      ]
    },
    {
      "cell_type": "markdown",
      "id": "fe85ba97",
      "metadata": {},
      "source": [
        "Wow! It was that easy to see the top ranked items for the passed in `user_id` 🍾. Now let's add ranking to your product :)"
      ]
    },
    {
      "cell_type": "markdown",
      "id": "b4076a9d",
      "metadata": {},
      "source": [
        "### Clean Up"
      ]
    },
    {
      "cell_type": "markdown",
      "id": "1d7a7749",
      "metadata": {},
      "source": [
        "__The below code should ONLY be run if you want to delete the model with `model_name`.__"
      ]
    },
    {
      "cell_type": "code",
      "execution_count": null,
      "id": "1a6e7171",
      "metadata": {},
      "outputs": [],
      "source": [
        "response = requests.delete(\n",
        "    f\"{SHAPED_BASE_URL}/models/{model_name}\",\n",
        "    headers={\n",
        "        \"x-api-key\": SHAPED_API_KEY,\n",
        "        \"Content-Type\":\"application/json\"\n",
        "    }\n",
        ")\n",
        "print(json.dumps(json.loads(response.content), indent=2))"
      ]
    }
  ],
  "metadata": {
    "kernelspec": {
      "display_name": "Python 3.9.7 64-bit ('3.9.7')",
      "language": "python",
      "name": "python3"
    },
    "language_info": {
      "codemirror_mode": {
        "name": "ipython",
        "version": 3
      },
      "file_extension": ".py",
      "mimetype": "text/x-python",
      "name": "python",
      "nbconvert_exporter": "python",
      "pygments_lexer": "ipython3",
      "version": "3.9.7"
    },
    "vscode": {
      "interpreter": {
        "hash": "0b44e4781a6c64c51f3bdf3556394945d11717f80d0074cbe7ef58820138c81c"
      }
    }
  },
  "nbformat": 4,
  "nbformat_minor": 5
}
